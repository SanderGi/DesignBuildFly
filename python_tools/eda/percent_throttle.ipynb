{
 "cells": [
  {
   "cell_type": "code",
   "execution_count": 1,
   "metadata": {},
   "outputs": [],
   "source": [
    "from __future__ import annotations\n",
    "import zipfile\n",
    "import pandas as pd\n",
    "import os\n",
    "from io import StringIO\n",
    "import matplotlib.pyplot as plt"
   ]
  },
  {
   "cell_type": "code",
   "execution_count": 2,
   "metadata": {},
   "outputs": [],
   "source": [
    "MAIN_DIR = \"/Users/alex/Desktop/CS/Internships and Research/DBF/python_tools/data/thrustStand/11_2_2023\"\n",
    "DATA_ZIP = MAIN_DIR + \"/merged.zip\""
   ]
  },
  {
   "cell_type": "code",
   "execution_count": 6,
   "metadata": {},
   "outputs": [
    {
     "name": "stdout",
     "output_type": "stream",
     "text": [
      "merged/AT7215_16x16_12s_FC.csv\n"
     ]
    }
   ],
   "source": [
    "min_throttle = 1065\n",
    "max_throttle = 2011\n",
    "with zipfile.ZipFile(DATA_ZIP) as z:\n",
    "    for name in z.namelist():\n",
    "        if name.endswith('.csv') and not name.startswith(\"__MACOSX\"):\n",
    "            print(name)\n",
    "            data = z.read(name)\n",
    "            df = pd.read_csv(StringIO(data.decode('utf-8'))).drop(columns=['Unnamed: 0'])\n",
    "            df[\"percent_throttle\"] = (df[\"throttle\"] - min_throttle) / (max_throttle - min_throttle) * 100\n",
    "            # group by ranges of percent throttle and average the other values\n",
    "            df = df[['thrust (g)', 'escRPM', 'current', 'voltage', 'percent_throttle']].groupby(pd.cut(df[\"percent_throttle\"], bins=range(0, 110, 10))).mean()\n",
    "            df.to_csv(MAIN_DIR + \"/throttle_percent_\" + name.split('/')[-1])"
   ]
  }
 ],
 "metadata": {
  "kernelspec": {
   "display_name": "Python 3",
   "language": "python",
   "name": "python3"
  },
  "language_info": {
   "codemirror_mode": {
    "name": "ipython",
    "version": 3
   },
   "file_extension": ".py",
   "mimetype": "text/x-python",
   "name": "python",
   "nbconvert_exporter": "python",
   "pygments_lexer": "ipython3",
   "version": "3.8.10"
  }
 },
 "nbformat": 4,
 "nbformat_minor": 2
}
