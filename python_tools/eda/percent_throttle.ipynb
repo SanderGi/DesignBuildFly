{
 "cells": [
  {
   "cell_type": "code",
   "execution_count": 1,
   "metadata": {},
   "outputs": [],
   "source": [
    "from __future__ import annotations\n",
    "import zipfile\n",
    "import pandas as pd\n",
    "import os\n",
    "from io import StringIO\n",
    "import matplotlib.pyplot as plt"
   ]
  },
  {
   "cell_type": "code",
   "execution_count": 18,
   "metadata": {},
   "outputs": [
    {
     "name": "stdout",
     "output_type": "stream",
     "text": [
      "merged/AT7215_16x10x3_12s.csv\n",
      "merged/AT7215_14x13x3_12s.csv\n",
      "merged/AT7215_15x13.csv\n",
      "merged/AT7215_18x14_12s.csv\n",
      "merged/AT7215_16x14XOR_12s_Run_3.csv\n",
      "merged/AT7215_19x10_12s.csv\n",
      "merged/AT7215_16x16_8s.csv\n",
      "merged/AT7215_15x14x3_12s.csv\n",
      "merged/AT7215_16x12_12s.csv\n",
      "merged/AT7215_17x12_8s.csv\n",
      "merged/AT5330_16x10x3_12s.csv\n",
      "merged/AT7215_18x12_12s.csv\n",
      "merged/AT7215_16x16_12s.csv\n",
      "merged/AT5330_14x13x3_12s.csv\n",
      "merged/AT7215_16x14_12s.csv\n",
      "merged/AT7215_17x12_12s.csv\n",
      "merged/AT5330_15x14x3_12s.csv\n"
     ]
    }
   ],
   "source": [
    "min_throttle = 1065\n",
    "max_throttle = 2011\n",
    "with zipfile.ZipFile('/Users/alex/Desktop/CS/Internships and Research/DBF/python_tools/data/thrustStand/10_22_2023/merged.zip') as z:\n",
    "    for name in z.namelist():\n",
    "        if name.endswith('.csv'):\n",
    "            print(name)\n",
    "            data = z.read(name)\n",
    "            df = pd.read_csv(StringIO(data.decode('utf-8'))).drop(columns=['Unnamed: 0'])\n",
    "            df[\"percent_throttle\"] = (df[\"throttle\"] - min_throttle) / (max_throttle - min_throttle) * 100\n",
    "            # group by ranges of percent throttle and average the other values\n",
    "            df = df[['thrust (g)', 'correctedRPM', 'current', 'voltage', 'percent_throttle']].groupby(pd.cut(df[\"percent_throttle\"], bins=range(0, 110, 10))).mean()\n",
    "            df.to_csv('/Users/alex/Desktop/CS/Internships and Research/DBF/python_tools/data/thrustStand/10_22_2023/throttle_percent/' + name.split('/')[-1])"
   ]
  }
 ],
 "metadata": {
  "kernelspec": {
   "display_name": "Python 3",
   "language": "python",
   "name": "python3"
  },
  "language_info": {
   "codemirror_mode": {
    "name": "ipython",
    "version": 3
   },
   "file_extension": ".py",
   "mimetype": "text/x-python",
   "name": "python",
   "nbconvert_exporter": "python",
   "pygments_lexer": "ipython3",
   "version": "3.8.10"
  }
 },
 "nbformat": 4,
 "nbformat_minor": 2
}
