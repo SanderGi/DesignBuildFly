{
 "cells": [
  {
   "cell_type": "code",
   "execution_count": 1,
   "metadata": {},
   "outputs": [],
   "source": [
    "from __future__ import annotations"
   ]
  },
  {
   "cell_type": "code",
   "execution_count": 2,
   "metadata": {},
   "outputs": [],
   "source": [
    "import sys\n",
    "sys.path.append('/Users/alex/Desktop/CS/Internships and Research/DBF/python_tools/')\n",
    "from util.blackbox import decode_blackbox\n",
    "from util.thrust import decode_thrust"
   ]
  },
  {
   "cell_type": "code",
   "execution_count": 3,
   "metadata": {},
   "outputs": [],
   "source": [
    "import zipfile\n",
    "import pandas as pd\n",
    "import os\n",
    "from io import StringIO\n",
    "import matplotlib.pyplot as plt"
   ]
  },
  {
   "cell_type": "code",
   "execution_count": 30,
   "metadata": {},
   "outputs": [],
   "source": [
    "MAIN_DIR = \"/Users/alex/Desktop/CS/Internships and Research/DBF/python_tools/data/thrustStand/11_2_2023\"\n",
    "LOGS_DIR = MAIN_DIR + \"/LOGS\"\n",
    "THRUST_ZIP = MAIN_DIR + \"/THRUST.zip\""
   ]
  },
  {
   "cell_type": "code",
   "execution_count": 7,
   "metadata": {},
   "outputs": [
    {
     "name": "stdout",
     "output_type": "stream",
     "text": [
      "   loopIteration  time (us)                     dateTime  axisRate[0]  \\\n",
      "0           4736   34373863  2041-06-28T01:04:34.373863Z            0   \n",
      "1           4768   34405925  2041-06-28T01:04:34.405925Z            0   \n",
      "2           4772   34409938  2041-06-28T01:04:34.409938Z            0   \n",
      "3           4776   34413941  2041-06-28T01:04:34.413941Z            0   \n",
      "4           4780   34417947  2041-06-28T01:04:34.417947Z            0   \n",
      "\n",
      "   axisRate[1]  axisRate[2]  axisP[0]  axisP[1]  axisP[2]  axisI[0]  ...  \\\n",
      "0            0            0         0         0         0         0  ...   \n",
      "1            0            0         0         0         0         0  ...   \n",
      "2            0            0         0         0         0         0  ...   \n",
      "3            0            0         0         0         0         0  ...   \n",
      "4            0            0         0         0         0         0  ...   \n",
      "\n",
      "   sens1Temp  sens2Temp  sens3Temp  sens4Temp  sens5Temp  sens6Temp  \\\n",
      "0      -1250      -1250      -1250      -1250      -1250      -1250   \n",
      "1      -1250      -1250      -1250      -1250      -1250      -1250   \n",
      "2      -1250      -1250      -1250      -1250      -1250      -1250   \n",
      "3      -1250      -1250      -1250      -1250      -1250      -1250   \n",
      "4      -1250      -1250      -1250      -1250      -1250      -1250   \n",
      "\n",
      "   sens7Temp  escRPM  escTemperature  rxUpdateRate  \n",
      "0      -1250       0              26           142  \n",
      "1      -1250       0              26           142  \n",
      "2      -1250       0              26           142  \n",
      "3      -1250       0              26           142  \n",
      "4      -1250       0              26           142  \n",
      "\n",
      "[5 rows x 106 columns]\n"
     ]
    },
    {
     "name": "stderr",
     "output_type": "stream",
     "text": [
      "\n",
      "Log 1 of 1, start 00:34.373, end 01:32.062, duration 00:57.688\n",
      "\n",
      "Statistics\n",
      "Looptime           1001 avg            1.1 std dev (0.1%)\n",
      "I frames    1800  101.1 bytes avg   181926 bytes total\n",
      "P frames   12583   69.7 bytes avg   876926 bytes total\n",
      "E frames       2    7.0 bytes avg       14 bytes total\n",
      "S frames     548   41.6 bytes avg    22820 bytes total\n",
      "Frames     14383   73.6 bytes avg  1058852 bytes total\n",
      "Data rate  249Hz  18828 bytes/s     188300 baud\n",
      "\n",
      "4 frames failed to decode, rendering 12 loop iterations unreadable. 12 iterations are missing in total (12ms, 0.02%)\n",
      "43182 loop iterations weren't logged because of your blackbox_rate settings (43265ms, 75.00%)\n",
      "\n"
     ]
    }
   ],
   "source": [
    "log_dfs: dict[str, pd.DataFrame] = dict()\n",
    "\n",
    "for filename in os.listdir(LOGS_DIR):\n",
    "    f = os.path.join(LOGS_DIR, filename)\n",
    "    \n",
    "    name = f.split('/')[-1].split('.')[0]\n",
    "\n",
    "    log_dfs[name] = decode_blackbox(f)"
   ]
  },
  {
   "cell_type": "code",
   "execution_count": 10,
   "metadata": {},
   "outputs": [
    {
     "data": {
      "text/html": [
       "<div>\n",
       "<style scoped>\n",
       "    .dataframe tbody tr th:only-of-type {\n",
       "        vertical-align: middle;\n",
       "    }\n",
       "\n",
       "    .dataframe tbody tr th {\n",
       "        vertical-align: top;\n",
       "    }\n",
       "\n",
       "    .dataframe thead th {\n",
       "        text-align: right;\n",
       "    }\n",
       "</style>\n",
       "<table border=\"1\" class=\"dataframe\">\n",
       "  <thead>\n",
       "    <tr style=\"text-align: right;\">\n",
       "      <th></th>\n",
       "      <th>loopIteration</th>\n",
       "      <th>time (us)</th>\n",
       "      <th>dateTime</th>\n",
       "      <th>axisRate[0]</th>\n",
       "      <th>axisRate[1]</th>\n",
       "      <th>axisRate[2]</th>\n",
       "      <th>axisP[0]</th>\n",
       "      <th>axisP[1]</th>\n",
       "      <th>axisP[2]</th>\n",
       "      <th>axisI[0]</th>\n",
       "      <th>...</th>\n",
       "      <th>sens1Temp</th>\n",
       "      <th>sens2Temp</th>\n",
       "      <th>sens3Temp</th>\n",
       "      <th>sens4Temp</th>\n",
       "      <th>sens5Temp</th>\n",
       "      <th>sens6Temp</th>\n",
       "      <th>sens7Temp</th>\n",
       "      <th>escRPM</th>\n",
       "      <th>escTemperature</th>\n",
       "      <th>rxUpdateRate</th>\n",
       "    </tr>\n",
       "  </thead>\n",
       "  <tbody>\n",
       "    <tr>\n",
       "      <th>0</th>\n",
       "      <td>4736</td>\n",
       "      <td>34373863</td>\n",
       "      <td>2041-06-28T01:04:34.373863Z</td>\n",
       "      <td>0</td>\n",
       "      <td>0</td>\n",
       "      <td>0</td>\n",
       "      <td>0</td>\n",
       "      <td>0</td>\n",
       "      <td>0</td>\n",
       "      <td>0</td>\n",
       "      <td>...</td>\n",
       "      <td>-1250</td>\n",
       "      <td>-1250</td>\n",
       "      <td>-1250</td>\n",
       "      <td>-1250</td>\n",
       "      <td>-1250</td>\n",
       "      <td>-1250</td>\n",
       "      <td>-1250</td>\n",
       "      <td>0</td>\n",
       "      <td>26</td>\n",
       "      <td>142</td>\n",
       "    </tr>\n",
       "    <tr>\n",
       "      <th>1</th>\n",
       "      <td>4768</td>\n",
       "      <td>34405925</td>\n",
       "      <td>2041-06-28T01:04:34.405925Z</td>\n",
       "      <td>0</td>\n",
       "      <td>0</td>\n",
       "      <td>0</td>\n",
       "      <td>0</td>\n",
       "      <td>0</td>\n",
       "      <td>0</td>\n",
       "      <td>0</td>\n",
       "      <td>...</td>\n",
       "      <td>-1250</td>\n",
       "      <td>-1250</td>\n",
       "      <td>-1250</td>\n",
       "      <td>-1250</td>\n",
       "      <td>-1250</td>\n",
       "      <td>-1250</td>\n",
       "      <td>-1250</td>\n",
       "      <td>0</td>\n",
       "      <td>26</td>\n",
       "      <td>142</td>\n",
       "    </tr>\n",
       "    <tr>\n",
       "      <th>2</th>\n",
       "      <td>4772</td>\n",
       "      <td>34409938</td>\n",
       "      <td>2041-06-28T01:04:34.409938Z</td>\n",
       "      <td>0</td>\n",
       "      <td>0</td>\n",
       "      <td>0</td>\n",
       "      <td>0</td>\n",
       "      <td>0</td>\n",
       "      <td>0</td>\n",
       "      <td>0</td>\n",
       "      <td>...</td>\n",
       "      <td>-1250</td>\n",
       "      <td>-1250</td>\n",
       "      <td>-1250</td>\n",
       "      <td>-1250</td>\n",
       "      <td>-1250</td>\n",
       "      <td>-1250</td>\n",
       "      <td>-1250</td>\n",
       "      <td>0</td>\n",
       "      <td>26</td>\n",
       "      <td>142</td>\n",
       "    </tr>\n",
       "    <tr>\n",
       "      <th>3</th>\n",
       "      <td>4776</td>\n",
       "      <td>34413941</td>\n",
       "      <td>2041-06-28T01:04:34.413941Z</td>\n",
       "      <td>0</td>\n",
       "      <td>0</td>\n",
       "      <td>0</td>\n",
       "      <td>0</td>\n",
       "      <td>0</td>\n",
       "      <td>0</td>\n",
       "      <td>0</td>\n",
       "      <td>...</td>\n",
       "      <td>-1250</td>\n",
       "      <td>-1250</td>\n",
       "      <td>-1250</td>\n",
       "      <td>-1250</td>\n",
       "      <td>-1250</td>\n",
       "      <td>-1250</td>\n",
       "      <td>-1250</td>\n",
       "      <td>0</td>\n",
       "      <td>26</td>\n",
       "      <td>142</td>\n",
       "    </tr>\n",
       "    <tr>\n",
       "      <th>4</th>\n",
       "      <td>4780</td>\n",
       "      <td>34417947</td>\n",
       "      <td>2041-06-28T01:04:34.417947Z</td>\n",
       "      <td>0</td>\n",
       "      <td>0</td>\n",
       "      <td>0</td>\n",
       "      <td>0</td>\n",
       "      <td>0</td>\n",
       "      <td>0</td>\n",
       "      <td>0</td>\n",
       "      <td>...</td>\n",
       "      <td>-1250</td>\n",
       "      <td>-1250</td>\n",
       "      <td>-1250</td>\n",
       "      <td>-1250</td>\n",
       "      <td>-1250</td>\n",
       "      <td>-1250</td>\n",
       "      <td>-1250</td>\n",
       "      <td>0</td>\n",
       "      <td>26</td>\n",
       "      <td>142</td>\n",
       "    </tr>\n",
       "  </tbody>\n",
       "</table>\n",
       "<p>5 rows × 106 columns</p>\n",
       "</div>"
      ],
      "text/plain": [
       "   loopIteration  time (us)                     dateTime  axisRate[0]  \\\n",
       "0           4736   34373863  2041-06-28T01:04:34.373863Z            0   \n",
       "1           4768   34405925  2041-06-28T01:04:34.405925Z            0   \n",
       "2           4772   34409938  2041-06-28T01:04:34.409938Z            0   \n",
       "3           4776   34413941  2041-06-28T01:04:34.413941Z            0   \n",
       "4           4780   34417947  2041-06-28T01:04:34.417947Z            0   \n",
       "\n",
       "   axisRate[1]  axisRate[2]  axisP[0]  axisP[1]  axisP[2]  axisI[0]  ...  \\\n",
       "0            0            0         0         0         0         0  ...   \n",
       "1            0            0         0         0         0         0  ...   \n",
       "2            0            0         0         0         0         0  ...   \n",
       "3            0            0         0         0         0         0  ...   \n",
       "4            0            0         0         0         0         0  ...   \n",
       "\n",
       "   sens1Temp  sens2Temp  sens3Temp  sens4Temp  sens5Temp  sens6Temp  \\\n",
       "0      -1250      -1250      -1250      -1250      -1250      -1250   \n",
       "1      -1250      -1250      -1250      -1250      -1250      -1250   \n",
       "2      -1250      -1250      -1250      -1250      -1250      -1250   \n",
       "3      -1250      -1250      -1250      -1250      -1250      -1250   \n",
       "4      -1250      -1250      -1250      -1250      -1250      -1250   \n",
       "\n",
       "   sens7Temp  escRPM  escTemperature  rxUpdateRate  \n",
       "0      -1250       0              26           142  \n",
       "1      -1250       0              26           142  \n",
       "2      -1250       0              26           142  \n",
       "3      -1250       0              26           142  \n",
       "4      -1250       0              26           142  \n",
       "\n",
       "[5 rows x 106 columns]"
      ]
     },
     "metadata": {},
     "output_type": "display_data"
    },
    {
     "data": {
      "text/html": [
       "<div>\n",
       "<style scoped>\n",
       "    .dataframe tbody tr th:only-of-type {\n",
       "        vertical-align: middle;\n",
       "    }\n",
       "\n",
       "    .dataframe tbody tr th {\n",
       "        vertical-align: top;\n",
       "    }\n",
       "\n",
       "    .dataframe thead th {\n",
       "        text-align: right;\n",
       "    }\n",
       "</style>\n",
       "<table border=\"1\" class=\"dataframe\">\n",
       "  <thead>\n",
       "    <tr style=\"text-align: right;\">\n",
       "      <th></th>\n",
       "      <th>loopIteration</th>\n",
       "      <th>time (us)</th>\n",
       "      <th>dateTime</th>\n",
       "      <th>axisRate[0]</th>\n",
       "      <th>axisRate[1]</th>\n",
       "      <th>axisRate[2]</th>\n",
       "      <th>axisP[0]</th>\n",
       "      <th>axisP[1]</th>\n",
       "      <th>axisP[2]</th>\n",
       "      <th>axisI[0]</th>\n",
       "      <th>...</th>\n",
       "      <th>sens1Temp</th>\n",
       "      <th>sens2Temp</th>\n",
       "      <th>sens3Temp</th>\n",
       "      <th>sens4Temp</th>\n",
       "      <th>sens5Temp</th>\n",
       "      <th>sens6Temp</th>\n",
       "      <th>sens7Temp</th>\n",
       "      <th>escRPM</th>\n",
       "      <th>escTemperature</th>\n",
       "      <th>rxUpdateRate</th>\n",
       "    </tr>\n",
       "  </thead>\n",
       "  <tbody>\n",
       "    <tr>\n",
       "      <th>14378</th>\n",
       "      <td>62296</td>\n",
       "      <td>92046351</td>\n",
       "      <td>2041-06-28T01:05:32.046351Z</td>\n",
       "      <td>0</td>\n",
       "      <td>0</td>\n",
       "      <td>0</td>\n",
       "      <td>0</td>\n",
       "      <td>0</td>\n",
       "      <td>0</td>\n",
       "      <td>-9</td>\n",
       "      <td>...</td>\n",
       "      <td>-1250</td>\n",
       "      <td>-1250</td>\n",
       "      <td>-1250</td>\n",
       "      <td>-1250</td>\n",
       "      <td>-1250</td>\n",
       "      <td>-1250</td>\n",
       "      <td>-1250</td>\n",
       "      <td>0</td>\n",
       "      <td>66</td>\n",
       "      <td>142</td>\n",
       "    </tr>\n",
       "    <tr>\n",
       "      <th>14379</th>\n",
       "      <td>62300</td>\n",
       "      <td>92050360</td>\n",
       "      <td>2041-06-28T01:05:32.050360Z</td>\n",
       "      <td>0</td>\n",
       "      <td>0</td>\n",
       "      <td>0</td>\n",
       "      <td>0</td>\n",
       "      <td>0</td>\n",
       "      <td>0</td>\n",
       "      <td>-9</td>\n",
       "      <td>...</td>\n",
       "      <td>-1250</td>\n",
       "      <td>-1250</td>\n",
       "      <td>-1250</td>\n",
       "      <td>-1250</td>\n",
       "      <td>-1250</td>\n",
       "      <td>-1250</td>\n",
       "      <td>-1250</td>\n",
       "      <td>0</td>\n",
       "      <td>66</td>\n",
       "      <td>142</td>\n",
       "    </tr>\n",
       "    <tr>\n",
       "      <th>14380</th>\n",
       "      <td>62304</td>\n",
       "      <td>92054362</td>\n",
       "      <td>2041-06-28T01:05:32.054362Z</td>\n",
       "      <td>0</td>\n",
       "      <td>0</td>\n",
       "      <td>0</td>\n",
       "      <td>0</td>\n",
       "      <td>0</td>\n",
       "      <td>0</td>\n",
       "      <td>-9</td>\n",
       "      <td>...</td>\n",
       "      <td>-1250</td>\n",
       "      <td>-1250</td>\n",
       "      <td>-1250</td>\n",
       "      <td>-1250</td>\n",
       "      <td>-1250</td>\n",
       "      <td>-1250</td>\n",
       "      <td>-1250</td>\n",
       "      <td>0</td>\n",
       "      <td>66</td>\n",
       "      <td>142</td>\n",
       "    </tr>\n",
       "    <tr>\n",
       "      <th>14381</th>\n",
       "      <td>62308</td>\n",
       "      <td>92058371</td>\n",
       "      <td>2041-06-28T01:05:32.058371Z</td>\n",
       "      <td>0</td>\n",
       "      <td>0</td>\n",
       "      <td>0</td>\n",
       "      <td>0</td>\n",
       "      <td>0</td>\n",
       "      <td>0</td>\n",
       "      <td>-9</td>\n",
       "      <td>...</td>\n",
       "      <td>-1250</td>\n",
       "      <td>-1250</td>\n",
       "      <td>-1250</td>\n",
       "      <td>-1250</td>\n",
       "      <td>-1250</td>\n",
       "      <td>-1250</td>\n",
       "      <td>-1250</td>\n",
       "      <td>0</td>\n",
       "      <td>66</td>\n",
       "      <td>142</td>\n",
       "    </tr>\n",
       "    <tr>\n",
       "      <th>14382</th>\n",
       "      <td>62312</td>\n",
       "      <td>92062381</td>\n",
       "      <td>2041-06-28T01:05:32.062381Z</td>\n",
       "      <td>0</td>\n",
       "      <td>0</td>\n",
       "      <td>0</td>\n",
       "      <td>0</td>\n",
       "      <td>0</td>\n",
       "      <td>0</td>\n",
       "      <td>-9</td>\n",
       "      <td>...</td>\n",
       "      <td>-1250</td>\n",
       "      <td>-1250</td>\n",
       "      <td>-1250</td>\n",
       "      <td>-1250</td>\n",
       "      <td>-1250</td>\n",
       "      <td>-1250</td>\n",
       "      <td>-1250</td>\n",
       "      <td>0</td>\n",
       "      <td>66</td>\n",
       "      <td>142</td>\n",
       "    </tr>\n",
       "  </tbody>\n",
       "</table>\n",
       "<p>5 rows × 106 columns</p>\n",
       "</div>"
      ],
      "text/plain": [
       "       loopIteration  time (us)                     dateTime  axisRate[0]  \\\n",
       "14378          62296   92046351  2041-06-28T01:05:32.046351Z            0   \n",
       "14379          62300   92050360  2041-06-28T01:05:32.050360Z            0   \n",
       "14380          62304   92054362  2041-06-28T01:05:32.054362Z            0   \n",
       "14381          62308   92058371  2041-06-28T01:05:32.058371Z            0   \n",
       "14382          62312   92062381  2041-06-28T01:05:32.062381Z            0   \n",
       "\n",
       "       axisRate[1]  axisRate[2]  axisP[0]  axisP[1]  axisP[2]  axisI[0]  ...  \\\n",
       "14378            0            0         0         0         0        -9  ...   \n",
       "14379            0            0         0         0         0        -9  ...   \n",
       "14380            0            0         0         0         0        -9  ...   \n",
       "14381            0            0         0         0         0        -9  ...   \n",
       "14382            0            0         0         0         0        -9  ...   \n",
       "\n",
       "       sens1Temp  sens2Temp  sens3Temp  sens4Temp  sens5Temp  sens6Temp  \\\n",
       "14378      -1250      -1250      -1250      -1250      -1250      -1250   \n",
       "14379      -1250      -1250      -1250      -1250      -1250      -1250   \n",
       "14380      -1250      -1250      -1250      -1250      -1250      -1250   \n",
       "14381      -1250      -1250      -1250      -1250      -1250      -1250   \n",
       "14382      -1250      -1250      -1250      -1250      -1250      -1250   \n",
       "\n",
       "       sens7Temp  escRPM  escTemperature  rxUpdateRate  \n",
       "14378      -1250       0              66           142  \n",
       "14379      -1250       0              66           142  \n",
       "14380      -1250       0              66           142  \n",
       "14381      -1250       0              66           142  \n",
       "14382      -1250       0              66           142  \n",
       "\n",
       "[5 rows x 106 columns]"
      ]
     },
     "metadata": {},
     "output_type": "display_data"
    }
   ],
   "source": [
    "df = list(log_dfs.values())[0]\n",
    "display(df.head())\n",
    "display(df.tail())"
   ]
  },
  {
   "cell_type": "code",
   "execution_count": 11,
   "metadata": {},
   "outputs": [
    {
     "data": {
      "text/plain": [
       "0       2023-11-03 07:40:34.823066+00:00\n",
       "1       2023-11-03 07:40:34.855143+00:00\n",
       "2       2023-11-03 07:40:34.859160+00:00\n",
       "3       2023-11-03 07:40:34.863166+00:00\n",
       "4       2023-11-03 07:40:34.867174+00:00\n",
       "                      ...               \n",
       "14378   2023-11-03 07:41:32.533061+00:00\n",
       "14379   2023-11-03 07:41:32.537073+00:00\n",
       "14380   2023-11-03 07:41:32.541077+00:00\n",
       "14381   2023-11-03 07:41:32.545089+00:00\n",
       "14382   2023-11-03 07:41:32.549102+00:00\n",
       "Length: 14383, dtype: datetime64[ns, UTC]"
      ]
     },
     "execution_count": 11,
     "metadata": {},
     "output_type": "execute_result"
    }
   ],
   "source": [
    "from datetime import datetime, timedelta, timezone\n",
    "def to_datetime(timestamp: int, epoch = None) -> datetime:\n",
    "    epoch = epoch or datetime.now(timezone.utc)\n",
    "    cookie_microseconds_since_epoch = timestamp\n",
    "    cookie_datetime = epoch + timedelta(microseconds=cookie_microseconds_since_epoch)\n",
    "    return cookie_datetime\n",
    "df.apply(lambda row: to_datetime(row['time (us)']), axis=1)"
   ]
  },
  {
   "cell_type": "code",
   "execution_count": 17,
   "metadata": {},
   "outputs": [
    {
     "name": "stdout",
     "output_type": "stream",
     "text": [
      "Thrust/AT7215_16x16_12s_FC_Thrust.txt\n"
     ]
    }
   ],
   "source": [
    "run_dfs: dict[str, pd.DataFrame] = dict()\n",
    "with zipfile.ZipFile(THRUST_ZIP, \"r\") as zip_ref:\n",
    "    for run in zip_ref.namelist():\n",
    "        if run.endswith(\".stc\") or run.endswith(\"Notes.txt\") or not run.endswith(\".txt\") or run.startswith(\"__MACOSX\"):\n",
    "            continue\n",
    "        print(run)\n",
    "        text = zip_ref.read(run).decode()\n",
    "        text = text.split('HX711 startup is complete')[1]\n",
    "        text = \"loopIteration,thrust (g)\\n\" + text\n",
    "        df = pd.read_csv(StringIO(text))\n",
    "        df[\"thrust (g)\"] *= -1\n",
    "        if \"/\" in run:\n",
    "            parts = run.split(\"/\")\n",
    "            run = parts[-1]\n",
    "        run_config_parts = run.split(\"_\")\n",
    "        motor = run_config_parts[0]\n",
    "        prop = run_config_parts[1]\n",
    "        battery = run_config_parts[2].split(\".\")[0]\n",
    "        df['motor'] = motor\n",
    "        df['prop'] = prop\n",
    "        df['battery'] = battery\n",
    "        run_dfs[run.split(\".\")[0].replace(\"run\", \"Run\")] = df"
   ]
  },
  {
   "cell_type": "code",
   "execution_count": 18,
   "metadata": {},
   "outputs": [
    {
     "data": {
      "text/plain": [
       "dict_keys(['AT7215_16x16_12s_FC_Thrust'])"
      ]
     },
     "execution_count": 18,
     "metadata": {},
     "output_type": "execute_result"
    }
   ],
   "source": [
    "run_dfs.keys()"
   ]
  },
  {
   "cell_type": "code",
   "execution_count": 19,
   "metadata": {},
   "outputs": [
    {
     "data": {
      "text/plain": [
       "dict_keys(['AT7215_16x16_12s_FC_iNAV'])"
      ]
     },
     "execution_count": 19,
     "metadata": {},
     "output_type": "execute_result"
    }
   ],
   "source": [
    "log_dfs.keys()"
   ]
  },
  {
   "cell_type": "code",
   "execution_count": 23,
   "metadata": {},
   "outputs": [
    {
     "data": {
      "text/plain": [
       "set()"
      ]
     },
     "execution_count": 23,
     "metadata": {},
     "output_type": "execute_result"
    }
   ],
   "source": [
    "set.symmetric_difference(set(run_dfs.keys()), set(log_dfs.keys()))"
   ]
  },
  {
   "cell_type": "code",
   "execution_count": 24,
   "metadata": {},
   "outputs": [
    {
     "data": {
      "text/plain": [
       "{'AT7215_16x16_12s_FC'}"
      ]
     },
     "execution_count": 24,
     "metadata": {},
     "output_type": "execute_result"
    }
   ],
   "source": [
    "set.intersection(set(run_dfs.keys()), set(log_dfs.keys()))"
   ]
  },
  {
   "cell_type": "code",
   "execution_count": 22,
   "metadata": {},
   "outputs": [],
   "source": [
    "run_dfs['AT7215_16x16_12s_FC'] = run_dfs.pop('AT7215_16x16_12s_FC_Thrust')\n",
    "log_dfs['AT7215_16x16_12s_FC'] = log_dfs.pop('AT7215_16x16_12s_FC_iNAV')"
   ]
  },
  {
   "cell_type": "code",
   "execution_count": 25,
   "metadata": {},
   "outputs": [],
   "source": [
    "runs = {\n",
    "    \"AT7215_16x16_12s_FC\",\n",
    "}"
   ]
  },
  {
   "cell_type": "code",
   "execution_count": 26,
   "metadata": {},
   "outputs": [
    {
     "data": {
      "text/plain": [
       "<Axes: >"
      ]
     },
     "execution_count": 26,
     "metadata": {},
     "output_type": "execute_result"
    },
    {
     "data": {
      "image/png": "[encoded data removed]",
      "text/plain": [
       "<Figure size 640x480 with 1 Axes>"
      ]
     },
     "metadata": {},
     "output_type": "display_data"
    }
   ],
   "source": [
    "log_dfs['AT7215_16x16_12s_FC']['escRPM'].plot()"
   ]
  },
  {
   "cell_type": "code",
   "execution_count": 28,
   "metadata": {},
   "outputs": [
    {
     "name": "stderr",
     "output_type": "stream",
     "text": [
      "/var/folders/gz/pp4ldsnj0tjbngm2gygkp8qc0000gn/T/ipykernel_16002/3665043575.py:9: SettingWithCopyWarning: \n",
      "A value is trying to be set on a copy of a slice from a DataFrame.\n",
      "Try using .loc[row_indexer,col_indexer] = value instead\n",
      "\n",
      "See the caveats in the documentation: https://pandas.pydata.org/pandas-docs/stable/user_guide/indexing.html#returning-a-view-versus-a-copy\n",
      "  log_df['synced_iteration'] = log_df['loopIteration'] - log_df.loc[log_df['escRPM'].idxmax(), 'loopIteration']\n"
     ]
    }
   ],
   "source": [
    "merged_dfs: dict[str, pd.DataFrame] = dict()\n",
    "peak_df = pd.DataFrame(columns=['motor', 'prop', 'battery', 'max_thrust (g)', 'max_RPM', 'max_current', 'max_voltage', 'max_throttle'])\n",
    "for run in runs:\n",
    "    log_df = log_dfs[run][['loopIteration', 'escRPM', 'amperage (A)', 'vbat (V)', 'rcData[3]']]\n",
    "    log_df.columns = ['loopIteration', 'escRPM', 'current', 'voltage', 'throttle']\n",
    "    run_df = run_dfs[run]\n",
    "\n",
    "    run_df['synced_iteration'] = run_df['loopIteration'] - run_df.loc[run_df['thrust (g)'].idxmax(), 'loopIteration']\n",
    "    log_df['synced_iteration'] = log_df['loopIteration'] - log_df.loc[log_df['escRPM'].idxmax(), 'loopIteration']\n",
    "\n",
    "    merged_dfs[run] = pd.merge_asof(run_df, log_df, on='synced_iteration', direction='nearest')\n",
    "    peak_df = pd.concat(\n",
    "        [\n",
    "            peak_df,\n",
    "            pd.DataFrame.from_records(\n",
    "                [\n",
    "                    {\n",
    "                        \"motor\": run_df['motor'].iloc[0],\n",
    "                        \"prop\": run_df['prop'].iloc[0],\n",
    "                        \"battery\": run_df['battery'].iloc[0],\n",
    "                        \"max_thrust (g)\": run_df['thrust (g)'].max(),\n",
    "                        \"max_RPM\": log_df['escRPM'].max(),\n",
    "                        \"max_current\": log_df['current'].max(),\n",
    "                        \"max_voltage\": log_df['voltage'].max(),\n",
    "                        \"max_throttle\": log_df['throttle'].max(),\n",
    "                    }\n",
    "                ]\n",
    "            ),\n",
    "        ],\n",
    "        ignore_index=True,\n",
    "    )"
   ]
  },
  {
   "cell_type": "code",
   "execution_count": 29,
   "metadata": {},
   "outputs": [
    {
     "data": {
      "text/html": [
       "<div>\n",
       "<style scoped>\n",
       "    .dataframe tbody tr th:only-of-type {\n",
       "        vertical-align: middle;\n",
       "    }\n",
       "\n",
       "    .dataframe tbody tr th {\n",
       "        vertical-align: top;\n",
       "    }\n",
       "\n",
       "    .dataframe thead th {\n",
       "        text-align: right;\n",
       "    }\n",
       "</style>\n",
       "<table border=\"1\" class=\"dataframe\">\n",
       "  <thead>\n",
       "    <tr style=\"text-align: right;\">\n",
       "      <th></th>\n",
       "      <th>motor</th>\n",
       "      <th>prop</th>\n",
       "      <th>battery</th>\n",
       "      <th>max_thrust (g)</th>\n",
       "      <th>max_RPM</th>\n",
       "      <th>max_current</th>\n",
       "      <th>max_voltage</th>\n",
       "      <th>max_throttle</th>\n",
       "    </tr>\n",
       "  </thead>\n",
       "  <tbody>\n",
       "    <tr>\n",
       "      <th>0</th>\n",
       "      <td>AT7215</td>\n",
       "      <td>16x16</td>\n",
       "      <td>12s</td>\n",
       "      <td>10214.871</td>\n",
       "      <td>9764</td>\n",
       "      <td>97.78</td>\n",
       "      <td>49.94</td>\n",
       "      <td>2011</td>\n",
       "    </tr>\n",
       "  </tbody>\n",
       "</table>\n",
       "</div>"
      ],
      "text/plain": [
       "    motor   prop battery  max_thrust (g) max_RPM  max_current  max_voltage  \\\n",
       "0  AT7215  16x16     12s       10214.871    9764        97.78        49.94   \n",
       "\n",
       "  max_throttle  \n",
       "0         2011  "
      ]
     },
     "execution_count": 29,
     "metadata": {},
     "output_type": "execute_result"
    }
   ],
   "source": [
    "peak_df.head()"
   ]
  },
  {
   "cell_type": "code",
   "execution_count": 32,
   "metadata": {},
   "outputs": [],
   "source": [
    "peak_df.to_csv(MAIN_DIR + \"/peak.csv\")"
   ]
  },
  {
   "cell_type": "code",
   "execution_count": 33,
   "metadata": {},
   "outputs": [
    {
     "data": {
      "text/plain": [
       "dict_keys(['AT7215_16x16_12s_FC'])"
      ]
     },
     "execution_count": 33,
     "metadata": {},
     "output_type": "execute_result"
    }
   ],
   "source": [
    "merged_dfs.keys()"
   ]
  },
  {
   "cell_type": "code",
   "execution_count": 35,
   "metadata": {},
   "outputs": [
    {
     "data": {
      "image/png": "[encoded data removed]",
      "text/plain": [
       "<Figure size 640x480 with 1 Axes>"
      ]
     },
     "metadata": {},
     "output_type": "display_data"
    }
   ],
   "source": [
    "for run in runs:\n",
    "    merged_dfs[run].plot(x='synced_iteration', y=['thrust (g)', 'escRPM', 'current', 'voltage', 'throttle'])\n",
    "    plt.title(run)"
   ]
  },
  {
   "cell_type": "code",
   "execution_count": 37,
   "metadata": {},
   "outputs": [],
   "source": [
    "for run in runs:\n",
    "    merged_dfs[run].to_csv(f'{MAIN_DIR}/{run}.csv')"
   ]
  },
  {
   "cell_type": "code",
   "execution_count": 38,
   "metadata": {},
   "outputs": [],
   "source": [
    "import plotly.express as px\n",
    "pd.options.plotting.backend = \"plotly\""
   ]
  },
  {
   "cell_type": "code",
   "execution_count": 35,
   "metadata": {},
   "outputs": [],
   "source": [
    "for run in runs:\n",
    "    fig = merged_dfs[run].plot(x='synced_iteration', y=['thrust (g)', 'escRPM', 'current', 'voltage', 'throttle'], title=run)\n",
    "    fig.write_html(f'{MAIN_DIR}/{run}.html')"
   ]
  }
 ],
 "metadata": {
  "kernelspec": {
   "display_name": "Python 3",
   "language": "python",
   "name": "python3"
  },
  "language_info": {
   "codemirror_mode": {
    "name": "ipython",
    "version": 3
   },
   "file_extension": ".py",
   "mimetype": "text/x-python",
   "name": "python",
   "nbconvert_exporter": "python",
   "pygments_lexer": "ipython3",
   "version": "3.10.6"
  }
 },
 "nbformat": 4,
 "nbformat_minor": 2
}
