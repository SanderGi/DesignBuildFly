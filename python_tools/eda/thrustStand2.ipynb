{
 "cells": [
  {
   "cell_type": "code",
   "execution_count": 19,
   "metadata": {},
   "outputs": [],
   "source": [
    "from __future__ import annotations\n",
    "import zipfile\n",
    "import pandas as pd\n",
    "import os\n",
    "from io import StringIO\n",
    "import matplotlib.pyplot as plt\n",
    "import tempfile\n",
    "import plotly.express as px\n",
    "import regex as re"
   ]
  },
  {
   "cell_type": "code",
   "execution_count": 40,
   "metadata": {},
   "outputs": [],
   "source": [
    "SENSOR_LOGS_ZIP = \"/Users/alex/Desktop/CS/Internships/DBF/python_tools/data/thrustStand/ALL/sensor_logs.zip\"\n",
    "OUTPUT_DIR = \"/Users/alex/Desktop/CS/Internships/DBF/python_tools/data/thrustStand/ALL/\""
   ]
  },
  {
   "cell_type": "code",
   "execution_count": 36,
   "metadata": {},
   "outputs": [
    {
     "name": "stdout",
     "output_type": "stream",
     "text": [
      "AT7215 18x12 12s\n",
      "AT5330 16x16 8s\n",
      "AT5330 17x10 8s\n",
      "AT5330 17x12 8s\n",
      "AT5330 17x12 12s\n",
      "AT7215 16x16 12s\n",
      "AT5330 17x10 12s\n",
      "AT7215 17x12 12s\n",
      "AT5330 16x12 8s\n",
      "AT5330 18x12 12s\n",
      "AT7215 18x12 8s\n",
      "AT5330 16x12 12s\n",
      "AT5330 18x12 8s\n",
      "AT7215 16x16 8s\n",
      "AT7215 17x12 8s\n"
     ]
    }
   ],
   "source": [
    "df = pd.DataFrame(columns=[\"motor\", \"battery\", \"prop\", \"lbf\"])\n",
    "\n",
    "with zipfile.ZipFile(SENSOR_LOGS_ZIP) as z:\n",
    "    for name in filter(lambda x: x.endswith(\".txt\") and not x.startswith('__MACOSX'), z.namelist()):\n",
    "        motor, prop, battery = name.removeprefix(\"sensor_logs/\").removesuffix(\".txt\").split(\"_\")\n",
    "\n",
    "        print(motor, prop, battery)\n",
    "        # print out lines in text file\n",
    "        with z.open(name) as f:\n",
    "            gramforce = max([-float(line.decode(\"utf-8\").strip().split(',')[-1]) for line in f.readlines() if line.decode(\"utf-8\").strip() and ',' in line.decode(\"utf-8\").strip()])\n",
    "            lbf = gramforce * 0.0022046226\n",
    "\n",
    "        df.loc[-1] = [motor, battery, prop, lbf]\n",
    "        df.index = df.index + 1"
   ]
  },
  {
   "cell_type": "code",
   "execution_count": 37,
   "metadata": {},
   "outputs": [],
   "source": [
    "df.sort_values(by=[\"motor\", \"battery\", \"prop\"], inplace=True)\n",
    "df.reset_index(inplace=True, drop=True)"
   ]
  },
  {
   "cell_type": "code",
   "execution_count": 41,
   "metadata": {},
   "outputs": [],
   "source": [
    "df.to_csv(os.path.join(OUTPUT_DIR, \"thrustStand.csv\"), index=False)"
   ]
  }
 ],
 "metadata": {
  "kernelspec": {
   "display_name": "Python 3",
   "language": "python",
   "name": "python3"
  },
  "language_info": {
   "codemirror_mode": {
    "name": "ipython",
    "version": 3
   },
   "file_extension": ".py",
   "mimetype": "text/x-python",
   "name": "python",
   "nbconvert_exporter": "python",
   "pygments_lexer": "ipython3",
   "version": "3.10.6"
  }
 },
 "nbformat": 4,
 "nbformat_minor": 2
}
