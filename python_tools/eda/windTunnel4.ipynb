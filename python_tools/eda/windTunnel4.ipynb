{
 "cells": [
  {
   "cell_type": "code",
   "execution_count": 2,
   "metadata": {},
   "outputs": [],
   "source": [
    "from __future__ import annotations\n",
    "import zipfile\n",
    "import pandas as pd\n",
    "import os\n",
    "from io import StringIO\n",
    "import matplotlib.pyplot as plt\n",
    "import tempfile\n",
    "import plotly.express as px\n"
   ]
  },
  {
   "cell_type": "code",
   "execution_count": 3,
   "metadata": {},
   "outputs": [],
   "source": [
    "import sys\n",
    "sys.path.append('/Users/alex/Desktop/CS/Internships/DBF/python_tools/')\n",
    "from util.blackbox import decode_blackbox\n"
   ]
  },
  {
   "cell_type": "code",
   "execution_count": 4,
   "metadata": {},
   "outputs": [],
   "source": [
    "BLACKBOX_ZIP = '/Users/alex/Desktop/CS/Internships/DBF/python_tools/data/windTunnel/1_7_2024/Blackbox.zip'\n",
    "WINDTUNNEL_ZIP = '/Users/alex/Desktop/CS/Internships/DBF/python_tools/data/windTunnel/1_7_2024/WindTunnel.zip'\n",
    "OUTPUT_DIR = '/Users/alex/Desktop/CS/Internships/DBF/python_tools/data/windTunnel/1_7_2024/processed'"
   ]
  },
  {
   "cell_type": "code",
   "execution_count": 5,
   "metadata": {},
   "outputs": [],
   "source": [
    "MIN_THROTTLE = 1065\n",
    "MAX_THROTTLE = 2011"
   ]
  },
  {
   "cell_type": "code",
   "execution_count": 11,
   "metadata": {},
   "outputs": [],
   "source": [
    "thrust_dfs: dict[str, pd.DataFrame] = {}\n",
    "\n",
    "with zipfile.ZipFile(WINDTUNNEL_ZIP) as z:\n",
    "    for name in filter(lambda x: x.endswith(\".csv\") and not x.startswith('__MACOSX'), z.namelist()):\n",
    "        data = z.read(name)\n",
    "        df = pd.read_csv(StringIO(data.decode('utf-8')))\n",
    "        df = df[df.CODE == 0]\n",
    "        df.reset_index(inplace=True, drop=True) \n",
    "        thrust_dfs[name.replace(\".csv\",\"\").split(\"/\")[-1].lower()] = df"
   ]
  },
  {
   "cell_type": "code",
   "execution_count": 12,
   "metadata": {},
   "outputs": [
    {
     "data": {
      "text/plain": [
       "dict_keys(['at5220_15x14x3_40ms_8s_2.4ah_run1', 'at5220_16x12_30ms_8s_nan_run1', 'at5220_15x14x3_35ms_8s_2.0ah_run1', 'at5220_16x12_35ms_8s_nan_run1', 'at5220_15x14x3_35ms_8s_3.2ah_run1', 'at5220_15x14x3_30ms_8s_2.4ah_run1', 'at5220_15x14x3_static_8s_nan_run1', 'at5220_16x12_40ms_8s_nan_run1', 'at5220_16x12_static_8s_nan_run1', 'at5220_16x12_25ms_8s_nan_run1', 'at5220_15x14x3_25ms_8s_2.4ah_run1'])"
      ]
     },
     "execution_count": 12,
     "metadata": {},
     "output_type": "execute_result"
    }
   ],
   "source": [
    "thrust_dfs.keys()"
   ]
  },
  {
   "cell_type": "code",
   "execution_count": null,
   "metadata": {},
   "outputs": [],
   "source": [
    "blackbox_dfs: dict[str, pd.DataFrame] = {}\n",
    "\n",
    "with zipfile.ZipFile(BLACKBOX_ZIP) as z:\n",
    "    for name in filter(lambda x: x.endswith(\".TXT\") and not x.startswith('__MACOSX'), z.namelist()):\n",
    "        with tempfile.TemporaryDirectory() as tmpdirname:\n",
    "            z.extract(name, tmpdirname)\n",
    "            df = decode_blackbox(tmpdirname + \"/\" + name)\n",
    "\n",
    "        name = name.replace(\".TXT\", \"\").split(\"/\")[-1]\n",
    "        parts = name.split(\"_\")\n",
    "                \n",
    "        df.dropna(inplace=True, subset=['motor[0]'])\n",
    "        df.rename(columns={\"motor[0]\": \"throttle\"}, inplace=True)\n",
    "        df[\"motor\"] = parts[0]\n",
    "        df[\"prop\"] = parts[1]\n",
    "        df[\"airspeed\"] = parts[2]\n",
    "        df[\"cells\"] = parts[3]\n",
    "        df[\"battery\"] = parts[4]\n",
    "        df[\"run\"] = parts[5]\n",
    "        blackbox_dfs[name.lower()] = df"
   ]
  },
  {
   "cell_type": "code",
   "execution_count": 14,
   "metadata": {},
   "outputs": [
    {
     "data": {
      "text/plain": [
       "dict_keys(['at5220_15x14x3_30ms_8s_2.4ah_run1', 'at5220_16x12_40ms_8s_nan_run1', 'at5220_15x14x3_static_8s_nan_run1', 'at5220_16x12_25ms_8s_nan_run1', 'at5220_16x12_static_8s_nan_run1', 'at5220_15x14x3_25ms_8s_2.4ah_run1', 'at5220_15x14x3_35ms_8s_2.0ah_run1', 'at5220_16x12_35ms_8s_nan_run1', 'at5220_15x14x3_40ms_8s_2.4ah_run1', 'at5220_16x12_30ms_8s_nan_run1', 'at5220_15x14x3_35ms_8s_3.2ah_run1'])"
      ]
     },
     "execution_count": 14,
     "metadata": {},
     "output_type": "execute_result"
    }
   ],
   "source": [
    "blackbox_dfs.keys()"
   ]
  },
  {
   "cell_type": "code",
   "execution_count": 15,
   "metadata": {},
   "outputs": [
    {
     "name": "stdout",
     "output_type": "stream",
     "text": [
      "set()\n",
      "set()\n"
     ]
    }
   ],
   "source": [
    "# find non common df names\n",
    "thrust_only_dfs = set(thrust_dfs.keys()).difference(set(blackbox_dfs.keys()))\n",
    "print(thrust_only_dfs)\n",
    "\n",
    "blackbox_only_dfs = set(blackbox_dfs.keys()).difference(set(thrust_dfs.keys()))\n",
    "print(blackbox_only_dfs)"
   ]
  },
  {
   "cell_type": "code",
   "execution_count": 17,
   "metadata": {},
   "outputs": [
    {
     "name": "stdout",
     "output_type": "stream",
     "text": [
      "{'at5220_15x14x3_40ms_8s_2.4ah_run1', 'at5220_15x14x3_30ms_8s_2.4ah_run1', 'at5220_15x14x3_35ms_8s_2.0ah_run1', 'at5220_16x12_25ms_8s_nan_run1', 'at5220_16x12_30ms_8s_nan_run1', 'at5220_16x12_static_8s_nan_run1', 'at5220_16x12_40ms_8s_nan_run1', 'at5220_15x14x3_static_8s_nan_run1', 'at5220_15x14x3_25ms_8s_2.4ah_run1', 'at5220_15x14x3_35ms_8s_3.2ah_run1', 'at5220_16x12_35ms_8s_nan_run1'}\n"
     ]
    }
   ],
   "source": [
    "# find common df names\n",
    "common_dfs = set(thrust_dfs.keys()).intersection(set(blackbox_dfs.keys()))\n",
    "print(common_dfs)"
   ]
  },
  {
   "cell_type": "code",
   "execution_count": 20,
   "metadata": {},
   "outputs": [
    {
     "name": "stdout",
     "output_type": "stream",
     "text": [
      "at5220_15x14x3_40ms_8s_2.4ah_run1\n",
      "at5220_15x14x3_30ms_8s_2.4ah_run1\n",
      "at5220_15x14x3_35ms_8s_2.0ah_run1\n",
      "at5220_16x12_25ms_8s_nan_run1\n",
      "at5220_16x12_30ms_8s_nan_run1\n",
      "at5220_16x12_static_8s_nan_run1\n",
      "at5220_16x12_40ms_8s_nan_run1\n",
      "at5220_15x14x3_static_8s_nan_run1\n",
      "at5220_15x14x3_25ms_8s_2.4ah_run1\n",
      "at5220_15x14x3_35ms_8s_3.2ah_run1\n",
      "at5220_16x12_35ms_8s_nan_run1\n"
     ]
    },
    {
     "name": "stderr",
     "output_type": "stream",
     "text": [
      "/var/folders/gz/pp4ldsnj0tjbngm2gygkp8qc0000gn/T/ipykernel_4415/1193602303.py:19: SettingWithCopyWarning: \n",
      "A value is trying to be set on a copy of a slice from a DataFrame.\n",
      "Try using .loc[row_indexer,col_indexer] = value instead\n",
      "\n",
      "See the caveats in the documentation: https://pandas.pydata.org/pandas-docs/stable/user_guide/indexing.html#returning-a-view-versus-a-copy\n",
      "  df_thrust['thrust'] = -df_thrust['Drag']\n",
      "/var/folders/gz/pp4ldsnj0tjbngm2gygkp8qc0000gn/T/ipykernel_4415/1193602303.py:19: SettingWithCopyWarning: \n",
      "A value is trying to be set on a copy of a slice from a DataFrame.\n",
      "Try using .loc[row_indexer,col_indexer] = value instead\n",
      "\n",
      "See the caveats in the documentation: https://pandas.pydata.org/pandas-docs/stable/user_guide/indexing.html#returning-a-view-versus-a-copy\n",
      "  df_thrust['thrust'] = -df_thrust['Drag']\n",
      "/var/folders/gz/pp4ldsnj0tjbngm2gygkp8qc0000gn/T/ipykernel_4415/1193602303.py:19: SettingWithCopyWarning: \n",
      "A value is trying to be set on a copy of a slice from a DataFrame.\n",
      "Try using .loc[row_indexer,col_indexer] = value instead\n",
      "\n",
      "See the caveats in the documentation: https://pandas.pydata.org/pandas-docs/stable/user_guide/indexing.html#returning-a-view-versus-a-copy\n",
      "  df_thrust['thrust'] = -df_thrust['Drag']\n",
      "/var/folders/gz/pp4ldsnj0tjbngm2gygkp8qc0000gn/T/ipykernel_4415/1193602303.py:19: SettingWithCopyWarning: \n",
      "A value is trying to be set on a copy of a slice from a DataFrame.\n",
      "Try using .loc[row_indexer,col_indexer] = value instead\n",
      "\n",
      "See the caveats in the documentation: https://pandas.pydata.org/pandas-docs/stable/user_guide/indexing.html#returning-a-view-versus-a-copy\n",
      "  df_thrust['thrust'] = -df_thrust['Drag']\n",
      "/var/folders/gz/pp4ldsnj0tjbngm2gygkp8qc0000gn/T/ipykernel_4415/1193602303.py:19: SettingWithCopyWarning: \n",
      "A value is trying to be set on a copy of a slice from a DataFrame.\n",
      "Try using .loc[row_indexer,col_indexer] = value instead\n",
      "\n",
      "See the caveats in the documentation: https://pandas.pydata.org/pandas-docs/stable/user_guide/indexing.html#returning-a-view-versus-a-copy\n",
      "  df_thrust['thrust'] = -df_thrust['Drag']\n",
      "/var/folders/gz/pp4ldsnj0tjbngm2gygkp8qc0000gn/T/ipykernel_4415/1193602303.py:19: SettingWithCopyWarning: \n",
      "A value is trying to be set on a copy of a slice from a DataFrame.\n",
      "Try using .loc[row_indexer,col_indexer] = value instead\n",
      "\n",
      "See the caveats in the documentation: https://pandas.pydata.org/pandas-docs/stable/user_guide/indexing.html#returning-a-view-versus-a-copy\n",
      "  df_thrust['thrust'] = -df_thrust['Drag']\n",
      "/var/folders/gz/pp4ldsnj0tjbngm2gygkp8qc0000gn/T/ipykernel_4415/1193602303.py:19: SettingWithCopyWarning: \n",
      "A value is trying to be set on a copy of a slice from a DataFrame.\n",
      "Try using .loc[row_indexer,col_indexer] = value instead\n",
      "\n",
      "See the caveats in the documentation: https://pandas.pydata.org/pandas-docs/stable/user_guide/indexing.html#returning-a-view-versus-a-copy\n",
      "  df_thrust['thrust'] = -df_thrust['Drag']\n",
      "/var/folders/gz/pp4ldsnj0tjbngm2gygkp8qc0000gn/T/ipykernel_4415/1193602303.py:19: SettingWithCopyWarning: \n",
      "A value is trying to be set on a copy of a slice from a DataFrame.\n",
      "Try using .loc[row_indexer,col_indexer] = value instead\n",
      "\n",
      "See the caveats in the documentation: https://pandas.pydata.org/pandas-docs/stable/user_guide/indexing.html#returning-a-view-versus-a-copy\n",
      "  df_thrust['thrust'] = -df_thrust['Drag']\n",
      "/var/folders/gz/pp4ldsnj0tjbngm2gygkp8qc0000gn/T/ipykernel_4415/1193602303.py:19: SettingWithCopyWarning: \n",
      "A value is trying to be set on a copy of a slice from a DataFrame.\n",
      "Try using .loc[row_indexer,col_indexer] = value instead\n",
      "\n",
      "See the caveats in the documentation: https://pandas.pydata.org/pandas-docs/stable/user_guide/indexing.html#returning-a-view-versus-a-copy\n",
      "  df_thrust['thrust'] = -df_thrust['Drag']\n",
      "/var/folders/gz/pp4ldsnj0tjbngm2gygkp8qc0000gn/T/ipykernel_4415/1193602303.py:19: SettingWithCopyWarning: \n",
      "A value is trying to be set on a copy of a slice from a DataFrame.\n",
      "Try using .loc[row_indexer,col_indexer] = value instead\n",
      "\n",
      "See the caveats in the documentation: https://pandas.pydata.org/pandas-docs/stable/user_guide/indexing.html#returning-a-view-versus-a-copy\n",
      "  df_thrust['thrust'] = -df_thrust['Drag']\n",
      "/var/folders/gz/pp4ldsnj0tjbngm2gygkp8qc0000gn/T/ipykernel_4415/1193602303.py:19: SettingWithCopyWarning: \n",
      "A value is trying to be set on a copy of a slice from a DataFrame.\n",
      "Try using .loc[row_indexer,col_indexer] = value instead\n",
      "\n",
      "See the caveats in the documentation: https://pandas.pydata.org/pandas-docs/stable/user_guide/indexing.html#returning-a-view-versus-a-copy\n",
      "  df_thrust['thrust'] = -df_thrust['Drag']\n"
     ]
    }
   ],
   "source": [
    "BLACKBOX_COLS = ['throttle', 'escRPM', 'amperage (A)', 'vbat (V)']\n",
    "THRUST_COLS = ['DYNAMIC PRESSURE', 'Lift', 'Drag']\n",
    "METADATA = ['motor', 'prop', 'airspeed', 'cells', 'battery', 'run']\n",
    "\n",
    "for name in common_dfs:\n",
    "    print(name)\n",
    "    df = blackbox_dfs[name][BLACKBOX_COLS].copy()\n",
    "    metadata = blackbox_dfs[name][METADATA].iloc[0]\n",
    "    bins = df['throttle'].index[(df['throttle'] - df['throttle'].shift(1)).apply(lambda x: x > 20)].tolist()\n",
    "    # df.plot()\n",
    "    # for x in bins:\n",
    "    #     plt.axvline(x = x, color = 'b', label = 'axvline - full height')\n",
    "    df['throttle_group'] = pd.qcut(df[\"throttle\"], q=[0] + [val / len(df[\"throttle\"]) for val in bins] + [1], labels=list(map(str, bins)) + [\"max\"])\n",
    "    df = df.groupby('throttle_group').mean()\n",
    "    df.reset_index(inplace=True)\n",
    "    df.drop(columns=['throttle_group'], inplace=True)\n",
    "\n",
    "    df_thrust = thrust_dfs[name][THRUST_COLS]\n",
    "    df_thrust['thrust'] = -df_thrust['Drag']\n",
    "\n",
    "    df = df.join(df_thrust)\n",
    "    df[\"percent_throttle\"] = (df[\"throttle\"] - MIN_THROTTLE) / (MAX_THROTTLE - MIN_THROTTLE) * 100\n",
    "    for col in METADATA:\n",
    "        df[col] = metadata[col]\n",
    "\n",
    "    df.to_csv(OUTPUT_DIR + \"/\" + name + \".csv\", index=False)"
   ]
  }
 ],
 "metadata": {
  "kernelspec": {
   "display_name": "Python 3",
   "language": "python",
   "name": "python3"
  },
  "language_info": {
   "codemirror_mode": {
    "name": "ipython",
    "version": 3
   },
   "file_extension": ".py",
   "mimetype": "text/x-python",
   "name": "python",
   "nbconvert_exporter": "python",
   "pygments_lexer": "ipython3",
   "version": "3.10.6"
  }
 },
 "nbformat": 4,
 "nbformat_minor": 2
}
