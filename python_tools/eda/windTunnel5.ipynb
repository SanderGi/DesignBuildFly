{
 "cells": [
  {
   "cell_type": "code",
   "execution_count": 173,
   "metadata": {},
   "outputs": [],
   "source": [
    "from __future__ import annotations\n",
    "import zipfile\n",
    "import pandas as pd\n",
    "import os\n",
    "from io import StringIO\n",
    "import matplotlib.pyplot as plt\n",
    "import tempfile\n",
    "import plotly.express as px\n"
   ]
  },
  {
   "cell_type": "code",
   "execution_count": 174,
   "metadata": {},
   "outputs": [],
   "source": [
    "DATA_ZIP = \"/Users/alex/Desktop/CS/Internships/DBF/python_tools/data/windTunnel/ALL/windtunnel_data.zip\"\n",
    "OUTPUT_DIR = \"/Users/alex/Desktop/CS/Internships/DBF/python_tools/data/windTunnel/ALL/\""
   ]
  },
  {
   "cell_type": "code",
   "execution_count": 175,
   "metadata": {},
   "outputs": [
    {
     "name": "stdout",
     "output_type": "stream",
     "text": [
      "windtunnel_data/AT7215_16x14_30ms_12S_NaN_PT.csv\n",
      "windtunnel_data/AT7215_15x14x3_45ms_12S_115Wh_M2.csv\n",
      "windtunnel_data/AT7215_15x14x3_30ms_12S_97.5Wh_M3.csv\n",
      "windtunnel_data/AT7215_16x14_50ms_12S_2.8Ah_M2.csv\n",
      "windtunnel_data/AT7215_16x14_45ms_12S_NaN_MAX.csv\n",
      "windtunnel_data/AT5330_16x14_20ms_12S_NaN_PT.csv\n",
      "windtunnel_data/AT7215_15x14x3_40ms_12S_2.4Ah_DT.csv\n",
      "windtunnel_data/AT7215_16x14_35ms_12S_2.4Ah_M3.csv\n",
      "windtunnel_data/AT7215_16x14_45ms_12S_NaN_PT.csv\n",
      "windtunnel_data/AT7215_16x14_20ms_12S_NaN_PT.csv\n",
      "windtunnel_data/AT7215_16x14_10ms_12S_115Wh_RUN1.csv\n",
      "windtunnel_data/AT5220_15X14X3_40ms_8S_2.4aH_RUN1.csv\n",
      "windtunnel_data/AT5330_16x16_30ms_12S_NaN_PT.csv\n",
      "windtunnel_data/AT7215_15x14x3_35ms_12S_97.5Wh_M3.csv\n",
      "windtunnel_data/AT5220_16X12_30ms_8S_NaN_RUN1.csv\n",
      "windtunnel_data/AT7215_16x14_15ms_12S_NaN_PT.csv\n",
      "windtunnel_data/AT7215_16x16_45ms_12S_NaN_PT.csv\n",
      "windtunnel_data/AT5220_15X14X3_35ms_8S_2.0aH_RUN1.csv\n",
      "windtunnel_data/AT7215_16x14_40ms_12S_97.5Wh_M3.csv\n",
      "windtunnel_data/AT5330_16x14_30ms_12S_NaN_PT.csv\n",
      "windtunnel_data/AT5220_16X12_35ms_8S_NaN_RUN1.csv\n",
      "windtunnel_data/AT7215_16x14_10ms_12S_NaN_PT.csv\n",
      "windtunnel_data/AT7215_16x14_static_12S_115Wh_RUN1.csv\n",
      "windtunnel_data/AT7215_15x14x3_40ms_12S_115Wh_M2.csv\n",
      "windtunnel_data/AT5330_16x14_35ms_12S_NaN_PT.csv\n",
      "windtunnel_data/AT7215_16x14_25ms_12S_NaN_PT.csv\n",
      "windtunnel_data/AT7215_15x14x3_45ms_12S_2.4Ah_DT.csv\n",
      "windtunnel_data/AT7215_16x14_30ms_12S_2.4Ah_M3.csv\n",
      "windtunnel_data/AT7215_16x14_45ms_12S_2.8Ah_M2.csv\n",
      "windtunnel_data/AT7215_16x14_40ms_12S_NaN_PT.csv\n",
      "windtunnel_data/AT5330_16x16_35ms_12S_NaN_PT.csv\n",
      "windtunnel_data/AT5220_15X14X3_35ms_8S_3.2aH_RUN1.csv\n",
      "windtunnel_data/AT7215_16x14_55ms_12S_2.8Ah_M2.csv\n",
      "windtunnel_data/AT7215_16x16_50ms_12S_NaN_PT.csv\n",
      "windtunnel_data/AT7215_15x14x3_35ms_12S_2.4Ah_DT.csv\n",
      "windtunnel_data/AT7215_16x14_40ms_12S_2.4Ah_M3.csv\n",
      "windtunnel_data/AT5330_16x14_25ms_12S_NaN_PT.csv\n",
      "windtunnel_data/AT7215_16x14_35ms_12S_NaN_PT.csv\n",
      "windtunnel_data/AT7215_16x14_static_12S_NaN_PT.csv\n",
      "windtunnel_data/AT7215_16x14_50ms_12S_NaN_PT.csv\n",
      "windtunnel_data/AT5330_16x16_40ms_12S_NaN_PT.csv\n",
      "windtunnel_data/AT5330_15x14x3_15ms_12S_NaN_PT.csv\n",
      "windtunnel_data/AT7215_15x14x3_15ms_12S_NaN_PT.csv\n",
      "windtunnel_data/AT7215_16x14_static_12S_97.5Wh_RUN1.csv\n",
      "windtunnel_data/AT7215_16x14_50ms_12S_2.8Ah_DT.csv\n",
      "windtunnel_data/AT7215_15x14x3_40ms_12S_2.4Ah_M3.csv\n",
      "windtunnel_data/AT5220_15X14X3_30ms_8S_2.4aH_RUN1.csv\n",
      "windtunnel_data/AT7215_16x14_60ms_12S_2.8Ah_DT.csv\n",
      "windtunnel_data/AT7215_15x14x3_20ms_12S_NaN_PT.csv\n",
      "windtunnel_data/AT5330_15x14x3_20ms_12S_NaN_PT.csv\n",
      "windtunnel_data/AT7215_15x14x3_45ms_12S_NaN_PT.csv\n",
      "windtunnel_data/AT5330_15x14x3_static_12S_NaN_PT.csv\n",
      "windtunnel_data/AT7215_15x14x3_static_12S_NaN_PT.csv\n",
      "windtunnel_data/AT7215_16x14_NaN_12S_NaN_MAX.csv\n",
      "windtunnel_data/AT7215_16x14_30ms_12S_97.5Wh_M3.csv\n",
      "windtunnel_data/AT7215_16x14_40ms_12S_115Wh_M2.csv\n",
      "windtunnel_data/AT5220_15X14X3_static_8S_NaN_RUN1.csv\n",
      "windtunnel_data/AT7215_15x14x3_static_12S_97.5Wh_RUN1.csv\n",
      "windtunnel_data/AT7215_16x14_55ms_12S_NaN_M2.csv\n",
      "windtunnel_data/AT7215_15x14x3_40ms_12S_97.5Wh_M3.csv\n",
      "windtunnel_data/AT7215_15x14x3_30ms_12S_NaN_PT.csv\n",
      "windtunnel_data/AT5220_16X12_40ms_8S_NaN_RUN1.csv\n",
      "windtunnel_data/AT5330_15x14x3_30ms_12S_NaN_PT.csv\n",
      "windtunnel_data/AT7215_15x14x3_45ms_12S_2.8aH_M2.csv\n",
      "windtunnel_data/AT7215_16x14_35ms_12S_97.5Wh_M3.csv\n",
      "windtunnel_data/AT7215_15x14x3_30ms_12S_2.4Ah_M3.csv\n",
      "windtunnel_data/AT7215_15x14x3_10ms_12S_97.5Wh_RUN1.csv\n",
      "windtunnel_data/AT7215_15x14x3_50ms_12S_NaN_PT.csv\n",
      "windtunnel_data/AT5330_15x14x3_35ms_12S_NaN_PT.csv\n",
      "windtunnel_data/AT7215_16x14_55ms_12S_2.8Ah_DT.csv\n",
      "windtunnel_data/AT7215_15x14x3_35ms_12S_NaN_PT.csv\n",
      "windtunnel_data/AT7215_16x14_45ms_12S_2.8Ah_DT.csv\n",
      "windtunnel_data/AT5220_16X12_static_8S_NaN_RUN1.csv\n",
      "windtunnel_data/AT5220_16X12_25ms_8S_NaN_RUN1.csv\n",
      "windtunnel_data/AT7215_16x14_50ms_12S_NaN_MAX.csv\n",
      "windtunnel_data/AT7215_15x14x3_40ms_12S_NaN_PT.csv\n",
      "windtunnel_data/AT5330_15x14x3_25ms_12S_NaN_PT.csv\n",
      "windtunnel_data/AT7215_15x14x3_25ms_12S_NaN_PT.csv\n",
      "windtunnel_data/AT7215_16x14_45ms_12S_115Wh_M2.csv\n",
      "windtunnel_data/AT7215_15x14x3_10ms_12S_NaN_PT.csv\n",
      "windtunnel_data/AT7215_15x14x3_35ms_12S_2.4Ah_M3.csv\n",
      "windtunnel_data/AT7215_16x14_55ms_12S_NaN_MAX.csv\n",
      "windtunnel_data/AT5330_15x14x3_10ms_12S_NaN_PT.csv\n",
      "windtunnel_data/AT7215_15x14x3_50ms_12S_2.8aH_M2.csv\n",
      "windtunnel_data/AT5220_15x14x3_25ms_8S_2.4aH_RUN1.csv\n"
     ]
    }
   ],
   "source": [
    "df = pd.DataFrame(columns=[\"Motor\", \"Prop\", \"Airspeed\", \"Cells\", \"Battery\", \"Config\", \"Thrust\"])\n",
    "\n",
    "with zipfile.ZipFile(DATA_ZIP) as z:\n",
    "    for name in filter(lambda x: x.endswith(\".csv\") and not x.startswith('__MACOSX'), z.namelist()):\n",
    "        motor, prop, airspeed, cells, battery, config = name.removeprefix(\"windtunnel_data/\").removesuffix(\".csv\").split(\"_\")\n",
    "        battery = battery.lower()\n",
    "        data = z.read(name)\n",
    "        _df = pd.read_csv(StringIO(data.decode('utf-8')))\n",
    "        print(name)\n",
    "        if config != \"PT\":\n",
    "            _df = _df[_df[\"CODE\"] == 0]\n",
    "            _df.reset_index(inplace=True, drop=True)\n",
    "        thrust = _df[\"Drag\"].min() * -1\n",
    "        \n",
    "        df.loc[-1] = [motor, prop.lower(), airspeed, cells, battery, config, thrust]\n",
    "        df.index = df.index + 1"
   ]
  },
  {
   "cell_type": "code",
   "execution_count": 176,
   "metadata": {},
   "outputs": [],
   "source": [
    "df = df[df[\"Airspeed\"] != \"NaN\"]"
   ]
  },
  {
   "cell_type": "code",
   "execution_count": 177,
   "metadata": {},
   "outputs": [],
   "source": [
    "vcounts = df.value_counts()\n",
    "vcounts.to_csv(os.path.join(OUTPUT_DIR, \"vcounts.csv\"))"
   ]
  },
  {
   "cell_type": "code",
   "execution_count": 178,
   "metadata": {},
   "outputs": [
    {
     "data": {
      "text/html": [
       "<div>\n",
       "<style scoped>\n",
       "    .dataframe tbody tr th:only-of-type {\n",
       "        vertical-align: middle;\n",
       "    }\n",
       "\n",
       "    .dataframe tbody tr th {\n",
       "        vertical-align: top;\n",
       "    }\n",
       "\n",
       "    .dataframe thead th {\n",
       "        text-align: right;\n",
       "    }\n",
       "</style>\n",
       "<table border=\"1\" class=\"dataframe\">\n",
       "  <thead>\n",
       "    <tr style=\"text-align: right;\">\n",
       "      <th></th>\n",
       "      <th></th>\n",
       "      <th></th>\n",
       "      <th></th>\n",
       "      <th>Battery</th>\n",
       "      <th>Config</th>\n",
       "      <th>Thrust</th>\n",
       "    </tr>\n",
       "    <tr>\n",
       "      <th>Motor</th>\n",
       "      <th>Prop</th>\n",
       "      <th>Airspeed</th>\n",
       "      <th>Cells</th>\n",
       "      <th></th>\n",
       "      <th></th>\n",
       "      <th></th>\n",
       "    </tr>\n",
       "  </thead>\n",
       "  <tbody>\n",
       "    <tr>\n",
       "      <th>AT5220</th>\n",
       "      <th>15x14x3</th>\n",
       "      <th>35ms</th>\n",
       "      <th>8S</th>\n",
       "      <td>[2.0ah, 3.2ah]</td>\n",
       "      <td>[RUN1, RUN1]</td>\n",
       "      <td>[13.1, 14.77]</td>\n",
       "    </tr>\n",
       "    <tr>\n",
       "      <th rowspan=\"15\" valign=\"top\">AT7215</th>\n",
       "      <th rowspan=\"7\" valign=\"top\">15x14x3</th>\n",
       "      <th>10ms</th>\n",
       "      <th>12S</th>\n",
       "      <td>[97.5wh, nan]</td>\n",
       "      <td>[RUN1, PT]</td>\n",
       "      <td>[23.37, 27.702]</td>\n",
       "    </tr>\n",
       "    <tr>\n",
       "      <th>30ms</th>\n",
       "      <th>12S</th>\n",
       "      <td>[97.5wh, nan, 2.4ah]</td>\n",
       "      <td>[M3, PT, M3]</td>\n",
       "      <td>[7.195, 21.683, 7.233]</td>\n",
       "    </tr>\n",
       "    <tr>\n",
       "      <th>35ms</th>\n",
       "      <th>12S</th>\n",
       "      <td>[97.5wh, 2.4ah, nan, 2.4ah]</td>\n",
       "      <td>[M3, DT, PT, M3]</td>\n",
       "      <td>[8.039, 20.977, 20.938, 17.632]</td>\n",
       "    </tr>\n",
       "    <tr>\n",
       "      <th>40ms</th>\n",
       "      <th>12S</th>\n",
       "      <td>[2.4ah, 115wh, 2.4ah, 97.5wh, nan]</td>\n",
       "      <td>[DT, M2, M3, M3, PT]</td>\n",
       "      <td>[19.384, 13.304, 17.23, 6.403, 18.317]</td>\n",
       "    </tr>\n",
       "    <tr>\n",
       "      <th>45ms</th>\n",
       "      <th>12S</th>\n",
       "      <td>[115wh, 2.4ah, nan, 2.8ah]</td>\n",
       "      <td>[M2, DT, PT, M2]</td>\n",
       "      <td>[12.82, 16.849, 16.533, 17.067]</td>\n",
       "    </tr>\n",
       "    <tr>\n",
       "      <th>50ms</th>\n",
       "      <th>12S</th>\n",
       "      <td>[nan, 2.8ah]</td>\n",
       "      <td>[PT, M2]</td>\n",
       "      <td>[13.443, 15.073]</td>\n",
       "    </tr>\n",
       "    <tr>\n",
       "      <th>static</th>\n",
       "      <th>12S</th>\n",
       "      <td>[nan, 97.5wh]</td>\n",
       "      <td>[PT, RUN1]</td>\n",
       "      <td>[26.239, 23.61]</td>\n",
       "    </tr>\n",
       "    <tr>\n",
       "      <th rowspan=\"8\" valign=\"top\">16x14</th>\n",
       "      <th>10ms</th>\n",
       "      <th>12S</th>\n",
       "      <td>[115wh, nan]</td>\n",
       "      <td>[RUN1, PT]</td>\n",
       "      <td>[17.386, 24.399]</td>\n",
       "    </tr>\n",
       "    <tr>\n",
       "      <th>30ms</th>\n",
       "      <th>12S</th>\n",
       "      <td>[nan, 2.4ah, 97.5wh]</td>\n",
       "      <td>[PT, M3, M3]</td>\n",
       "      <td>[23.756, 21.926, 6.404]</td>\n",
       "    </tr>\n",
       "    <tr>\n",
       "      <th>35ms</th>\n",
       "      <th>12S</th>\n",
       "      <td>[2.4ah, nan, 97.5wh]</td>\n",
       "      <td>[M3, PT, M3]</td>\n",
       "      <td>[21.075, 23.357, 6.225]</td>\n",
       "    </tr>\n",
       "    <tr>\n",
       "      <th>40ms</th>\n",
       "      <th>12S</th>\n",
       "      <td>[97.5wh, nan, 2.4ah, 115wh]</td>\n",
       "      <td>[M3, PT, M3, M2]</td>\n",
       "      <td>[6.281, 21.648, 19.326, 13.901]</td>\n",
       "    </tr>\n",
       "    <tr>\n",
       "      <th>45ms</th>\n",
       "      <th>12S</th>\n",
       "      <td>[nan, nan, 2.8ah, 2.8ah, 115wh]</td>\n",
       "      <td>[MAX, PT, M2, DT, M2]</td>\n",
       "      <td>[17.585, 21.368, 19.659, 16.727, 14.432]</td>\n",
       "    </tr>\n",
       "    <tr>\n",
       "      <th>50ms</th>\n",
       "      <th>12S</th>\n",
       "      <td>[2.8ah, nan, 2.8ah, nan]</td>\n",
       "      <td>[M2, PT, DT, MAX]</td>\n",
       "      <td>[19.209, 18.339, 16.059, 16.346]</td>\n",
       "    </tr>\n",
       "    <tr>\n",
       "      <th>55ms</th>\n",
       "      <th>12S</th>\n",
       "      <td>[2.8ah, nan, 2.8ah, nan]</td>\n",
       "      <td>[M2, M2, DT, MAX]</td>\n",
       "      <td>[17.814, nan, 15.562, 16.965]</td>\n",
       "    </tr>\n",
       "    <tr>\n",
       "      <th>static</th>\n",
       "      <th>12S</th>\n",
       "      <td>[115wh, nan, 97.5wh]</td>\n",
       "      <td>[RUN1, PT, RUN1]</td>\n",
       "      <td>[18.291, 25.753, 20.616]</td>\n",
       "    </tr>\n",
       "  </tbody>\n",
       "</table>\n",
       "</div>"
      ],
      "text/plain": [
       "                                                          Battery  \\\n",
       "Motor  Prop    Airspeed Cells                                       \n",
       "AT5220 15x14x3 35ms     8S                         [2.0ah, 3.2ah]   \n",
       "AT7215 15x14x3 10ms     12S                         [97.5wh, nan]   \n",
       "               30ms     12S                  [97.5wh, nan, 2.4ah]   \n",
       "               35ms     12S           [97.5wh, 2.4ah, nan, 2.4ah]   \n",
       "               40ms     12S    [2.4ah, 115wh, 2.4ah, 97.5wh, nan]   \n",
       "               45ms     12S            [115wh, 2.4ah, nan, 2.8ah]   \n",
       "               50ms     12S                          [nan, 2.8ah]   \n",
       "               static   12S                         [nan, 97.5wh]   \n",
       "       16x14   10ms     12S                          [115wh, nan]   \n",
       "               30ms     12S                  [nan, 2.4ah, 97.5wh]   \n",
       "               35ms     12S                  [2.4ah, nan, 97.5wh]   \n",
       "               40ms     12S           [97.5wh, nan, 2.4ah, 115wh]   \n",
       "               45ms     12S       [nan, nan, 2.8ah, 2.8ah, 115wh]   \n",
       "               50ms     12S              [2.8ah, nan, 2.8ah, nan]   \n",
       "               55ms     12S              [2.8ah, nan, 2.8ah, nan]   \n",
       "               static   12S                  [115wh, nan, 97.5wh]   \n",
       "\n",
       "                                              Config  \\\n",
       "Motor  Prop    Airspeed Cells                          \n",
       "AT5220 15x14x3 35ms     8S              [RUN1, RUN1]   \n",
       "AT7215 15x14x3 10ms     12S               [RUN1, PT]   \n",
       "               30ms     12S             [M3, PT, M3]   \n",
       "               35ms     12S         [M3, DT, PT, M3]   \n",
       "               40ms     12S     [DT, M2, M3, M3, PT]   \n",
       "               45ms     12S         [M2, DT, PT, M2]   \n",
       "               50ms     12S                 [PT, M2]   \n",
       "               static   12S               [PT, RUN1]   \n",
       "       16x14   10ms     12S               [RUN1, PT]   \n",
       "               30ms     12S             [PT, M3, M3]   \n",
       "               35ms     12S             [M3, PT, M3]   \n",
       "               40ms     12S         [M3, PT, M3, M2]   \n",
       "               45ms     12S    [MAX, PT, M2, DT, M2]   \n",
       "               50ms     12S        [M2, PT, DT, MAX]   \n",
       "               55ms     12S        [M2, M2, DT, MAX]   \n",
       "               static   12S         [RUN1, PT, RUN1]   \n",
       "\n",
       "                                                                 Thrust  \n",
       "Motor  Prop    Airspeed Cells                                            \n",
       "AT5220 15x14x3 35ms     8S                                [13.1, 14.77]  \n",
       "AT7215 15x14x3 10ms     12S                             [23.37, 27.702]  \n",
       "               30ms     12S                      [7.195, 21.683, 7.233]  \n",
       "               35ms     12S             [8.039, 20.977, 20.938, 17.632]  \n",
       "               40ms     12S      [19.384, 13.304, 17.23, 6.403, 18.317]  \n",
       "               45ms     12S             [12.82, 16.849, 16.533, 17.067]  \n",
       "               50ms     12S                            [13.443, 15.073]  \n",
       "               static   12S                             [26.239, 23.61]  \n",
       "       16x14   10ms     12S                            [17.386, 24.399]  \n",
       "               30ms     12S                     [23.756, 21.926, 6.404]  \n",
       "               35ms     12S                     [21.075, 23.357, 6.225]  \n",
       "               40ms     12S             [6.281, 21.648, 19.326, 13.901]  \n",
       "               45ms     12S    [17.585, 21.368, 19.659, 16.727, 14.432]  \n",
       "               50ms     12S            [19.209, 18.339, 16.059, 16.346]  \n",
       "               55ms     12S               [17.814, nan, 15.562, 16.965]  \n",
       "               static   12S                    [18.291, 25.753, 20.616]  "
      ]
     },
     "execution_count": 178,
     "metadata": {},
     "output_type": "execute_result"
    }
   ],
   "source": [
    "# find rows with duplicated \"Motor\", \"Prop\", \"Airspeed\", \"Cells\" and print the battery, config and thrust\n",
    "duplicated = df[df.duplicated(subset=[\"Motor\", \"Prop\", \"Airspeed\", \"Cells\"], keep=False)]\n",
    "duplicated[[\"Motor\", \"Prop\", \"Airspeed\", \"Cells\", \"Battery\", \"Config\", \"Thrust\"]].groupby([\"Motor\", \"Prop\", \"Airspeed\", \"Cells\"]).agg(list)"
   ]
  },
  {
   "cell_type": "code",
   "execution_count": 179,
   "metadata": {},
   "outputs": [
    {
     "data": {
      "text/html": [
       "<div>\n",
       "<style scoped>\n",
       "    .dataframe tbody tr th:only-of-type {\n",
       "        vertical-align: middle;\n",
       "    }\n",
       "\n",
       "    .dataframe tbody tr th {\n",
       "        vertical-align: top;\n",
       "    }\n",
       "\n",
       "    .dataframe thead th {\n",
       "        text-align: right;\n",
       "    }\n",
       "</style>\n",
       "<table border=\"1\" class=\"dataframe\">\n",
       "  <thead>\n",
       "    <tr style=\"text-align: right;\">\n",
       "      <th></th>\n",
       "      <th></th>\n",
       "      <th></th>\n",
       "      <th></th>\n",
       "      <th>Battery</th>\n",
       "      <th>Config</th>\n",
       "      <th>Thrust</th>\n",
       "    </tr>\n",
       "    <tr>\n",
       "      <th>Motor</th>\n",
       "      <th>Prop</th>\n",
       "      <th>Airspeed</th>\n",
       "      <th>Cells</th>\n",
       "      <th></th>\n",
       "      <th></th>\n",
       "      <th></th>\n",
       "    </tr>\n",
       "  </thead>\n",
       "  <tbody>\n",
       "    <tr>\n",
       "      <th>AT5220</th>\n",
       "      <th>15x14x3</th>\n",
       "      <th>35ms</th>\n",
       "      <th>8S</th>\n",
       "      <td>[2.0ah, 3.2ah]</td>\n",
       "      <td>[RUN1, RUN1]</td>\n",
       "      <td>[13.1, 14.77]</td>\n",
       "    </tr>\n",
       "    <tr>\n",
       "      <th rowspan=\"15\" valign=\"top\">AT7215</th>\n",
       "      <th rowspan=\"7\" valign=\"top\">15x14x3</th>\n",
       "      <th>10ms</th>\n",
       "      <th>12S</th>\n",
       "      <td>[97.5wh, nan]</td>\n",
       "      <td>[RUN1, PT]</td>\n",
       "      <td>[23.37, 27.702]</td>\n",
       "    </tr>\n",
       "    <tr>\n",
       "      <th>30ms</th>\n",
       "      <th>12S</th>\n",
       "      <td>[97.5wh, nan, 2.4ah]</td>\n",
       "      <td>[M3, PT, M3]</td>\n",
       "      <td>[7.195, 21.683, 7.233]</td>\n",
       "    </tr>\n",
       "    <tr>\n",
       "      <th>35ms</th>\n",
       "      <th>12S</th>\n",
       "      <td>[97.5wh, 2.4ah, nan, 2.4ah]</td>\n",
       "      <td>[M3, DT, PT, M3]</td>\n",
       "      <td>[8.039, 20.977, 20.938, 17.632]</td>\n",
       "    </tr>\n",
       "    <tr>\n",
       "      <th>40ms</th>\n",
       "      <th>12S</th>\n",
       "      <td>[2.4ah, 115wh, 2.4ah, 97.5wh, nan]</td>\n",
       "      <td>[DT, M2, M3, M3, PT]</td>\n",
       "      <td>[19.384, 13.304, 17.23, 6.403, 18.317]</td>\n",
       "    </tr>\n",
       "    <tr>\n",
       "      <th>45ms</th>\n",
       "      <th>12S</th>\n",
       "      <td>[115wh, 2.4ah, nan, 2.8ah]</td>\n",
       "      <td>[M2, DT, PT, M2]</td>\n",
       "      <td>[12.82, 16.849, 16.533, 17.067]</td>\n",
       "    </tr>\n",
       "    <tr>\n",
       "      <th>50ms</th>\n",
       "      <th>12S</th>\n",
       "      <td>[nan, 2.8ah]</td>\n",
       "      <td>[PT, M2]</td>\n",
       "      <td>[13.443, 15.073]</td>\n",
       "    </tr>\n",
       "    <tr>\n",
       "      <th>static</th>\n",
       "      <th>12S</th>\n",
       "      <td>[nan, 97.5wh]</td>\n",
       "      <td>[PT, RUN1]</td>\n",
       "      <td>[26.239, 23.61]</td>\n",
       "    </tr>\n",
       "    <tr>\n",
       "      <th rowspan=\"8\" valign=\"top\">16x14</th>\n",
       "      <th>10ms</th>\n",
       "      <th>12S</th>\n",
       "      <td>[115wh, nan]</td>\n",
       "      <td>[RUN1, PT]</td>\n",
       "      <td>[17.386, 24.399]</td>\n",
       "    </tr>\n",
       "    <tr>\n",
       "      <th>30ms</th>\n",
       "      <th>12S</th>\n",
       "      <td>[nan, 2.4ah, 97.5wh]</td>\n",
       "      <td>[PT, M3, M3]</td>\n",
       "      <td>[23.756, 21.926, 6.404]</td>\n",
       "    </tr>\n",
       "    <tr>\n",
       "      <th>35ms</th>\n",
       "      <th>12S</th>\n",
       "      <td>[2.4ah, nan, 97.5wh]</td>\n",
       "      <td>[M3, PT, M3]</td>\n",
       "      <td>[21.075, 23.357, 6.225]</td>\n",
       "    </tr>\n",
       "    <tr>\n",
       "      <th>40ms</th>\n",
       "      <th>12S</th>\n",
       "      <td>[97.5wh, nan, 2.4ah, 115wh]</td>\n",
       "      <td>[M3, PT, M3, M2]</td>\n",
       "      <td>[6.281, 21.648, 19.326, 13.901]</td>\n",
       "    </tr>\n",
       "    <tr>\n",
       "      <th>45ms</th>\n",
       "      <th>12S</th>\n",
       "      <td>[nan, nan, 2.8ah, 2.8ah, 115wh]</td>\n",
       "      <td>[MAX, PT, M2, DT, M2]</td>\n",
       "      <td>[17.585, 21.368, 19.659, 16.727, 14.432]</td>\n",
       "    </tr>\n",
       "    <tr>\n",
       "      <th>50ms</th>\n",
       "      <th>12S</th>\n",
       "      <td>[2.8ah, nan, 2.8ah, nan]</td>\n",
       "      <td>[M2, PT, DT, MAX]</td>\n",
       "      <td>[19.209, 18.339, 16.059, 16.346]</td>\n",
       "    </tr>\n",
       "    <tr>\n",
       "      <th>55ms</th>\n",
       "      <th>12S</th>\n",
       "      <td>[2.8ah, nan, 2.8ah, nan]</td>\n",
       "      <td>[M2, M2, DT, MAX]</td>\n",
       "      <td>[17.814, nan, 15.562, 16.965]</td>\n",
       "    </tr>\n",
       "    <tr>\n",
       "      <th>static</th>\n",
       "      <th>12S</th>\n",
       "      <td>[115wh, nan, 97.5wh]</td>\n",
       "      <td>[RUN1, PT, RUN1]</td>\n",
       "      <td>[18.291, 25.753, 20.616]</td>\n",
       "    </tr>\n",
       "  </tbody>\n",
       "</table>\n",
       "</div>"
      ],
      "text/plain": [
       "                                                          Battery  \\\n",
       "Motor  Prop    Airspeed Cells                                       \n",
       "AT5220 15x14x3 35ms     8S                         [2.0ah, 3.2ah]   \n",
       "AT7215 15x14x3 10ms     12S                         [97.5wh, nan]   \n",
       "               30ms     12S                  [97.5wh, nan, 2.4ah]   \n",
       "               35ms     12S           [97.5wh, 2.4ah, nan, 2.4ah]   \n",
       "               40ms     12S    [2.4ah, 115wh, 2.4ah, 97.5wh, nan]   \n",
       "               45ms     12S            [115wh, 2.4ah, nan, 2.8ah]   \n",
       "               50ms     12S                          [nan, 2.8ah]   \n",
       "               static   12S                         [nan, 97.5wh]   \n",
       "       16x14   10ms     12S                          [115wh, nan]   \n",
       "               30ms     12S                  [nan, 2.4ah, 97.5wh]   \n",
       "               35ms     12S                  [2.4ah, nan, 97.5wh]   \n",
       "               40ms     12S           [97.5wh, nan, 2.4ah, 115wh]   \n",
       "               45ms     12S       [nan, nan, 2.8ah, 2.8ah, 115wh]   \n",
       "               50ms     12S              [2.8ah, nan, 2.8ah, nan]   \n",
       "               55ms     12S              [2.8ah, nan, 2.8ah, nan]   \n",
       "               static   12S                  [115wh, nan, 97.5wh]   \n",
       "\n",
       "                                              Config  \\\n",
       "Motor  Prop    Airspeed Cells                          \n",
       "AT5220 15x14x3 35ms     8S              [RUN1, RUN1]   \n",
       "AT7215 15x14x3 10ms     12S               [RUN1, PT]   \n",
       "               30ms     12S             [M3, PT, M3]   \n",
       "               35ms     12S         [M3, DT, PT, M3]   \n",
       "               40ms     12S     [DT, M2, M3, M3, PT]   \n",
       "               45ms     12S         [M2, DT, PT, M2]   \n",
       "               50ms     12S                 [PT, M2]   \n",
       "               static   12S               [PT, RUN1]   \n",
       "       16x14   10ms     12S               [RUN1, PT]   \n",
       "               30ms     12S             [PT, M3, M3]   \n",
       "               35ms     12S             [M3, PT, M3]   \n",
       "               40ms     12S         [M3, PT, M3, M2]   \n",
       "               45ms     12S    [MAX, PT, M2, DT, M2]   \n",
       "               50ms     12S        [M2, PT, DT, MAX]   \n",
       "               55ms     12S        [M2, M2, DT, MAX]   \n",
       "               static   12S         [RUN1, PT, RUN1]   \n",
       "\n",
       "                                                                 Thrust  \n",
       "Motor  Prop    Airspeed Cells                                            \n",
       "AT5220 15x14x3 35ms     8S                                [13.1, 14.77]  \n",
       "AT7215 15x14x3 10ms     12S                             [23.37, 27.702]  \n",
       "               30ms     12S                      [7.195, 21.683, 7.233]  \n",
       "               35ms     12S             [8.039, 20.977, 20.938, 17.632]  \n",
       "               40ms     12S      [19.384, 13.304, 17.23, 6.403, 18.317]  \n",
       "               45ms     12S             [12.82, 16.849, 16.533, 17.067]  \n",
       "               50ms     12S                            [13.443, 15.073]  \n",
       "               static   12S                             [26.239, 23.61]  \n",
       "       16x14   10ms     12S                            [17.386, 24.399]  \n",
       "               30ms     12S                     [23.756, 21.926, 6.404]  \n",
       "               35ms     12S                     [21.075, 23.357, 6.225]  \n",
       "               40ms     12S             [6.281, 21.648, 19.326, 13.901]  \n",
       "               45ms     12S    [17.585, 21.368, 19.659, 16.727, 14.432]  \n",
       "               50ms     12S            [19.209, 18.339, 16.059, 16.346]  \n",
       "               55ms     12S               [17.814, nan, 15.562, 16.965]  \n",
       "               static   12S                    [18.291, 25.753, 20.616]  "
      ]
     },
     "execution_count": 179,
     "metadata": {},
     "output_type": "execute_result"
    }
   ],
   "source": [
    "duplicated[duplicated[\"Battery\"] != \"NaN\"].groupby([\"Motor\", \"Prop\", \"Airspeed\", \"Cells\"]).agg(list)"
   ]
  },
  {
   "cell_type": "code",
   "execution_count": 180,
   "metadata": {},
   "outputs": [
    {
     "data": {
      "text/html": [
       "<div>\n",
       "<style scoped>\n",
       "    .dataframe tbody tr th:only-of-type {\n",
       "        vertical-align: middle;\n",
       "    }\n",
       "\n",
       "    .dataframe tbody tr th {\n",
       "        vertical-align: top;\n",
       "    }\n",
       "\n",
       "    .dataframe thead th {\n",
       "        text-align: right;\n",
       "    }\n",
       "</style>\n",
       "<table border=\"1\" class=\"dataframe\">\n",
       "  <thead>\n",
       "    <tr style=\"text-align: right;\">\n",
       "      <th></th>\n",
       "      <th>Motor</th>\n",
       "      <th>Prop</th>\n",
       "      <th>Airspeed</th>\n",
       "      <th>Cells</th>\n",
       "      <th>Battery</th>\n",
       "      <th>Config</th>\n",
       "      <th>Thrust</th>\n",
       "    </tr>\n",
       "  </thead>\n",
       "  <tbody>\n",
       "    <tr>\n",
       "      <th>0</th>\n",
       "      <td>AT7215</td>\n",
       "      <td>15x14x3</td>\n",
       "      <td>30ms</td>\n",
       "      <td>12S</td>\n",
       "      <td>97.5wh</td>\n",
       "      <td>M3</td>\n",
       "      <td>7.195</td>\n",
       "    </tr>\n",
       "    <tr>\n",
       "      <th>1</th>\n",
       "      <td>AT7215</td>\n",
       "      <td>15x14x3</td>\n",
       "      <td>30ms</td>\n",
       "      <td>12S</td>\n",
       "      <td>2.4ah</td>\n",
       "      <td>M3</td>\n",
       "      <td>7.233</td>\n",
       "    </tr>\n",
       "    <tr>\n",
       "      <th>2</th>\n",
       "      <td>AT7215</td>\n",
       "      <td>15x14x3</td>\n",
       "      <td>35ms</td>\n",
       "      <td>12S</td>\n",
       "      <td>97.5wh</td>\n",
       "      <td>M3</td>\n",
       "      <td>8.039</td>\n",
       "    </tr>\n",
       "    <tr>\n",
       "      <th>3</th>\n",
       "      <td>AT7215</td>\n",
       "      <td>15x14x3</td>\n",
       "      <td>35ms</td>\n",
       "      <td>12S</td>\n",
       "      <td>2.4ah</td>\n",
       "      <td>M3</td>\n",
       "      <td>17.632</td>\n",
       "    </tr>\n",
       "    <tr>\n",
       "      <th>4</th>\n",
       "      <td>AT7215</td>\n",
       "      <td>15x14x3</td>\n",
       "      <td>40ms</td>\n",
       "      <td>12S</td>\n",
       "      <td>2.4ah</td>\n",
       "      <td>M3</td>\n",
       "      <td>17.230</td>\n",
       "    </tr>\n",
       "    <tr>\n",
       "      <th>5</th>\n",
       "      <td>AT7215</td>\n",
       "      <td>15x14x3</td>\n",
       "      <td>40ms</td>\n",
       "      <td>12S</td>\n",
       "      <td>97.5wh</td>\n",
       "      <td>M3</td>\n",
       "      <td>6.403</td>\n",
       "    </tr>\n",
       "    <tr>\n",
       "      <th>6</th>\n",
       "      <td>AT7215</td>\n",
       "      <td>16x14</td>\n",
       "      <td>30ms</td>\n",
       "      <td>12S</td>\n",
       "      <td>2.4ah</td>\n",
       "      <td>M3</td>\n",
       "      <td>21.926</td>\n",
       "    </tr>\n",
       "    <tr>\n",
       "      <th>7</th>\n",
       "      <td>AT7215</td>\n",
       "      <td>16x14</td>\n",
       "      <td>30ms</td>\n",
       "      <td>12S</td>\n",
       "      <td>97.5wh</td>\n",
       "      <td>M3</td>\n",
       "      <td>6.404</td>\n",
       "    </tr>\n",
       "    <tr>\n",
       "      <th>8</th>\n",
       "      <td>AT7215</td>\n",
       "      <td>16x14</td>\n",
       "      <td>35ms</td>\n",
       "      <td>12S</td>\n",
       "      <td>2.4ah</td>\n",
       "      <td>M3</td>\n",
       "      <td>21.075</td>\n",
       "    </tr>\n",
       "    <tr>\n",
       "      <th>9</th>\n",
       "      <td>AT7215</td>\n",
       "      <td>16x14</td>\n",
       "      <td>35ms</td>\n",
       "      <td>12S</td>\n",
       "      <td>97.5wh</td>\n",
       "      <td>M3</td>\n",
       "      <td>6.225</td>\n",
       "    </tr>\n",
       "    <tr>\n",
       "      <th>10</th>\n",
       "      <td>AT7215</td>\n",
       "      <td>16x14</td>\n",
       "      <td>40ms</td>\n",
       "      <td>12S</td>\n",
       "      <td>97.5wh</td>\n",
       "      <td>M3</td>\n",
       "      <td>6.281</td>\n",
       "    </tr>\n",
       "    <tr>\n",
       "      <th>11</th>\n",
       "      <td>AT7215</td>\n",
       "      <td>16x14</td>\n",
       "      <td>40ms</td>\n",
       "      <td>12S</td>\n",
       "      <td>2.4ah</td>\n",
       "      <td>M3</td>\n",
       "      <td>19.326</td>\n",
       "    </tr>\n",
       "  </tbody>\n",
       "</table>\n",
       "</div>"
      ],
      "text/plain": [
       "     Motor     Prop Airspeed Cells Battery Config  Thrust\n",
       "0   AT7215  15x14x3     30ms   12S  97.5wh     M3   7.195\n",
       "1   AT7215  15x14x3     30ms   12S   2.4ah     M3   7.233\n",
       "2   AT7215  15x14x3     35ms   12S  97.5wh     M3   8.039\n",
       "3   AT7215  15x14x3     35ms   12S   2.4ah     M3  17.632\n",
       "4   AT7215  15x14x3     40ms   12S   2.4ah     M3  17.230\n",
       "5   AT7215  15x14x3     40ms   12S  97.5wh     M3   6.403\n",
       "6   AT7215    16x14     30ms   12S   2.4ah     M3  21.926\n",
       "7   AT7215    16x14     30ms   12S  97.5wh     M3   6.404\n",
       "8   AT7215    16x14     35ms   12S   2.4ah     M3  21.075\n",
       "9   AT7215    16x14     35ms   12S  97.5wh     M3   6.225\n",
       "10  AT7215    16x14     40ms   12S  97.5wh     M3   6.281\n",
       "11  AT7215    16x14     40ms   12S   2.4ah     M3  19.326"
      ]
     },
     "execution_count": 180,
     "metadata": {},
     "output_type": "execute_result"
    }
   ],
   "source": [
    "df[df[\"Config\"] == \"M3\"].sort_values(by=[\"Motor\", \"Prop\", \"Airspeed\", \"Cells\"]).reset_index(drop=True)"
   ]
  },
  {
   "cell_type": "code",
   "execution_count": 181,
   "metadata": {},
   "outputs": [
    {
     "data": {
      "text/html": [
       "<div>\n",
       "<style scoped>\n",
       "    .dataframe tbody tr th:only-of-type {\n",
       "        vertical-align: middle;\n",
       "    }\n",
       "\n",
       "    .dataframe tbody tr th {\n",
       "        vertical-align: top;\n",
       "    }\n",
       "\n",
       "    .dataframe thead th {\n",
       "        text-align: right;\n",
       "    }\n",
       "</style>\n",
       "<table border=\"1\" class=\"dataframe\">\n",
       "  <thead>\n",
       "    <tr style=\"text-align: right;\">\n",
       "      <th></th>\n",
       "      <th>Motor</th>\n",
       "      <th>Prop</th>\n",
       "      <th>Airspeed</th>\n",
       "      <th>Cells</th>\n",
       "      <th>Battery</th>\n",
       "      <th>Config</th>\n",
       "      <th>Thrust</th>\n",
       "    </tr>\n",
       "  </thead>\n",
       "  <tbody>\n",
       "    <tr>\n",
       "      <th>0</th>\n",
       "      <td>AT7215</td>\n",
       "      <td>15x14x3</td>\n",
       "      <td>40ms</td>\n",
       "      <td>12S</td>\n",
       "      <td>115wh</td>\n",
       "      <td>M2</td>\n",
       "      <td>13.304</td>\n",
       "    </tr>\n",
       "    <tr>\n",
       "      <th>1</th>\n",
       "      <td>AT7215</td>\n",
       "      <td>15x14x3</td>\n",
       "      <td>45ms</td>\n",
       "      <td>12S</td>\n",
       "      <td>115wh</td>\n",
       "      <td>M2</td>\n",
       "      <td>12.820</td>\n",
       "    </tr>\n",
       "    <tr>\n",
       "      <th>2</th>\n",
       "      <td>AT7215</td>\n",
       "      <td>15x14x3</td>\n",
       "      <td>45ms</td>\n",
       "      <td>12S</td>\n",
       "      <td>2.8ah</td>\n",
       "      <td>M2</td>\n",
       "      <td>17.067</td>\n",
       "    </tr>\n",
       "    <tr>\n",
       "      <th>3</th>\n",
       "      <td>AT7215</td>\n",
       "      <td>15x14x3</td>\n",
       "      <td>50ms</td>\n",
       "      <td>12S</td>\n",
       "      <td>2.8ah</td>\n",
       "      <td>M2</td>\n",
       "      <td>15.073</td>\n",
       "    </tr>\n",
       "    <tr>\n",
       "      <th>4</th>\n",
       "      <td>AT7215</td>\n",
       "      <td>16x14</td>\n",
       "      <td>40ms</td>\n",
       "      <td>12S</td>\n",
       "      <td>115wh</td>\n",
       "      <td>M2</td>\n",
       "      <td>13.901</td>\n",
       "    </tr>\n",
       "    <tr>\n",
       "      <th>5</th>\n",
       "      <td>AT7215</td>\n",
       "      <td>16x14</td>\n",
       "      <td>45ms</td>\n",
       "      <td>12S</td>\n",
       "      <td>2.8ah</td>\n",
       "      <td>M2</td>\n",
       "      <td>19.659</td>\n",
       "    </tr>\n",
       "    <tr>\n",
       "      <th>6</th>\n",
       "      <td>AT7215</td>\n",
       "      <td>16x14</td>\n",
       "      <td>45ms</td>\n",
       "      <td>12S</td>\n",
       "      <td>115wh</td>\n",
       "      <td>M2</td>\n",
       "      <td>14.432</td>\n",
       "    </tr>\n",
       "    <tr>\n",
       "      <th>7</th>\n",
       "      <td>AT7215</td>\n",
       "      <td>16x14</td>\n",
       "      <td>50ms</td>\n",
       "      <td>12S</td>\n",
       "      <td>2.8ah</td>\n",
       "      <td>M2</td>\n",
       "      <td>19.209</td>\n",
       "    </tr>\n",
       "    <tr>\n",
       "      <th>8</th>\n",
       "      <td>AT7215</td>\n",
       "      <td>16x14</td>\n",
       "      <td>55ms</td>\n",
       "      <td>12S</td>\n",
       "      <td>2.8ah</td>\n",
       "      <td>M2</td>\n",
       "      <td>17.814</td>\n",
       "    </tr>\n",
       "    <tr>\n",
       "      <th>9</th>\n",
       "      <td>AT7215</td>\n",
       "      <td>16x14</td>\n",
       "      <td>55ms</td>\n",
       "      <td>12S</td>\n",
       "      <td>nan</td>\n",
       "      <td>M2</td>\n",
       "      <td>NaN</td>\n",
       "    </tr>\n",
       "  </tbody>\n",
       "</table>\n",
       "</div>"
      ],
      "text/plain": [
       "    Motor     Prop Airspeed Cells Battery Config  Thrust\n",
       "0  AT7215  15x14x3     40ms   12S   115wh     M2  13.304\n",
       "1  AT7215  15x14x3     45ms   12S   115wh     M2  12.820\n",
       "2  AT7215  15x14x3     45ms   12S   2.8ah     M2  17.067\n",
       "3  AT7215  15x14x3     50ms   12S   2.8ah     M2  15.073\n",
       "4  AT7215    16x14     40ms   12S   115wh     M2  13.901\n",
       "5  AT7215    16x14     45ms   12S   2.8ah     M2  19.659\n",
       "6  AT7215    16x14     45ms   12S   115wh     M2  14.432\n",
       "7  AT7215    16x14     50ms   12S   2.8ah     M2  19.209\n",
       "8  AT7215    16x14     55ms   12S   2.8ah     M2  17.814\n",
       "9  AT7215    16x14     55ms   12S     nan     M2     NaN"
      ]
     },
     "execution_count": 181,
     "metadata": {},
     "output_type": "execute_result"
    }
   ],
   "source": [
    "df[df[\"Config\"] == \"M2\"].sort_values(by=[\"Motor\", \"Prop\", \"Airspeed\", \"Cells\"]).reset_index(drop=True)"
   ]
  },
  {
   "cell_type": "code",
   "execution_count": 182,
   "metadata": {},
   "outputs": [
    {
     "data": {
      "text/html": [
       "<div>\n",
       "<style scoped>\n",
       "    .dataframe tbody tr th:only-of-type {\n",
       "        vertical-align: middle;\n",
       "    }\n",
       "\n",
       "    .dataframe tbody tr th {\n",
       "        vertical-align: top;\n",
       "    }\n",
       "\n",
       "    .dataframe thead th {\n",
       "        text-align: right;\n",
       "    }\n",
       "</style>\n",
       "<table border=\"1\" class=\"dataframe\">\n",
       "  <thead>\n",
       "    <tr style=\"text-align: right;\">\n",
       "      <th></th>\n",
       "      <th>Motor</th>\n",
       "      <th>Prop</th>\n",
       "      <th>Airspeed</th>\n",
       "      <th>Cells</th>\n",
       "      <th>Thrust</th>\n",
       "    </tr>\n",
       "  </thead>\n",
       "  <tbody>\n",
       "    <tr>\n",
       "      <th>0</th>\n",
       "      <td>AT5220</td>\n",
       "      <td>15x14x3</td>\n",
       "      <td>25ms</td>\n",
       "      <td>8S</td>\n",
       "      <td>15.538</td>\n",
       "    </tr>\n",
       "    <tr>\n",
       "      <th>1</th>\n",
       "      <td>AT5220</td>\n",
       "      <td>15x14x3</td>\n",
       "      <td>30ms</td>\n",
       "      <td>8S</td>\n",
       "      <td>14.885</td>\n",
       "    </tr>\n",
       "    <tr>\n",
       "      <th>2</th>\n",
       "      <td>AT5220</td>\n",
       "      <td>15x14x3</td>\n",
       "      <td>35ms</td>\n",
       "      <td>8S</td>\n",
       "      <td>14.770</td>\n",
       "    </tr>\n",
       "    <tr>\n",
       "      <th>3</th>\n",
       "      <td>AT5220</td>\n",
       "      <td>15x14x3</td>\n",
       "      <td>40ms</td>\n",
       "      <td>8S</td>\n",
       "      <td>10.570</td>\n",
       "    </tr>\n",
       "    <tr>\n",
       "      <th>4</th>\n",
       "      <td>AT5220</td>\n",
       "      <td>15x14x3</td>\n",
       "      <td>static</td>\n",
       "      <td>8S</td>\n",
       "      <td>18.135</td>\n",
       "    </tr>\n",
       "    <tr>\n",
       "      <th>5</th>\n",
       "      <td>AT5220</td>\n",
       "      <td>16x12</td>\n",
       "      <td>25ms</td>\n",
       "      <td>8S</td>\n",
       "      <td>15.762</td>\n",
       "    </tr>\n",
       "    <tr>\n",
       "      <th>6</th>\n",
       "      <td>AT5220</td>\n",
       "      <td>16x12</td>\n",
       "      <td>30ms</td>\n",
       "      <td>8S</td>\n",
       "      <td>14.680</td>\n",
       "    </tr>\n",
       "    <tr>\n",
       "      <th>7</th>\n",
       "      <td>AT5220</td>\n",
       "      <td>16x12</td>\n",
       "      <td>35ms</td>\n",
       "      <td>8S</td>\n",
       "      <td>13.679</td>\n",
       "    </tr>\n",
       "    <tr>\n",
       "      <th>8</th>\n",
       "      <td>AT5220</td>\n",
       "      <td>16x12</td>\n",
       "      <td>40ms</td>\n",
       "      <td>8S</td>\n",
       "      <td>13.343</td>\n",
       "    </tr>\n",
       "    <tr>\n",
       "      <th>9</th>\n",
       "      <td>AT5220</td>\n",
       "      <td>16x12</td>\n",
       "      <td>static</td>\n",
       "      <td>8S</td>\n",
       "      <td>16.754</td>\n",
       "    </tr>\n",
       "    <tr>\n",
       "      <th>10</th>\n",
       "      <td>AT5330</td>\n",
       "      <td>15x14x3</td>\n",
       "      <td>10ms</td>\n",
       "      <td>12S</td>\n",
       "      <td>19.193</td>\n",
       "    </tr>\n",
       "    <tr>\n",
       "      <th>11</th>\n",
       "      <td>AT5330</td>\n",
       "      <td>15x14x3</td>\n",
       "      <td>15ms</td>\n",
       "      <td>12S</td>\n",
       "      <td>16.997</td>\n",
       "    </tr>\n",
       "    <tr>\n",
       "      <th>12</th>\n",
       "      <td>AT5330</td>\n",
       "      <td>15x14x3</td>\n",
       "      <td>20ms</td>\n",
       "      <td>12S</td>\n",
       "      <td>16.177</td>\n",
       "    </tr>\n",
       "    <tr>\n",
       "      <th>13</th>\n",
       "      <td>AT5330</td>\n",
       "      <td>15x14x3</td>\n",
       "      <td>25ms</td>\n",
       "      <td>12S</td>\n",
       "      <td>15.198</td>\n",
       "    </tr>\n",
       "    <tr>\n",
       "      <th>14</th>\n",
       "      <td>AT5330</td>\n",
       "      <td>15x14x3</td>\n",
       "      <td>30ms</td>\n",
       "      <td>12S</td>\n",
       "      <td>12.796</td>\n",
       "    </tr>\n",
       "    <tr>\n",
       "      <th>15</th>\n",
       "      <td>AT5330</td>\n",
       "      <td>15x14x3</td>\n",
       "      <td>35ms</td>\n",
       "      <td>12S</td>\n",
       "      <td>11.208</td>\n",
       "    </tr>\n",
       "    <tr>\n",
       "      <th>16</th>\n",
       "      <td>AT5330</td>\n",
       "      <td>15x14x3</td>\n",
       "      <td>static</td>\n",
       "      <td>12S</td>\n",
       "      <td>19.676</td>\n",
       "    </tr>\n",
       "    <tr>\n",
       "      <th>17</th>\n",
       "      <td>AT5330</td>\n",
       "      <td>16x14</td>\n",
       "      <td>20ms</td>\n",
       "      <td>12S</td>\n",
       "      <td>18.028</td>\n",
       "    </tr>\n",
       "    <tr>\n",
       "      <th>18</th>\n",
       "      <td>AT5330</td>\n",
       "      <td>16x14</td>\n",
       "      <td>25ms</td>\n",
       "      <td>12S</td>\n",
       "      <td>17.511</td>\n",
       "    </tr>\n",
       "    <tr>\n",
       "      <th>19</th>\n",
       "      <td>AT5330</td>\n",
       "      <td>16x14</td>\n",
       "      <td>30ms</td>\n",
       "      <td>12S</td>\n",
       "      <td>16.379</td>\n",
       "    </tr>\n",
       "    <tr>\n",
       "      <th>20</th>\n",
       "      <td>AT5330</td>\n",
       "      <td>16x14</td>\n",
       "      <td>35ms</td>\n",
       "      <td>12S</td>\n",
       "      <td>15.358</td>\n",
       "    </tr>\n",
       "    <tr>\n",
       "      <th>21</th>\n",
       "      <td>AT5330</td>\n",
       "      <td>16x16</td>\n",
       "      <td>30ms</td>\n",
       "      <td>12S</td>\n",
       "      <td>17.130</td>\n",
       "    </tr>\n",
       "    <tr>\n",
       "      <th>22</th>\n",
       "      <td>AT5330</td>\n",
       "      <td>16x16</td>\n",
       "      <td>35ms</td>\n",
       "      <td>12S</td>\n",
       "      <td>15.961</td>\n",
       "    </tr>\n",
       "    <tr>\n",
       "      <th>23</th>\n",
       "      <td>AT5330</td>\n",
       "      <td>16x16</td>\n",
       "      <td>40ms</td>\n",
       "      <td>12S</td>\n",
       "      <td>15.205</td>\n",
       "    </tr>\n",
       "    <tr>\n",
       "      <th>24</th>\n",
       "      <td>AT7215</td>\n",
       "      <td>15x14x3</td>\n",
       "      <td>10ms</td>\n",
       "      <td>12S</td>\n",
       "      <td>27.702</td>\n",
       "    </tr>\n",
       "    <tr>\n",
       "      <th>25</th>\n",
       "      <td>AT7215</td>\n",
       "      <td>15x14x3</td>\n",
       "      <td>15ms</td>\n",
       "      <td>12S</td>\n",
       "      <td>25.014</td>\n",
       "    </tr>\n",
       "    <tr>\n",
       "      <th>26</th>\n",
       "      <td>AT7215</td>\n",
       "      <td>15x14x3</td>\n",
       "      <td>20ms</td>\n",
       "      <td>12S</td>\n",
       "      <td>25.089</td>\n",
       "    </tr>\n",
       "    <tr>\n",
       "      <th>27</th>\n",
       "      <td>AT7215</td>\n",
       "      <td>15x14x3</td>\n",
       "      <td>25ms</td>\n",
       "      <td>12S</td>\n",
       "      <td>23.968</td>\n",
       "    </tr>\n",
       "    <tr>\n",
       "      <th>28</th>\n",
       "      <td>AT7215</td>\n",
       "      <td>15x14x3</td>\n",
       "      <td>30ms</td>\n",
       "      <td>12S</td>\n",
       "      <td>21.683</td>\n",
       "    </tr>\n",
       "    <tr>\n",
       "      <th>29</th>\n",
       "      <td>AT7215</td>\n",
       "      <td>15x14x3</td>\n",
       "      <td>35ms</td>\n",
       "      <td>12S</td>\n",
       "      <td>20.977</td>\n",
       "    </tr>\n",
       "    <tr>\n",
       "      <th>30</th>\n",
       "      <td>AT7215</td>\n",
       "      <td>15x14x3</td>\n",
       "      <td>40ms</td>\n",
       "      <td>12S</td>\n",
       "      <td>19.384</td>\n",
       "    </tr>\n",
       "    <tr>\n",
       "      <th>31</th>\n",
       "      <td>AT7215</td>\n",
       "      <td>15x14x3</td>\n",
       "      <td>45ms</td>\n",
       "      <td>12S</td>\n",
       "      <td>17.067</td>\n",
       "    </tr>\n",
       "    <tr>\n",
       "      <th>32</th>\n",
       "      <td>AT7215</td>\n",
       "      <td>15x14x3</td>\n",
       "      <td>50ms</td>\n",
       "      <td>12S</td>\n",
       "      <td>15.073</td>\n",
       "    </tr>\n",
       "    <tr>\n",
       "      <th>33</th>\n",
       "      <td>AT7215</td>\n",
       "      <td>15x14x3</td>\n",
       "      <td>static</td>\n",
       "      <td>12S</td>\n",
       "      <td>26.239</td>\n",
       "    </tr>\n",
       "    <tr>\n",
       "      <th>34</th>\n",
       "      <td>AT7215</td>\n",
       "      <td>16x14</td>\n",
       "      <td>10ms</td>\n",
       "      <td>12S</td>\n",
       "      <td>24.399</td>\n",
       "    </tr>\n",
       "    <tr>\n",
       "      <th>35</th>\n",
       "      <td>AT7215</td>\n",
       "      <td>16x14</td>\n",
       "      <td>15ms</td>\n",
       "      <td>12S</td>\n",
       "      <td>22.907</td>\n",
       "    </tr>\n",
       "    <tr>\n",
       "      <th>36</th>\n",
       "      <td>AT7215</td>\n",
       "      <td>16x14</td>\n",
       "      <td>20ms</td>\n",
       "      <td>12S</td>\n",
       "      <td>24.525</td>\n",
       "    </tr>\n",
       "    <tr>\n",
       "      <th>37</th>\n",
       "      <td>AT7215</td>\n",
       "      <td>16x14</td>\n",
       "      <td>25ms</td>\n",
       "      <td>12S</td>\n",
       "      <td>24.706</td>\n",
       "    </tr>\n",
       "    <tr>\n",
       "      <th>38</th>\n",
       "      <td>AT7215</td>\n",
       "      <td>16x14</td>\n",
       "      <td>30ms</td>\n",
       "      <td>12S</td>\n",
       "      <td>23.756</td>\n",
       "    </tr>\n",
       "    <tr>\n",
       "      <th>39</th>\n",
       "      <td>AT7215</td>\n",
       "      <td>16x14</td>\n",
       "      <td>35ms</td>\n",
       "      <td>12S</td>\n",
       "      <td>23.357</td>\n",
       "    </tr>\n",
       "    <tr>\n",
       "      <th>40</th>\n",
       "      <td>AT7215</td>\n",
       "      <td>16x14</td>\n",
       "      <td>40ms</td>\n",
       "      <td>12S</td>\n",
       "      <td>21.648</td>\n",
       "    </tr>\n",
       "    <tr>\n",
       "      <th>41</th>\n",
       "      <td>AT7215</td>\n",
       "      <td>16x14</td>\n",
       "      <td>45ms</td>\n",
       "      <td>12S</td>\n",
       "      <td>21.368</td>\n",
       "    </tr>\n",
       "    <tr>\n",
       "      <th>42</th>\n",
       "      <td>AT7215</td>\n",
       "      <td>16x14</td>\n",
       "      <td>50ms</td>\n",
       "      <td>12S</td>\n",
       "      <td>19.209</td>\n",
       "    </tr>\n",
       "    <tr>\n",
       "      <th>43</th>\n",
       "      <td>AT7215</td>\n",
       "      <td>16x14</td>\n",
       "      <td>55ms</td>\n",
       "      <td>12S</td>\n",
       "      <td>17.814</td>\n",
       "    </tr>\n",
       "    <tr>\n",
       "      <th>44</th>\n",
       "      <td>AT7215</td>\n",
       "      <td>16x14</td>\n",
       "      <td>60ms</td>\n",
       "      <td>12S</td>\n",
       "      <td>14.999</td>\n",
       "    </tr>\n",
       "    <tr>\n",
       "      <th>45</th>\n",
       "      <td>AT7215</td>\n",
       "      <td>16x14</td>\n",
       "      <td>static</td>\n",
       "      <td>12S</td>\n",
       "      <td>25.753</td>\n",
       "    </tr>\n",
       "    <tr>\n",
       "      <th>46</th>\n",
       "      <td>AT7215</td>\n",
       "      <td>16x16</td>\n",
       "      <td>45ms</td>\n",
       "      <td>12S</td>\n",
       "      <td>20.074</td>\n",
       "    </tr>\n",
       "    <tr>\n",
       "      <th>47</th>\n",
       "      <td>AT7215</td>\n",
       "      <td>16x16</td>\n",
       "      <td>50ms</td>\n",
       "      <td>12S</td>\n",
       "      <td>20.357</td>\n",
       "    </tr>\n",
       "  </tbody>\n",
       "</table>\n",
       "</div>"
      ],
      "text/plain": [
       "     Motor     Prop Airspeed Cells  Thrust\n",
       "0   AT5220  15x14x3     25ms    8S  15.538\n",
       "1   AT5220  15x14x3     30ms    8S  14.885\n",
       "2   AT5220  15x14x3     35ms    8S  14.770\n",
       "3   AT5220  15x14x3     40ms    8S  10.570\n",
       "4   AT5220  15x14x3   static    8S  18.135\n",
       "5   AT5220    16x12     25ms    8S  15.762\n",
       "6   AT5220    16x12     30ms    8S  14.680\n",
       "7   AT5220    16x12     35ms    8S  13.679\n",
       "8   AT5220    16x12     40ms    8S  13.343\n",
       "9   AT5220    16x12   static    8S  16.754\n",
       "10  AT5330  15x14x3     10ms   12S  19.193\n",
       "11  AT5330  15x14x3     15ms   12S  16.997\n",
       "12  AT5330  15x14x3     20ms   12S  16.177\n",
       "13  AT5330  15x14x3     25ms   12S  15.198\n",
       "14  AT5330  15x14x3     30ms   12S  12.796\n",
       "15  AT5330  15x14x3     35ms   12S  11.208\n",
       "16  AT5330  15x14x3   static   12S  19.676\n",
       "17  AT5330    16x14     20ms   12S  18.028\n",
       "18  AT5330    16x14     25ms   12S  17.511\n",
       "19  AT5330    16x14     30ms   12S  16.379\n",
       "20  AT5330    16x14     35ms   12S  15.358\n",
       "21  AT5330    16x16     30ms   12S  17.130\n",
       "22  AT5330    16x16     35ms   12S  15.961\n",
       "23  AT5330    16x16     40ms   12S  15.205\n",
       "24  AT7215  15x14x3     10ms   12S  27.702\n",
       "25  AT7215  15x14x3     15ms   12S  25.014\n",
       "26  AT7215  15x14x3     20ms   12S  25.089\n",
       "27  AT7215  15x14x3     25ms   12S  23.968\n",
       "28  AT7215  15x14x3     30ms   12S  21.683\n",
       "29  AT7215  15x14x3     35ms   12S  20.977\n",
       "30  AT7215  15x14x3     40ms   12S  19.384\n",
       "31  AT7215  15x14x3     45ms   12S  17.067\n",
       "32  AT7215  15x14x3     50ms   12S  15.073\n",
       "33  AT7215  15x14x3   static   12S  26.239\n",
       "34  AT7215    16x14     10ms   12S  24.399\n",
       "35  AT7215    16x14     15ms   12S  22.907\n",
       "36  AT7215    16x14     20ms   12S  24.525\n",
       "37  AT7215    16x14     25ms   12S  24.706\n",
       "38  AT7215    16x14     30ms   12S  23.756\n",
       "39  AT7215    16x14     35ms   12S  23.357\n",
       "40  AT7215    16x14     40ms   12S  21.648\n",
       "41  AT7215    16x14     45ms   12S  21.368\n",
       "42  AT7215    16x14     50ms   12S  19.209\n",
       "43  AT7215    16x14     55ms   12S  17.814\n",
       "44  AT7215    16x14     60ms   12S  14.999\n",
       "45  AT7215    16x14   static   12S  25.753\n",
       "46  AT7215    16x16     45ms   12S  20.074\n",
       "47  AT7215    16x16     50ms   12S  20.357"
      ]
     },
     "execution_count": 182,
     "metadata": {},
     "output_type": "execute_result"
    }
   ],
   "source": [
    "# keep only the max thrust for each \"Motor\", \"Prop\", \"Airspeed\", \"Cells\"\n",
    "df_max = df.groupby([\"Motor\", \"Prop\", \"Airspeed\", \"Cells\"]).agg({\"Thrust\": \"max\"}).reset_index()\n",
    "df_max"
   ]
  },
  {
   "cell_type": "code",
   "execution_count": 183,
   "metadata": {},
   "outputs": [],
   "source": [
    "df_max[\"Airspeed\"] = df_max[\"Airspeed\"].apply(lambda x: float(x.replace(\"static\", \"0.0\").replace(\"ms\", \"\")))"
   ]
  },
  {
   "cell_type": "code",
   "execution_count": 184,
   "metadata": {},
   "outputs": [],
   "source": [
    "df_max_8s = df_max[df_max[\"Cells\"] == \"8S\"]\n",
    "df_max_12s = df_max[df_max[\"Cells\"] == \"12S\"]"
   ]
  },
  {
   "cell_type": "code",
   "execution_count": 185,
   "metadata": {},
   "outputs": [
    {
     "data": {
      "application/vnd.plotly.v1+json": {
       "config": {
        "plotlyServerURL": "https://plot.ly"
       },
       "data": [
        {
         "hovertemplate": "Prop=15x14x3<br>Airspeed=%{x}<br>Thrust=%{y}<extra></extra>",
         "legendgroup": "15x14x3",
         "marker": {
          "color": "#636efa",
          "symbol": "circle"
         },
         "mode": "lines+markers",
         "name": "15x14x3",
         "orientation": "v",
         "showlegend": true,
         "type": "scatter",
         "x": [
          0,
          25,
          30,
          35,
          40
         ],
         "xaxis": "x",
         "y": [
          18.135,
          15.538,
          14.885,
          14.77,
          10.57
         ],
         "yaxis": "y"
        },
        {
         "hovertemplate": "Prop=16x12<br>Airspeed=%{x}<br>Thrust=%{y}<extra></extra>",
         "legendgroup": "16x12",
         "marker": {
          "color": "#EF553B",
          "symbol": "circle"
         },
         "mode": "lines+markers",
         "name": "16x12",
         "orientation": "v",
         "showlegend": true,
         "type": "scatter",
         "x": [
          0,
          25,
          30,
          35,
          40
         ],
         "xaxis": "x",
         "y": [
          16.754,
          15.762,
          14.68,
          13.679,
          13.343
         ],
         "yaxis": "y"
        }
       ],
       "layout": {
        "annotations": [
         {
          "font": {
           "color": "red",
           "size": 16
          },
          "showarrow": false,
          "text": "M2",
          "x": 45,
          "y": 18.135
         },
         {
          "font": {
           "color": "seagreen",
           "size": 16
          },
          "showarrow": false,
          "text": "M3",
          "x": 25,
          "y": 18.135
         }
        ],
        "legend": {
         "title": {
          "text": "Prop"
         },
         "tracegroupgap": 0
        },
        "shapes": [
         {
          "fillcolor": "LightSalmon",
          "layer": "below",
          "line": {
           "width": 0
          },
          "opacity": 0.5,
          "type": "rect",
          "x0": 35,
          "x1": 55,
          "xref": "x",
          "y0": 0,
          "y1": 1,
          "yref": "y domain"
         },
         {
          "fillcolor": "LightSeagreen",
          "layer": "below",
          "line": {
           "width": 0
          },
          "opacity": 0.5,
          "type": "rect",
          "x0": 20,
          "x1": 30,
          "xref": "x",
          "y0": 0,
          "y1": 1,
          "yref": "y domain"
         }
        ],
        "template": {
         "data": {
          "bar": [
           {
            "error_x": {
             "color": "#2a3f5f"
            },
            "error_y": {
             "color": "#2a3f5f"
            },
            "marker": {
             "line": {
              "color": "#E5ECF6",
              "width": 0.5
             },
             "pattern": {
              "fillmode": "overlay",
              "size": 10,
              "solidity": 0.2
             }
            },
            "type": "bar"
           }
          ],
          "barpolar": [
           {
            "marker": {
             "line": {
              "color": "#E5ECF6",
              "width": 0.5
             },
             "pattern": {
              "fillmode": "overlay",
              "size": 10,
              "solidity": 0.2
             }
            },
            "type": "barpolar"
           }
          ],
          "carpet": [
           {
            "aaxis": {
             "endlinecolor": "#2a3f5f",
             "gridcolor": "white",
             "linecolor": "white",
             "minorgridcolor": "white",
             "startlinecolor": "#2a3f5f"
            },
            "baxis": {
             "endlinecolor": "#2a3f5f",
             "gridcolor": "white",
             "linecolor": "white",
             "minorgridcolor": "white",
             "startlinecolor": "#2a3f5f"
            },
            "type": "carpet"
           }
          ],
          "choropleth": [
           {
            "colorbar": {
             "outlinewidth": 0,
             "ticks": ""
            },
            "type": "choropleth"
           }
          ],
          "contour": [
           {
            "colorbar": {
             "outlinewidth": 0,
             "ticks": ""
            },
            "colorscale": [
             [
              0,
              "#0d0887"
             ],
             [
              0.1111111111111111,
              "#46039f"
             ],
             [
              0.2222222222222222,
              "#7201a8"
             ],
             [
              0.3333333333333333,
              "#9c179e"
             ],
             [
              0.4444444444444444,
              "#bd3786"
             ],
             [
              0.5555555555555556,
              "#d8576b"
             ],
             [
              0.6666666666666666,
              "#ed7953"
             ],
             [
              0.7777777777777778,
              "#fb9f3a"
             ],
             [
              0.8888888888888888,
              "#fdca26"
             ],
             [
              1,
              "#f0f921"
             ]
            ],
            "type": "contour"
           }
          ],
          "contourcarpet": [
           {
            "colorbar": {
             "outlinewidth": 0,
             "ticks": ""
            },
            "type": "contourcarpet"
           }
          ],
          "heatmap": [
           {
            "colorbar": {
             "outlinewidth": 0,
             "ticks": ""
            },
            "colorscale": [
             [
              0,
              "#0d0887"
             ],
             [
              0.1111111111111111,
              "#46039f"
             ],
             [
              0.2222222222222222,
              "#7201a8"
             ],
             [
              0.3333333333333333,
              "#9c179e"
             ],
             [
              0.4444444444444444,
              "#bd3786"
             ],
             [
              0.5555555555555556,
              "#d8576b"
             ],
             [
              0.6666666666666666,
              "#ed7953"
             ],
             [
              0.7777777777777778,
              "#fb9f3a"
             ],
             [
              0.8888888888888888,
              "#fdca26"
             ],
             [
              1,
              "#f0f921"
             ]
            ],
            "type": "heatmap"
           }
          ],
          "heatmapgl": [
           {
            "colorbar": {
             "outlinewidth": 0,
             "ticks": ""
            },
            "colorscale": [
             [
              0,
              "#0d0887"
             ],
             [
              0.1111111111111111,
              "#46039f"
             ],
             [
              0.2222222222222222,
              "#7201a8"
             ],
             [
              0.3333333333333333,
              "#9c179e"
             ],
             [
              0.4444444444444444,
              "#bd3786"
             ],
             [
              0.5555555555555556,
              "#d8576b"
             ],
             [
              0.6666666666666666,
              "#ed7953"
             ],
             [
              0.7777777777777778,
              "#fb9f3a"
             ],
             [
              0.8888888888888888,
              "#fdca26"
             ],
             [
              1,
              "#f0f921"
             ]
            ],
            "type": "heatmapgl"
           }
          ],
          "histogram": [
           {
            "marker": {
             "pattern": {
              "fillmode": "overlay",
              "size": 10,
              "solidity": 0.2
             }
            },
            "type": "histogram"
           }
          ],
          "histogram2d": [
           {
            "colorbar": {
             "outlinewidth": 0,
             "ticks": ""
            },
            "colorscale": [
             [
              0,
              "#0d0887"
             ],
             [
              0.1111111111111111,
              "#46039f"
             ],
             [
              0.2222222222222222,
              "#7201a8"
             ],
             [
              0.3333333333333333,
              "#9c179e"
             ],
             [
              0.4444444444444444,
              "#bd3786"
             ],
             [
              0.5555555555555556,
              "#d8576b"
             ],
             [
              0.6666666666666666,
              "#ed7953"
             ],
             [
              0.7777777777777778,
              "#fb9f3a"
             ],
             [
              0.8888888888888888,
              "#fdca26"
             ],
             [
              1,
              "#f0f921"
             ]
            ],
            "type": "histogram2d"
           }
          ],
          "histogram2dcontour": [
           {
            "colorbar": {
             "outlinewidth": 0,
             "ticks": ""
            },
            "colorscale": [
             [
              0,
              "#0d0887"
             ],
             [
              0.1111111111111111,
              "#46039f"
             ],
             [
              0.2222222222222222,
              "#7201a8"
             ],
             [
              0.3333333333333333,
              "#9c179e"
             ],
             [
              0.4444444444444444,
              "#bd3786"
             ],
             [
              0.5555555555555556,
              "#d8576b"
             ],
             [
              0.6666666666666666,
              "#ed7953"
             ],
             [
              0.7777777777777778,
              "#fb9f3a"
             ],
             [
              0.8888888888888888,
              "#fdca26"
             ],
             [
              1,
              "#f0f921"
             ]
            ],
            "type": "histogram2dcontour"
           }
          ],
          "mesh3d": [
           {
            "colorbar": {
             "outlinewidth": 0,
             "ticks": ""
            },
            "type": "mesh3d"
           }
          ],
          "parcoords": [
           {
            "line": {
             "colorbar": {
              "outlinewidth": 0,
              "ticks": ""
             }
            },
            "type": "parcoords"
           }
          ],
          "pie": [
           {
            "automargin": true,
            "type": "pie"
           }
          ],
          "scatter": [
           {
            "fillpattern": {
             "fillmode": "overlay",
             "size": 10,
             "solidity": 0.2
            },
            "type": "scatter"
           }
          ],
          "scatter3d": [
           {
            "line": {
             "colorbar": {
              "outlinewidth": 0,
              "ticks": ""
             }
            },
            "marker": {
             "colorbar": {
              "outlinewidth": 0,
              "ticks": ""
             }
            },
            "type": "scatter3d"
           }
          ],
          "scattercarpet": [
           {
            "marker": {
             "colorbar": {
              "outlinewidth": 0,
              "ticks": ""
             }
            },
            "type": "scattercarpet"
           }
          ],
          "scattergeo": [
           {
            "marker": {
             "colorbar": {
              "outlinewidth": 0,
              "ticks": ""
             }
            },
            "type": "scattergeo"
           }
          ],
          "scattergl": [
           {
            "marker": {
             "colorbar": {
              "outlinewidth": 0,
              "ticks": ""
             }
            },
            "type": "scattergl"
           }
          ],
          "scattermapbox": [
           {
            "marker": {
             "colorbar": {
              "outlinewidth": 0,
              "ticks": ""
             }
            },
            "type": "scattermapbox"
           }
          ],
          "scatterpolar": [
           {
            "marker": {
             "colorbar": {
              "outlinewidth": 0,
              "ticks": ""
             }
            },
            "type": "scatterpolar"
           }
          ],
          "scatterpolargl": [
           {
            "marker": {
             "colorbar": {
              "outlinewidth": 0,
              "ticks": ""
             }
            },
            "type": "scatterpolargl"
           }
          ],
          "scatterternary": [
           {
            "marker": {
             "colorbar": {
              "outlinewidth": 0,
              "ticks": ""
             }
            },
            "type": "scatterternary"
           }
          ],
          "surface": [
           {
            "colorbar": {
             "outlinewidth": 0,
             "ticks": ""
            },
            "colorscale": [
             [
              0,
              "#0d0887"
             ],
             [
              0.1111111111111111,
              "#46039f"
             ],
             [
              0.2222222222222222,
              "#7201a8"
             ],
             [
              0.3333333333333333,
              "#9c179e"
             ],
             [
              0.4444444444444444,
              "#bd3786"
             ],
             [
              0.5555555555555556,
              "#d8576b"
             ],
             [
              0.6666666666666666,
              "#ed7953"
             ],
             [
              0.7777777777777778,
              "#fb9f3a"
             ],
             [
              0.8888888888888888,
              "#fdca26"
             ],
             [
              1,
              "#f0f921"
             ]
            ],
            "type": "surface"
           }
          ],
          "table": [
           {
            "cells": {
             "fill": {
              "color": "#EBF0F8"
             },
             "line": {
              "color": "white"
             }
            },
            "header": {
             "fill": {
              "color": "#C8D4E3"
             },
             "line": {
              "color": "white"
             }
            },
            "type": "table"
           }
          ]
         },
         "layout": {
          "annotationdefaults": {
           "arrowcolor": "#2a3f5f",
           "arrowhead": 0,
           "arrowwidth": 1
          },
          "autotypenumbers": "strict",
          "coloraxis": {
           "colorbar": {
            "outlinewidth": 0,
            "ticks": ""
           }
          },
          "colorscale": {
           "diverging": [
            [
             0,
             "#8e0152"
            ],
            [
             0.1,
             "#c51b7d"
            ],
            [
             0.2,
             "#de77ae"
            ],
            [
             0.3,
             "#f1b6da"
            ],
            [
             0.4,
             "#fde0ef"
            ],
            [
             0.5,
             "#f7f7f7"
            ],
            [
             0.6,
             "#e6f5d0"
            ],
            [
             0.7,
             "#b8e186"
            ],
            [
             0.8,
             "#7fbc41"
            ],
            [
             0.9,
             "#4d9221"
            ],
            [
             1,
             "#276419"
            ]
           ],
           "sequential": [
            [
             0,
             "#0d0887"
            ],
            [
             0.1111111111111111,
             "#46039f"
            ],
            [
             0.2222222222222222,
             "#7201a8"
            ],
            [
             0.3333333333333333,
             "#9c179e"
            ],
            [
             0.4444444444444444,
             "#bd3786"
            ],
            [
             0.5555555555555556,
             "#d8576b"
            ],
            [
             0.6666666666666666,
             "#ed7953"
            ],
            [
             0.7777777777777778,
             "#fb9f3a"
            ],
            [
             0.8888888888888888,
             "#fdca26"
            ],
            [
             1,
             "#f0f921"
            ]
           ],
           "sequentialminus": [
            [
             0,
             "#0d0887"
            ],
            [
             0.1111111111111111,
             "#46039f"
            ],
            [
             0.2222222222222222,
             "#7201a8"
            ],
            [
             0.3333333333333333,
             "#9c179e"
            ],
            [
             0.4444444444444444,
             "#bd3786"
            ],
            [
             0.5555555555555556,
             "#d8576b"
            ],
            [
             0.6666666666666666,
             "#ed7953"
            ],
            [
             0.7777777777777778,
             "#fb9f3a"
            ],
            [
             0.8888888888888888,
             "#fdca26"
            ],
            [
             1,
             "#f0f921"
            ]
           ]
          },
          "colorway": [
           "#636efa",
           "#EF553B",
           "#00cc96",
           "#ab63fa",
           "#FFA15A",
           "#19d3f3",
           "#FF6692",
           "#B6E880",
           "#FF97FF",
           "#FECB52"
          ],
          "font": {
           "color": "#2a3f5f"
          },
          "geo": {
           "bgcolor": "white",
           "lakecolor": "white",
           "landcolor": "#E5ECF6",
           "showlakes": true,
           "showland": true,
           "subunitcolor": "white"
          },
          "hoverlabel": {
           "align": "left"
          },
          "hovermode": "closest",
          "mapbox": {
           "style": "light"
          },
          "paper_bgcolor": "white",
          "plot_bgcolor": "#E5ECF6",
          "polar": {
           "angularaxis": {
            "gridcolor": "white",
            "linecolor": "white",
            "ticks": ""
           },
           "bgcolor": "#E5ECF6",
           "radialaxis": {
            "gridcolor": "white",
            "linecolor": "white",
            "ticks": ""
           }
          },
          "scene": {
           "xaxis": {
            "backgroundcolor": "#E5ECF6",
            "gridcolor": "white",
            "gridwidth": 2,
            "linecolor": "white",
            "showbackground": true,
            "ticks": "",
            "zerolinecolor": "white"
           },
           "yaxis": {
            "backgroundcolor": "#E5ECF6",
            "gridcolor": "white",
            "gridwidth": 2,
            "linecolor": "white",
            "showbackground": true,
            "ticks": "",
            "zerolinecolor": "white"
           },
           "zaxis": {
            "backgroundcolor": "#E5ECF6",
            "gridcolor": "white",
            "gridwidth": 2,
            "linecolor": "white",
            "showbackground": true,
            "ticks": "",
            "zerolinecolor": "white"
           }
          },
          "shapedefaults": {
           "line": {
            "color": "#2a3f5f"
           }
          },
          "ternary": {
           "aaxis": {
            "gridcolor": "white",
            "linecolor": "white",
            "ticks": ""
           },
           "baxis": {
            "gridcolor": "white",
            "linecolor": "white",
            "ticks": ""
           },
           "bgcolor": "#E5ECF6",
           "caxis": {
            "gridcolor": "white",
            "linecolor": "white",
            "ticks": ""
           }
          },
          "title": {
           "x": 0.05
          },
          "xaxis": {
           "automargin": true,
           "gridcolor": "white",
           "linecolor": "white",
           "ticks": "",
           "title": {
            "standoff": 15
           },
           "zerolinecolor": "white",
           "zerolinewidth": 2
          },
          "yaxis": {
           "automargin": true,
           "gridcolor": "white",
           "linecolor": "white",
           "ticks": "",
           "title": {
            "standoff": 15
           },
           "zerolinecolor": "white",
           "zerolinewidth": 2
          }
         }
        },
        "title": {
         "text": "AT5220 8S"
        },
        "xaxis": {
         "anchor": "y",
         "domain": [
          0,
          1
         ],
         "title": {
          "text": "Airspeed (m/s)"
         }
        },
        "yaxis": {
         "anchor": "x",
         "domain": [
          0,
          1
         ],
         "title": {
          "text": "Thrust (lbf)"
         }
        }
       }
      }
     },
     "metadata": {},
     "output_type": "display_data"
    }
   ],
   "source": [
    "for motor in df_max_8s[\"Motor\"].unique():\n",
    "    df_motor = df_max_8s[df_max_8s[\"Motor\"] == motor].sort_values(by=\"Airspeed\")\n",
    "    fig = px.scatter(df_motor, x=\"Airspeed\", y=\"Thrust\", color=\"Prop\", title=motor + \" 8S\")\n",
    "    fig.update_traces(mode='lines+markers')\n",
    "    fig.update_layout(\n",
    "        xaxis_title=\"Airspeed (m/s)\",\n",
    "        yaxis_title=\"Thrust (lbf)\",\n",
    "        legend_title=\"Prop\",\n",
    "    )\n",
    "    fig.add_vrect(\n",
    "        x0=35, x1=55,\n",
    "        fillcolor=\"LightSalmon\", opacity=0.5,\n",
    "        layer=\"below\", line_width=0,\n",
    "    )\n",
    "    fig.add_annotation(\n",
    "        x=(55 + 35)/2, y=df_motor[\"Thrust\"].max(),\n",
    "        text=\"M2\",\n",
    "        showarrow=False,\n",
    "        font=dict(\n",
    "            size=16,\n",
    "            color=\"red\"\n",
    "        ),\n",
    "    )\n",
    "    fig.add_vrect(\n",
    "        x0=20, x1=30,\n",
    "        fillcolor=\"LightSeagreen\", opacity=0.5,\n",
    "        layer=\"below\", line_width=0,\n",
    "    )\n",
    "    fig.add_annotation(\n",
    "        x=(30 + 20)/2, y=df_motor[\"Thrust\"].max(),\n",
    "        text=\"M3\",\n",
    "        showarrow=False,\n",
    "        font=dict(\n",
    "            size=16,\n",
    "            color=\"seagreen\"\n",
    "        ),\n",
    "    )\n",
    "    fig.show()\n",
    "    fig.write_image(os.path.join(OUTPUT_DIR, f\"{motor}_8s.png\"), width=1000, height=500)"
   ]
  },
  {
   "cell_type": "code",
   "execution_count": 186,
   "metadata": {},
   "outputs": [
    {
     "data": {
      "application/vnd.plotly.v1+json": {
       "config": {
        "plotlyServerURL": "https://plot.ly"
       },
       "data": [
        {
         "hovertemplate": "Prop=15x14x3<br>Airspeed=%{x}<br>Thrust=%{y}<extra></extra>",
         "legendgroup": "15x14x3",
         "marker": {
          "color": "#636efa",
          "symbol": "circle"
         },
         "mode": "lines+markers",
         "name": "15x14x3",
         "orientation": "v",
         "showlegend": true,
         "type": "scatter",
         "x": [
          0,
          10,
          15,
          20,
          25,
          30,
          35
         ],
         "xaxis": "x",
         "y": [
          19.676,
          19.193,
          16.997,
          16.177,
          15.198,
          12.796,
          11.208
         ],
         "yaxis": "y"
        },
        {
         "hovertemplate": "Prop=16x14<br>Airspeed=%{x}<br>Thrust=%{y}<extra></extra>",
         "legendgroup": "16x14",
         "marker": {
          "color": "#EF553B",
          "symbol": "circle"
         },
         "mode": "lines+markers",
         "name": "16x14",
         "orientation": "v",
         "showlegend": true,
         "type": "scatter",
         "x": [
          20,
          25,
          30,
          35
         ],
         "xaxis": "x",
         "y": [
          18.028,
          17.511,
          16.379,
          15.358
         ],
         "yaxis": "y"
        },
        {
         "hovertemplate": "Prop=16x16<br>Airspeed=%{x}<br>Thrust=%{y}<extra></extra>",
         "legendgroup": "16x16",
         "marker": {
          "color": "#00cc96",
          "symbol": "circle"
         },
         "mode": "lines+markers",
         "name": "16x16",
         "orientation": "v",
         "showlegend": true,
         "type": "scatter",
         "x": [
          30,
          35,
          40
         ],
         "xaxis": "x",
         "y": [
          17.13,
          15.961,
          15.205
         ],
         "yaxis": "y"
        }
       ],
       "layout": {
        "annotations": [
         {
          "font": {
           "color": "red",
           "size": 16
          },
          "showarrow": false,
          "text": "M2",
          "x": 45,
          "y": 19.676
         },
         {
          "font": {
           "color": "seagreen",
           "size": 16
          },
          "showarrow": false,
          "text": "M3",
          "x": 25,
          "y": 19.676
         }
        ],
        "legend": {
         "title": {
          "text": "Prop"
         },
         "tracegroupgap": 0
        },
        "shapes": [
         {
          "fillcolor": "LightSalmon",
          "layer": "below",
          "line": {
           "width": 0
          },
          "opacity": 0.5,
          "type": "rect",
          "x0": 35,
          "x1": 55,
          "xref": "x",
          "y0": 0,
          "y1": 1,
          "yref": "y domain"
         },
         {
          "fillcolor": "LightSeagreen",
          "layer": "below",
          "line": {
           "width": 0
          },
          "opacity": 0.5,
          "type": "rect",
          "x0": 20,
          "x1": 30,
          "xref": "x",
          "y0": 0,
          "y1": 1,
          "yref": "y domain"
         }
        ],
        "template": {
         "data": {
          "bar": [
           {
            "error_x": {
             "color": "#2a3f5f"
            },
            "error_y": {
             "color": "#2a3f5f"
            },
            "marker": {
             "line": {
              "color": "#E5ECF6",
              "width": 0.5
             },
             "pattern": {
              "fillmode": "overlay",
              "size": 10,
              "solidity": 0.2
             }
            },
            "type": "bar"
           }
          ],
          "barpolar": [
           {
            "marker": {
             "line": {
              "color": "#E5ECF6",
              "width": 0.5
             },
             "pattern": {
              "fillmode": "overlay",
              "size": 10,
              "solidity": 0.2
             }
            },
            "type": "barpolar"
           }
          ],
          "carpet": [
           {
            "aaxis": {
             "endlinecolor": "#2a3f5f",
             "gridcolor": "white",
             "linecolor": "white",
             "minorgridcolor": "white",
             "startlinecolor": "#2a3f5f"
            },
            "baxis": {
             "endlinecolor": "#2a3f5f",
             "gridcolor": "white",
             "linecolor": "white",
             "minorgridcolor": "white",
             "startlinecolor": "#2a3f5f"
            },
            "type": "carpet"
           }
          ],
          "choropleth": [
           {
            "colorbar": {
             "outlinewidth": 0,
             "ticks": ""
            },
            "type": "choropleth"
           }
          ],
          "contour": [
           {
            "colorbar": {
             "outlinewidth": 0,
             "ticks": ""
            },
            "colorscale": [
             [
              0,
              "#0d0887"
             ],
             [
              0.1111111111111111,
              "#46039f"
             ],
             [
              0.2222222222222222,
              "#7201a8"
             ],
             [
              0.3333333333333333,
              "#9c179e"
             ],
             [
              0.4444444444444444,
              "#bd3786"
             ],
             [
              0.5555555555555556,
              "#d8576b"
             ],
             [
              0.6666666666666666,
              "#ed7953"
             ],
             [
              0.7777777777777778,
              "#fb9f3a"
             ],
             [
              0.8888888888888888,
              "#fdca26"
             ],
             [
              1,
              "#f0f921"
             ]
            ],
            "type": "contour"
           }
          ],
          "contourcarpet": [
           {
            "colorbar": {
             "outlinewidth": 0,
             "ticks": ""
            },
            "type": "contourcarpet"
           }
          ],
          "heatmap": [
           {
            "colorbar": {
             "outlinewidth": 0,
             "ticks": ""
            },
            "colorscale": [
             [
              0,
              "#0d0887"
             ],
             [
              0.1111111111111111,
              "#46039f"
             ],
             [
              0.2222222222222222,
              "#7201a8"
             ],
             [
              0.3333333333333333,
              "#9c179e"
             ],
             [
              0.4444444444444444,
              "#bd3786"
             ],
             [
              0.5555555555555556,
              "#d8576b"
             ],
             [
              0.6666666666666666,
              "#ed7953"
             ],
             [
              0.7777777777777778,
              "#fb9f3a"
             ],
             [
              0.8888888888888888,
              "#fdca26"
             ],
             [
              1,
              "#f0f921"
             ]
            ],
            "type": "heatmap"
           }
          ],
          "heatmapgl": [
           {
            "colorbar": {
             "outlinewidth": 0,
             "ticks": ""
            },
            "colorscale": [
             [
              0,
              "#0d0887"
             ],
             [
              0.1111111111111111,
              "#46039f"
             ],
             [
              0.2222222222222222,
              "#7201a8"
             ],
             [
              0.3333333333333333,
              "#9c179e"
             ],
             [
              0.4444444444444444,
              "#bd3786"
             ],
             [
              0.5555555555555556,
              "#d8576b"
             ],
             [
              0.6666666666666666,
              "#ed7953"
             ],
             [
              0.7777777777777778,
              "#fb9f3a"
             ],
             [
              0.8888888888888888,
              "#fdca26"
             ],
             [
              1,
              "#f0f921"
             ]
            ],
            "type": "heatmapgl"
           }
          ],
          "histogram": [
           {
            "marker": {
             "pattern": {
              "fillmode": "overlay",
              "size": 10,
              "solidity": 0.2
             }
            },
            "type": "histogram"
           }
          ],
          "histogram2d": [
           {
            "colorbar": {
             "outlinewidth": 0,
             "ticks": ""
            },
            "colorscale": [
             [
              0,
              "#0d0887"
             ],
             [
              0.1111111111111111,
              "#46039f"
             ],
             [
              0.2222222222222222,
              "#7201a8"
             ],
             [
              0.3333333333333333,
              "#9c179e"
             ],
             [
              0.4444444444444444,
              "#bd3786"
             ],
             [
              0.5555555555555556,
              "#d8576b"
             ],
             [
              0.6666666666666666,
              "#ed7953"
             ],
             [
              0.7777777777777778,
              "#fb9f3a"
             ],
             [
              0.8888888888888888,
              "#fdca26"
             ],
             [
              1,
              "#f0f921"
             ]
            ],
            "type": "histogram2d"
           }
          ],
          "histogram2dcontour": [
           {
            "colorbar": {
             "outlinewidth": 0,
             "ticks": ""
            },
            "colorscale": [
             [
              0,
              "#0d0887"
             ],
             [
              0.1111111111111111,
              "#46039f"
             ],
             [
              0.2222222222222222,
              "#7201a8"
             ],
             [
              0.3333333333333333,
              "#9c179e"
             ],
             [
              0.4444444444444444,
              "#bd3786"
             ],
             [
              0.5555555555555556,
              "#d8576b"
             ],
             [
              0.6666666666666666,
              "#ed7953"
             ],
             [
              0.7777777777777778,
              "#fb9f3a"
             ],
             [
              0.8888888888888888,
              "#fdca26"
             ],
             [
              1,
              "#f0f921"
             ]
            ],
            "type": "histogram2dcontour"
           }
          ],
          "mesh3d": [
           {
            "colorbar": {
             "outlinewidth": 0,
             "ticks": ""
            },
            "type": "mesh3d"
           }
          ],
          "parcoords": [
           {
            "line": {
             "colorbar": {
              "outlinewidth": 0,
              "ticks": ""
             }
            },
            "type": "parcoords"
           }
          ],
          "pie": [
           {
            "automargin": true,
            "type": "pie"
           }
          ],
          "scatter": [
           {
            "fillpattern": {
             "fillmode": "overlay",
             "size": 10,
             "solidity": 0.2
            },
            "type": "scatter"
           }
          ],
          "scatter3d": [
           {
            "line": {
             "colorbar": {
              "outlinewidth": 0,
              "ticks": ""
             }
            },
            "marker": {
             "colorbar": {
              "outlinewidth": 0,
              "ticks": ""
             }
            },
            "type": "scatter3d"
           }
          ],
          "scattercarpet": [
           {
            "marker": {
             "colorbar": {
              "outlinewidth": 0,
              "ticks": ""
             }
            },
            "type": "scattercarpet"
           }
          ],
          "scattergeo": [
           {
            "marker": {
             "colorbar": {
              "outlinewidth": 0,
              "ticks": ""
             }
            },
            "type": "scattergeo"
           }
          ],
          "scattergl": [
           {
            "marker": {
             "colorbar": {
              "outlinewidth": 0,
              "ticks": ""
             }
            },
            "type": "scattergl"
           }
          ],
          "scattermapbox": [
           {
            "marker": {
             "colorbar": {
              "outlinewidth": 0,
              "ticks": ""
             }
            },
            "type": "scattermapbox"
           }
          ],
          "scatterpolar": [
           {
            "marker": {
             "colorbar": {
              "outlinewidth": 0,
              "ticks": ""
             }
            },
            "type": "scatterpolar"
           }
          ],
          "scatterpolargl": [
           {
            "marker": {
             "colorbar": {
              "outlinewidth": 0,
              "ticks": ""
             }
            },
            "type": "scatterpolargl"
           }
          ],
          "scatterternary": [
           {
            "marker": {
             "colorbar": {
              "outlinewidth": 0,
              "ticks": ""
             }
            },
            "type": "scatterternary"
           }
          ],
          "surface": [
           {
            "colorbar": {
             "outlinewidth": 0,
             "ticks": ""
            },
            "colorscale": [
             [
              0,
              "#0d0887"
             ],
             [
              0.1111111111111111,
              "#46039f"
             ],
             [
              0.2222222222222222,
              "#7201a8"
             ],
             [
              0.3333333333333333,
              "#9c179e"
             ],
             [
              0.4444444444444444,
              "#bd3786"
             ],
             [
              0.5555555555555556,
              "#d8576b"
             ],
             [
              0.6666666666666666,
              "#ed7953"
             ],
             [
              0.7777777777777778,
              "#fb9f3a"
             ],
             [
              0.8888888888888888,
              "#fdca26"
             ],
             [
              1,
              "#f0f921"
             ]
            ],
            "type": "surface"
           }
          ],
          "table": [
           {
            "cells": {
             "fill": {
              "color": "#EBF0F8"
             },
             "line": {
              "color": "white"
             }
            },
            "header": {
             "fill": {
              "color": "#C8D4E3"
             },
             "line": {
              "color": "white"
             }
            },
            "type": "table"
           }
          ]
         },
         "layout": {
          "annotationdefaults": {
           "arrowcolor": "#2a3f5f",
           "arrowhead": 0,
           "arrowwidth": 1
          },
          "autotypenumbers": "strict",
          "coloraxis": {
           "colorbar": {
            "outlinewidth": 0,
            "ticks": ""
           }
          },
          "colorscale": {
           "diverging": [
            [
             0,
             "#8e0152"
            ],
            [
             0.1,
             "#c51b7d"
            ],
            [
             0.2,
             "#de77ae"
            ],
            [
             0.3,
             "#f1b6da"
            ],
            [
             0.4,
             "#fde0ef"
            ],
            [
             0.5,
             "#f7f7f7"
            ],
            [
             0.6,
             "#e6f5d0"
            ],
            [
             0.7,
             "#b8e186"
            ],
            [
             0.8,
             "#7fbc41"
            ],
            [
             0.9,
             "#4d9221"
            ],
            [
             1,
             "#276419"
            ]
           ],
           "sequential": [
            [
             0,
             "#0d0887"
            ],
            [
             0.1111111111111111,
             "#46039f"
            ],
            [
             0.2222222222222222,
             "#7201a8"
            ],
            [
             0.3333333333333333,
             "#9c179e"
            ],
            [
             0.4444444444444444,
             "#bd3786"
            ],
            [
             0.5555555555555556,
             "#d8576b"
            ],
            [
             0.6666666666666666,
             "#ed7953"
            ],
            [
             0.7777777777777778,
             "#fb9f3a"
            ],
            [
             0.8888888888888888,
             "#fdca26"
            ],
            [
             1,
             "#f0f921"
            ]
           ],
           "sequentialminus": [
            [
             0,
             "#0d0887"
            ],
            [
             0.1111111111111111,
             "#46039f"
            ],
            [
             0.2222222222222222,
             "#7201a8"
            ],
            [
             0.3333333333333333,
             "#9c179e"
            ],
            [
             0.4444444444444444,
             "#bd3786"
            ],
            [
             0.5555555555555556,
             "#d8576b"
            ],
            [
             0.6666666666666666,
             "#ed7953"
            ],
            [
             0.7777777777777778,
             "#fb9f3a"
            ],
            [
             0.8888888888888888,
             "#fdca26"
            ],
            [
             1,
             "#f0f921"
            ]
           ]
          },
          "colorway": [
           "#636efa",
           "#EF553B",
           "#00cc96",
           "#ab63fa",
           "#FFA15A",
           "#19d3f3",
           "#FF6692",
           "#B6E880",
           "#FF97FF",
           "#FECB52"
          ],
          "font": {
           "color": "#2a3f5f"
          },
          "geo": {
           "bgcolor": "white",
           "lakecolor": "white",
           "landcolor": "#E5ECF6",
           "showlakes": true,
           "showland": true,
           "subunitcolor": "white"
          },
          "hoverlabel": {
           "align": "left"
          },
          "hovermode": "closest",
          "mapbox": {
           "style": "light"
          },
          "paper_bgcolor": "white",
          "plot_bgcolor": "#E5ECF6",
          "polar": {
           "angularaxis": {
            "gridcolor": "white",
            "linecolor": "white",
            "ticks": ""
           },
           "bgcolor": "#E5ECF6",
           "radialaxis": {
            "gridcolor": "white",
            "linecolor": "white",
            "ticks": ""
           }
          },
          "scene": {
           "xaxis": {
            "backgroundcolor": "#E5ECF6",
            "gridcolor": "white",
            "gridwidth": 2,
            "linecolor": "white",
            "showbackground": true,
            "ticks": "",
            "zerolinecolor": "white"
           },
           "yaxis": {
            "backgroundcolor": "#E5ECF6",
            "gridcolor": "white",
            "gridwidth": 2,
            "linecolor": "white",
            "showbackground": true,
            "ticks": "",
            "zerolinecolor": "white"
           },
           "zaxis": {
            "backgroundcolor": "#E5ECF6",
            "gridcolor": "white",
            "gridwidth": 2,
            "linecolor": "white",
            "showbackground": true,
            "ticks": "",
            "zerolinecolor": "white"
           }
          },
          "shapedefaults": {
           "line": {
            "color": "#2a3f5f"
           }
          },
          "ternary": {
           "aaxis": {
            "gridcolor": "white",
            "linecolor": "white",
            "ticks": ""
           },
           "baxis": {
            "gridcolor": "white",
            "linecolor": "white",
            "ticks": ""
           },
           "bgcolor": "#E5ECF6",
           "caxis": {
            "gridcolor": "white",
            "linecolor": "white",
            "ticks": ""
           }
          },
          "title": {
           "x": 0.05
          },
          "xaxis": {
           "automargin": true,
           "gridcolor": "white",
           "linecolor": "white",
           "ticks": "",
           "title": {
            "standoff": 15
           },
           "zerolinecolor": "white",
           "zerolinewidth": 2
          },
          "yaxis": {
           "automargin": true,
           "gridcolor": "white",
           "linecolor": "white",
           "ticks": "",
           "title": {
            "standoff": 15
           },
           "zerolinecolor": "white",
           "zerolinewidth": 2
          }
         }
        },
        "title": {
         "text": "AT5330 12S"
        },
        "xaxis": {
         "anchor": "y",
         "domain": [
          0,
          1
         ],
         "title": {
          "text": "Airspeed (m/s)"
         }
        },
        "yaxis": {
         "anchor": "x",
         "domain": [
          0,
          1
         ],
         "title": {
          "text": "Thrust (lbf)"
         }
        }
       }
      }
     },
     "metadata": {},
     "output_type": "display_data"
    },
    {
     "data": {
      "application/vnd.plotly.v1+json": {
       "config": {
        "plotlyServerURL": "https://plot.ly"
       },
       "data": [
        {
         "hovertemplate": "Prop=16x14<br>Airspeed=%{x}<br>Thrust=%{y}<extra></extra>",
         "legendgroup": "16x14",
         "marker": {
          "color": "#636efa",
          "symbol": "circle"
         },
         "mode": "lines+markers",
         "name": "16x14",
         "orientation": "v",
         "showlegend": true,
         "type": "scatter",
         "x": [
          0,
          10,
          15,
          20,
          25,
          30,
          35,
          40,
          45,
          50,
          55,
          60
         ],
         "xaxis": "x",
         "y": [
          25.753,
          24.399,
          22.907,
          24.525,
          24.706,
          23.756,
          23.357,
          21.648,
          21.368,
          19.209,
          17.814,
          14.999
         ],
         "yaxis": "y"
        },
        {
         "hovertemplate": "Prop=15x14x3<br>Airspeed=%{x}<br>Thrust=%{y}<extra></extra>",
         "legendgroup": "15x14x3",
         "marker": {
          "color": "#EF553B",
          "symbol": "circle"
         },
         "mode": "lines+markers",
         "name": "15x14x3",
         "orientation": "v",
         "showlegend": true,
         "type": "scatter",
         "x": [
          0,
          10,
          15,
          20,
          25,
          30,
          35,
          40,
          45,
          50
         ],
         "xaxis": "x",
         "y": [
          26.239,
          27.702,
          25.014,
          25.089,
          23.968,
          21.683,
          20.977,
          19.384,
          17.067,
          15.073
         ],
         "yaxis": "y"
        },
        {
         "hovertemplate": "Prop=16x16<br>Airspeed=%{x}<br>Thrust=%{y}<extra></extra>",
         "legendgroup": "16x16",
         "marker": {
          "color": "#00cc96",
          "symbol": "circle"
         },
         "mode": "lines+markers",
         "name": "16x16",
         "orientation": "v",
         "showlegend": true,
         "type": "scatter",
         "x": [
          45,
          50
         ],
         "xaxis": "x",
         "y": [
          20.074,
          20.357
         ],
         "yaxis": "y"
        }
       ],
       "layout": {
        "annotations": [
         {
          "font": {
           "color": "red",
           "size": 16
          },
          "showarrow": false,
          "text": "M2",
          "x": 45,
          "y": 27.702
         },
         {
          "font": {
           "color": "seagreen",
           "size": 16
          },
          "showarrow": false,
          "text": "M3",
          "x": 25,
          "y": 27.702
         }
        ],
        "legend": {
         "title": {
          "text": "Prop"
         },
         "tracegroupgap": 0
        },
        "shapes": [
         {
          "fillcolor": "LightSalmon",
          "layer": "below",
          "line": {
           "width": 0
          },
          "opacity": 0.5,
          "type": "rect",
          "x0": 35,
          "x1": 55,
          "xref": "x",
          "y0": 0,
          "y1": 1,
          "yref": "y domain"
         },
         {
          "fillcolor": "LightSeagreen",
          "layer": "below",
          "line": {
           "width": 0
          },
          "opacity": 0.5,
          "type": "rect",
          "x0": 20,
          "x1": 30,
          "xref": "x",
          "y0": 0,
          "y1": 1,
          "yref": "y domain"
         }
        ],
        "template": {
         "data": {
          "bar": [
           {
            "error_x": {
             "color": "#2a3f5f"
            },
            "error_y": {
             "color": "#2a3f5f"
            },
            "marker": {
             "line": {
              "color": "#E5ECF6",
              "width": 0.5
             },
             "pattern": {
              "fillmode": "overlay",
              "size": 10,
              "solidity": 0.2
             }
            },
            "type": "bar"
           }
          ],
          "barpolar": [
           {
            "marker": {
             "line": {
              "color": "#E5ECF6",
              "width": 0.5
             },
             "pattern": {
              "fillmode": "overlay",
              "size": 10,
              "solidity": 0.2
             }
            },
            "type": "barpolar"
           }
          ],
          "carpet": [
           {
            "aaxis": {
             "endlinecolor": "#2a3f5f",
             "gridcolor": "white",
             "linecolor": "white",
             "minorgridcolor": "white",
             "startlinecolor": "#2a3f5f"
            },
            "baxis": {
             "endlinecolor": "#2a3f5f",
             "gridcolor": "white",
             "linecolor": "white",
             "minorgridcolor": "white",
             "startlinecolor": "#2a3f5f"
            },
            "type": "carpet"
           }
          ],
          "choropleth": [
           {
            "colorbar": {
             "outlinewidth": 0,
             "ticks": ""
            },
            "type": "choropleth"
           }
          ],
          "contour": [
           {
            "colorbar": {
             "outlinewidth": 0,
             "ticks": ""
            },
            "colorscale": [
             [
              0,
              "#0d0887"
             ],
             [
              0.1111111111111111,
              "#46039f"
             ],
             [
              0.2222222222222222,
              "#7201a8"
             ],
             [
              0.3333333333333333,
              "#9c179e"
             ],
             [
              0.4444444444444444,
              "#bd3786"
             ],
             [
              0.5555555555555556,
              "#d8576b"
             ],
             [
              0.6666666666666666,
              "#ed7953"
             ],
             [
              0.7777777777777778,
              "#fb9f3a"
             ],
             [
              0.8888888888888888,
              "#fdca26"
             ],
             [
              1,
              "#f0f921"
             ]
            ],
            "type": "contour"
           }
          ],
          "contourcarpet": [
           {
            "colorbar": {
             "outlinewidth": 0,
             "ticks": ""
            },
            "type": "contourcarpet"
           }
          ],
          "heatmap": [
           {
            "colorbar": {
             "outlinewidth": 0,
             "ticks": ""
            },
            "colorscale": [
             [
              0,
              "#0d0887"
             ],
             [
              0.1111111111111111,
              "#46039f"
             ],
             [
              0.2222222222222222,
              "#7201a8"
             ],
             [
              0.3333333333333333,
              "#9c179e"
             ],
             [
              0.4444444444444444,
              "#bd3786"
             ],
             [
              0.5555555555555556,
              "#d8576b"
             ],
             [
              0.6666666666666666,
              "#ed7953"
             ],
             [
              0.7777777777777778,
              "#fb9f3a"
             ],
             [
              0.8888888888888888,
              "#fdca26"
             ],
             [
              1,
              "#f0f921"
             ]
            ],
            "type": "heatmap"
           }
          ],
          "heatmapgl": [
           {
            "colorbar": {
             "outlinewidth": 0,
             "ticks": ""
            },
            "colorscale": [
             [
              0,
              "#0d0887"
             ],
             [
              0.1111111111111111,
              "#46039f"
             ],
             [
              0.2222222222222222,
              "#7201a8"
             ],
             [
              0.3333333333333333,
              "#9c179e"
             ],
             [
              0.4444444444444444,
              "#bd3786"
             ],
             [
              0.5555555555555556,
              "#d8576b"
             ],
             [
              0.6666666666666666,
              "#ed7953"
             ],
             [
              0.7777777777777778,
              "#fb9f3a"
             ],
             [
              0.8888888888888888,
              "#fdca26"
             ],
             [
              1,
              "#f0f921"
             ]
            ],
            "type": "heatmapgl"
           }
          ],
          "histogram": [
           {
            "marker": {
             "pattern": {
              "fillmode": "overlay",
              "size": 10,
              "solidity": 0.2
             }
            },
            "type": "histogram"
           }
          ],
          "histogram2d": [
           {
            "colorbar": {
             "outlinewidth": 0,
             "ticks": ""
            },
            "colorscale": [
             [
              0,
              "#0d0887"
             ],
             [
              0.1111111111111111,
              "#46039f"
             ],
             [
              0.2222222222222222,
              "#7201a8"
             ],
             [
              0.3333333333333333,
              "#9c179e"
             ],
             [
              0.4444444444444444,
              "#bd3786"
             ],
             [
              0.5555555555555556,
              "#d8576b"
             ],
             [
              0.6666666666666666,
              "#ed7953"
             ],
             [
              0.7777777777777778,
              "#fb9f3a"
             ],
             [
              0.8888888888888888,
              "#fdca26"
             ],
             [
              1,
              "#f0f921"
             ]
            ],
            "type": "histogram2d"
           }
          ],
          "histogram2dcontour": [
           {
            "colorbar": {
             "outlinewidth": 0,
             "ticks": ""
            },
            "colorscale": [
             [
              0,
              "#0d0887"
             ],
             [
              0.1111111111111111,
              "#46039f"
             ],
             [
              0.2222222222222222,
              "#7201a8"
             ],
             [
              0.3333333333333333,
              "#9c179e"
             ],
             [
              0.4444444444444444,
              "#bd3786"
             ],
             [
              0.5555555555555556,
              "#d8576b"
             ],
             [
              0.6666666666666666,
              "#ed7953"
             ],
             [
              0.7777777777777778,
              "#fb9f3a"
             ],
             [
              0.8888888888888888,
              "#fdca26"
             ],
             [
              1,
              "#f0f921"
             ]
            ],
            "type": "histogram2dcontour"
           }
          ],
          "mesh3d": [
           {
            "colorbar": {
             "outlinewidth": 0,
             "ticks": ""
            },
            "type": "mesh3d"
           }
          ],
          "parcoords": [
           {
            "line": {
             "colorbar": {
              "outlinewidth": 0,
              "ticks": ""
             }
            },
            "type": "parcoords"
           }
          ],
          "pie": [
           {
            "automargin": true,
            "type": "pie"
           }
          ],
          "scatter": [
           {
            "fillpattern": {
             "fillmode": "overlay",
             "size": 10,
             "solidity": 0.2
            },
            "type": "scatter"
           }
          ],
          "scatter3d": [
           {
            "line": {
             "colorbar": {
              "outlinewidth": 0,
              "ticks": ""
             }
            },
            "marker": {
             "colorbar": {
              "outlinewidth": 0,
              "ticks": ""
             }
            },
            "type": "scatter3d"
           }
          ],
          "scattercarpet": [
           {
            "marker": {
             "colorbar": {
              "outlinewidth": 0,
              "ticks": ""
             }
            },
            "type": "scattercarpet"
           }
          ],
          "scattergeo": [
           {
            "marker": {
             "colorbar": {
              "outlinewidth": 0,
              "ticks": ""
             }
            },
            "type": "scattergeo"
           }
          ],
          "scattergl": [
           {
            "marker": {
             "colorbar": {
              "outlinewidth": 0,
              "ticks": ""
             }
            },
            "type": "scattergl"
           }
          ],
          "scattermapbox": [
           {
            "marker": {
             "colorbar": {
              "outlinewidth": 0,
              "ticks": ""
             }
            },
            "type": "scattermapbox"
           }
          ],
          "scatterpolar": [
           {
            "marker": {
             "colorbar": {
              "outlinewidth": 0,
              "ticks": ""
             }
            },
            "type": "scatterpolar"
           }
          ],
          "scatterpolargl": [
           {
            "marker": {
             "colorbar": {
              "outlinewidth": 0,
              "ticks": ""
             }
            },
            "type": "scatterpolargl"
           }
          ],
          "scatterternary": [
           {
            "marker": {
             "colorbar": {
              "outlinewidth": 0,
              "ticks": ""
             }
            },
            "type": "scatterternary"
           }
          ],
          "surface": [
           {
            "colorbar": {
             "outlinewidth": 0,
             "ticks": ""
            },
            "colorscale": [
             [
              0,
              "#0d0887"
             ],
             [
              0.1111111111111111,
              "#46039f"
             ],
             [
              0.2222222222222222,
              "#7201a8"
             ],
             [
              0.3333333333333333,
              "#9c179e"
             ],
             [
              0.4444444444444444,
              "#bd3786"
             ],
             [
              0.5555555555555556,
              "#d8576b"
             ],
             [
              0.6666666666666666,
              "#ed7953"
             ],
             [
              0.7777777777777778,
              "#fb9f3a"
             ],
             [
              0.8888888888888888,
              "#fdca26"
             ],
             [
              1,
              "#f0f921"
             ]
            ],
            "type": "surface"
           }
          ],
          "table": [
           {
            "cells": {
             "fill": {
              "color": "#EBF0F8"
             },
             "line": {
              "color": "white"
             }
            },
            "header": {
             "fill": {
              "color": "#C8D4E3"
             },
             "line": {
              "color": "white"
             }
            },
            "type": "table"
           }
          ]
         },
         "layout": {
          "annotationdefaults": {
           "arrowcolor": "#2a3f5f",
           "arrowhead": 0,
           "arrowwidth": 1
          },
          "autotypenumbers": "strict",
          "coloraxis": {
           "colorbar": {
            "outlinewidth": 0,
            "ticks": ""
           }
          },
          "colorscale": {
           "diverging": [
            [
             0,
             "#8e0152"
            ],
            [
             0.1,
             "#c51b7d"
            ],
            [
             0.2,
             "#de77ae"
            ],
            [
             0.3,
             "#f1b6da"
            ],
            [
             0.4,
             "#fde0ef"
            ],
            [
             0.5,
             "#f7f7f7"
            ],
            [
             0.6,
             "#e6f5d0"
            ],
            [
             0.7,
             "#b8e186"
            ],
            [
             0.8,
             "#7fbc41"
            ],
            [
             0.9,
             "#4d9221"
            ],
            [
             1,
             "#276419"
            ]
           ],
           "sequential": [
            [
             0,
             "#0d0887"
            ],
            [
             0.1111111111111111,
             "#46039f"
            ],
            [
             0.2222222222222222,
             "#7201a8"
            ],
            [
             0.3333333333333333,
             "#9c179e"
            ],
            [
             0.4444444444444444,
             "#bd3786"
            ],
            [
             0.5555555555555556,
             "#d8576b"
            ],
            [
             0.6666666666666666,
             "#ed7953"
            ],
            [
             0.7777777777777778,
             "#fb9f3a"
            ],
            [
             0.8888888888888888,
             "#fdca26"
            ],
            [
             1,
             "#f0f921"
            ]
           ],
           "sequentialminus": [
            [
             0,
             "#0d0887"
            ],
            [
             0.1111111111111111,
             "#46039f"
            ],
            [
             0.2222222222222222,
             "#7201a8"
            ],
            [
             0.3333333333333333,
             "#9c179e"
            ],
            [
             0.4444444444444444,
             "#bd3786"
            ],
            [
             0.5555555555555556,
             "#d8576b"
            ],
            [
             0.6666666666666666,
             "#ed7953"
            ],
            [
             0.7777777777777778,
             "#fb9f3a"
            ],
            [
             0.8888888888888888,
             "#fdca26"
            ],
            [
             1,
             "#f0f921"
            ]
           ]
          },
          "colorway": [
           "#636efa",
           "#EF553B",
           "#00cc96",
           "#ab63fa",
           "#FFA15A",
           "#19d3f3",
           "#FF6692",
           "#B6E880",
           "#FF97FF",
           "#FECB52"
          ],
          "font": {
           "color": "#2a3f5f"
          },
          "geo": {
           "bgcolor": "white",
           "lakecolor": "white",
           "landcolor": "#E5ECF6",
           "showlakes": true,
           "showland": true,
           "subunitcolor": "white"
          },
          "hoverlabel": {
           "align": "left"
          },
          "hovermode": "closest",
          "mapbox": {
           "style": "light"
          },
          "paper_bgcolor": "white",
          "plot_bgcolor": "#E5ECF6",
          "polar": {
           "angularaxis": {
            "gridcolor": "white",
            "linecolor": "white",
            "ticks": ""
           },
           "bgcolor": "#E5ECF6",
           "radialaxis": {
            "gridcolor": "white",
            "linecolor": "white",
            "ticks": ""
           }
          },
          "scene": {
           "xaxis": {
            "backgroundcolor": "#E5ECF6",
            "gridcolor": "white",
            "gridwidth": 2,
            "linecolor": "white",
            "showbackground": true,
            "ticks": "",
            "zerolinecolor": "white"
           },
           "yaxis": {
            "backgroundcolor": "#E5ECF6",
            "gridcolor": "white",
            "gridwidth": 2,
            "linecolor": "white",
            "showbackground": true,
            "ticks": "",
            "zerolinecolor": "white"
           },
           "zaxis": {
            "backgroundcolor": "#E5ECF6",
            "gridcolor": "white",
            "gridwidth": 2,
            "linecolor": "white",
            "showbackground": true,
            "ticks": "",
            "zerolinecolor": "white"
           }
          },
          "shapedefaults": {
           "line": {
            "color": "#2a3f5f"
           }
          },
          "ternary": {
           "aaxis": {
            "gridcolor": "white",
            "linecolor": "white",
            "ticks": ""
           },
           "baxis": {
            "gridcolor": "white",
            "linecolor": "white",
            "ticks": ""
           },
           "bgcolor": "#E5ECF6",
           "caxis": {
            "gridcolor": "white",
            "linecolor": "white",
            "ticks": ""
           }
          },
          "title": {
           "x": 0.05
          },
          "xaxis": {
           "automargin": true,
           "gridcolor": "white",
           "linecolor": "white",
           "ticks": "",
           "title": {
            "standoff": 15
           },
           "zerolinecolor": "white",
           "zerolinewidth": 2
          },
          "yaxis": {
           "automargin": true,
           "gridcolor": "white",
           "linecolor": "white",
           "ticks": "",
           "title": {
            "standoff": 15
           },
           "zerolinecolor": "white",
           "zerolinewidth": 2
          }
         }
        },
        "title": {
         "text": "AT7215 12S"
        },
        "xaxis": {
         "anchor": "y",
         "domain": [
          0,
          1
         ],
         "title": {
          "text": "Airspeed (m/s)"
         }
        },
        "yaxis": {
         "anchor": "x",
         "domain": [
          0,
          1
         ],
         "title": {
          "text": "Thrust (lbf)"
         }
        }
       }
      }
     },
     "metadata": {},
     "output_type": "display_data"
    }
   ],
   "source": [
    "for motor in df_max_12s[\"Motor\"].unique():\n",
    "    df_motor = df_max_12s[df_max_12s[\"Motor\"] == motor].sort_values(by=\"Airspeed\")\n",
    "    fig = px.scatter(df_motor, x=\"Airspeed\", y=\"Thrust\", color=\"Prop\", title=motor + \" 12S\")\n",
    "    fig.update_traces(mode='lines+markers')\n",
    "    fig.update_layout(\n",
    "        xaxis_title=\"Airspeed (m/s)\",\n",
    "        yaxis_title=\"Thrust (lbf)\",\n",
    "        legend_title=\"Prop\",\n",
    "    )\n",
    "    fig.add_vrect(\n",
    "        x0=35, x1=55,\n",
    "        fillcolor=\"LightSalmon\", opacity=0.5,\n",
    "        layer=\"below\", line_width=0,\n",
    "    )\n",
    "    fig.add_annotation(\n",
    "        x=(55 + 35)/2, y=df_motor[\"Thrust\"].max(),\n",
    "        text=\"M2\",\n",
    "        showarrow=False,\n",
    "        font=dict(\n",
    "            size=16,\n",
    "            color=\"red\"\n",
    "        ),\n",
    "    )\n",
    "    fig.add_vrect(\n",
    "        x0=20, x1=30,\n",
    "        fillcolor=\"LightSeagreen\", opacity=0.5,\n",
    "        layer=\"below\", line_width=0,\n",
    "    )\n",
    "    fig.add_annotation(\n",
    "        x=(30 + 20)/2, y=df_motor[\"Thrust\"].max(),\n",
    "        text=\"M3\",\n",
    "        showarrow=False,\n",
    "        font=dict(\n",
    "            size=16,\n",
    "            color=\"seagreen\"\n",
    "        ),\n",
    "    )\n",
    "    fig.show()\n",
    "    fig.write_image(os.path.join(OUTPUT_DIR, f\"{motor}_12s.png\"), width=1000, height=500)"
   ]
  },
  {
   "cell_type": "code",
   "execution_count": 187,
   "metadata": {},
   "outputs": [
    {
     "data": {
      "text/plain": [
       "array(['nan', '115wh', '97.5wh', '2.8ah', '2.4ah', '2.0ah', '3.2ah'],\n",
       "      dtype=object)"
      ]
     },
     "execution_count": 187,
     "metadata": {},
     "output_type": "execute_result"
    }
   ],
   "source": [
    "df['Battery'].unique()"
   ]
  },
  {
   "cell_type": "code",
   "execution_count": 195,
   "metadata": {},
   "outputs": [],
   "source": [
    "df[(df[\"Config\"] == 'M2') & df['Battery'].apply(lambda x: not x in ['nan', '115wh', '97.5wh'])].sort_values(by=['Prop', 'Airspeed'], ascending=True).reset_index(drop=True).to_csv(os.path.join(OUTPUT_DIR, \"M2.csv\"))"
   ]
  },
  {
   "cell_type": "code",
   "execution_count": 196,
   "metadata": {},
   "outputs": [],
   "source": [
    "df[(df[\"Config\"] == 'M3') & df['Battery'].apply(lambda x: not x in ['nan', '115wh', '97.5wh'])].sort_values(by=['Prop', 'Airspeed'], ascending=True).reset_index(drop=True).to_csv(os.path.join(OUTPUT_DIR, \"M3.csv\"))"
   ]
  },
  {
   "cell_type": "code",
   "execution_count": 208,
   "metadata": {},
   "outputs": [
    {
     "data": {
      "text/html": [
       "<div>\n",
       "<style scoped>\n",
       "    .dataframe tbody tr th:only-of-type {\n",
       "        vertical-align: middle;\n",
       "    }\n",
       "\n",
       "    .dataframe tbody tr th {\n",
       "        vertical-align: top;\n",
       "    }\n",
       "\n",
       "    .dataframe thead th {\n",
       "        text-align: right;\n",
       "    }\n",
       "</style>\n",
       "<table border=\"1\" class=\"dataframe\">\n",
       "  <thead>\n",
       "    <tr style=\"text-align: right;\">\n",
       "      <th></th>\n",
       "      <th>Motor</th>\n",
       "      <th>Prop</th>\n",
       "      <th>Airspeed</th>\n",
       "      <th>Cells</th>\n",
       "      <th>Battery</th>\n",
       "      <th>Config</th>\n",
       "      <th>Average Thrust</th>\n",
       "    </tr>\n",
       "  </thead>\n",
       "  <tbody>\n",
       "    <tr>\n",
       "      <th>0</th>\n",
       "      <td>AT7215</td>\n",
       "      <td>15x14x3</td>\n",
       "      <td>45ms</td>\n",
       "      <td>12S</td>\n",
       "      <td>2200mAh</td>\n",
       "      <td>M2</td>\n",
       "      <td>15.163871</td>\n",
       "    </tr>\n",
       "    <tr>\n",
       "      <th>1</th>\n",
       "      <td>AT7215</td>\n",
       "      <td>15x14x3</td>\n",
       "      <td>50ms</td>\n",
       "      <td>12S</td>\n",
       "      <td>2200mAh</td>\n",
       "      <td>M2</td>\n",
       "      <td>13.173614</td>\n",
       "    </tr>\n",
       "    <tr>\n",
       "      <th>2</th>\n",
       "      <td>AT7215</td>\n",
       "      <td>16x14</td>\n",
       "      <td>45ms</td>\n",
       "      <td>12S</td>\n",
       "      <td>2200mAh</td>\n",
       "      <td>M2</td>\n",
       "      <td>16.208721</td>\n",
       "    </tr>\n",
       "    <tr>\n",
       "      <th>3</th>\n",
       "      <td>AT7215</td>\n",
       "      <td>16x14</td>\n",
       "      <td>50ms</td>\n",
       "      <td>12S</td>\n",
       "      <td>2200mAh</td>\n",
       "      <td>M2</td>\n",
       "      <td>15.790526</td>\n",
       "    </tr>\n",
       "    <tr>\n",
       "      <th>4</th>\n",
       "      <td>AT7215</td>\n",
       "      <td>16x14</td>\n",
       "      <td>55ms</td>\n",
       "      <td>12S</td>\n",
       "      <td>2200mAh</td>\n",
       "      <td>M2</td>\n",
       "      <td>15.157545</td>\n",
       "    </tr>\n",
       "  </tbody>\n",
       "</table>\n",
       "</div>"
      ],
      "text/plain": [
       "    Motor     Prop Airspeed Cells  Battery Config  Average Thrust\n",
       "0  AT7215  15x14x3     45ms   12S  2200mAh     M2       15.163871\n",
       "1  AT7215  15x14x3     50ms   12S  2200mAh     M2       13.173614\n",
       "2  AT7215    16x14     45ms   12S  2200mAh     M2       16.208721\n",
       "3  AT7215    16x14     50ms   12S  2200mAh     M2       15.790526\n",
       "4  AT7215    16x14     55ms   12S  2200mAh     M2       15.157545"
      ]
     },
     "execution_count": 208,
     "metadata": {},
     "output_type": "execute_result"
    }
   ],
   "source": [
    "pd.read_csv(os.path.join(OUTPUT_DIR, \"M2.csv\"), index_col=0)"
   ]
  },
  {
   "cell_type": "code",
   "execution_count": 209,
   "metadata": {},
   "outputs": [
    {
     "data": {
      "text/html": [
       "<div>\n",
       "<style scoped>\n",
       "    .dataframe tbody tr th:only-of-type {\n",
       "        vertical-align: middle;\n",
       "    }\n",
       "\n",
       "    .dataframe tbody tr th {\n",
       "        vertical-align: top;\n",
       "    }\n",
       "\n",
       "    .dataframe thead th {\n",
       "        text-align: right;\n",
       "    }\n",
       "</style>\n",
       "<table border=\"1\" class=\"dataframe\">\n",
       "  <thead>\n",
       "    <tr style=\"text-align: right;\">\n",
       "      <th></th>\n",
       "      <th>Motor</th>\n",
       "      <th>Prop</th>\n",
       "      <th>Airspeed</th>\n",
       "      <th>Cells</th>\n",
       "      <th>Battery</th>\n",
       "      <th>Config</th>\n",
       "      <th>Average Thrust</th>\n",
       "    </tr>\n",
       "  </thead>\n",
       "  <tbody>\n",
       "    <tr>\n",
       "      <th>0</th>\n",
       "      <td>AT7215</td>\n",
       "      <td>15x14x3</td>\n",
       "      <td>30ms</td>\n",
       "      <td>12S</td>\n",
       "      <td>1600mAh</td>\n",
       "      <td>M3</td>\n",
       "      <td>6.426517</td>\n",
       "    </tr>\n",
       "    <tr>\n",
       "      <th>1</th>\n",
       "      <td>AT7215</td>\n",
       "      <td>15x14x3</td>\n",
       "      <td>35ms</td>\n",
       "      <td>12S</td>\n",
       "      <td>1600mAh</td>\n",
       "      <td>M3</td>\n",
       "      <td>6.569484</td>\n",
       "    </tr>\n",
       "    <tr>\n",
       "      <th>2</th>\n",
       "      <td>AT7215</td>\n",
       "      <td>15x14x3</td>\n",
       "      <td>40ms</td>\n",
       "      <td>12S</td>\n",
       "      <td>1600mAh</td>\n",
       "      <td>M3</td>\n",
       "      <td>7.101650</td>\n",
       "    </tr>\n",
       "    <tr>\n",
       "      <th>3</th>\n",
       "      <td>AT7215</td>\n",
       "      <td>16x14</td>\n",
       "      <td>30ms</td>\n",
       "      <td>12S</td>\n",
       "      <td>1600mAh</td>\n",
       "      <td>M3</td>\n",
       "      <td>6.694281</td>\n",
       "    </tr>\n",
       "    <tr>\n",
       "      <th>4</th>\n",
       "      <td>AT7215</td>\n",
       "      <td>16x14</td>\n",
       "      <td>35ms</td>\n",
       "      <td>12S</td>\n",
       "      <td>1600mAh</td>\n",
       "      <td>M3</td>\n",
       "      <td>6.583793</td>\n",
       "    </tr>\n",
       "    <tr>\n",
       "      <th>5</th>\n",
       "      <td>AT7215</td>\n",
       "      <td>16x14</td>\n",
       "      <td>40ms</td>\n",
       "      <td>12S</td>\n",
       "      <td>1600mAh</td>\n",
       "      <td>M3</td>\n",
       "      <td>6.533040</td>\n",
       "    </tr>\n",
       "  </tbody>\n",
       "</table>\n",
       "</div>"
      ],
      "text/plain": [
       "    Motor     Prop Airspeed Cells  Battery Config  Average Thrust\n",
       "0  AT7215  15x14x3     30ms   12S  1600mAh     M3        6.426517\n",
       "1  AT7215  15x14x3     35ms   12S  1600mAh     M3        6.569484\n",
       "2  AT7215  15x14x3     40ms   12S  1600mAh     M3        7.101650\n",
       "3  AT7215    16x14     30ms   12S  1600mAh     M3        6.694281\n",
       "4  AT7215    16x14     35ms   12S  1600mAh     M3        6.583793\n",
       "5  AT7215    16x14     40ms   12S  1600mAh     M3        6.533040"
      ]
     },
     "execution_count": 209,
     "metadata": {},
     "output_type": "execute_result"
    }
   ],
   "source": [
    "pd.read_csv(os.path.join(OUTPUT_DIR, \"M3.csv\"), index_col=0)"
   ]
  },
  {
   "cell_type": "code",
   "execution_count": 212,
   "metadata": {},
   "outputs": [
    {
     "data": {
      "text/html": [
       "<div>\n",
       "<style scoped>\n",
       "    .dataframe tbody tr th:only-of-type {\n",
       "        vertical-align: middle;\n",
       "    }\n",
       "\n",
       "    .dataframe tbody tr th {\n",
       "        vertical-align: top;\n",
       "    }\n",
       "\n",
       "    .dataframe thead th {\n",
       "        text-align: right;\n",
       "    }\n",
       "</style>\n",
       "<table border=\"1\" class=\"dataframe\">\n",
       "  <thead>\n",
       "    <tr style=\"text-align: right;\">\n",
       "      <th></th>\n",
       "      <th>Motor</th>\n",
       "      <th>Prop</th>\n",
       "      <th>Airspeed</th>\n",
       "      <th>Cells</th>\n",
       "      <th>Battery</th>\n",
       "      <th>Config</th>\n",
       "      <th>Thrust</th>\n",
       "    </tr>\n",
       "  </thead>\n",
       "  <tbody>\n",
       "    <tr>\n",
       "      <th>0</th>\n",
       "      <td>AT7215</td>\n",
       "      <td>15x14x3</td>\n",
       "      <td>35ms</td>\n",
       "      <td>12S</td>\n",
       "      <td>2.4ah</td>\n",
       "      <td>DT</td>\n",
       "      <td>20.977</td>\n",
       "    </tr>\n",
       "    <tr>\n",
       "      <th>1</th>\n",
       "      <td>AT7215</td>\n",
       "      <td>15x14x3</td>\n",
       "      <td>40ms</td>\n",
       "      <td>12S</td>\n",
       "      <td>2.4ah</td>\n",
       "      <td>DT</td>\n",
       "      <td>19.384</td>\n",
       "    </tr>\n",
       "    <tr>\n",
       "      <th>2</th>\n",
       "      <td>AT7215</td>\n",
       "      <td>15x14x3</td>\n",
       "      <td>45ms</td>\n",
       "      <td>12S</td>\n",
       "      <td>2.4ah</td>\n",
       "      <td>DT</td>\n",
       "      <td>16.849</td>\n",
       "    </tr>\n",
       "    <tr>\n",
       "      <th>3</th>\n",
       "      <td>AT7215</td>\n",
       "      <td>15x14x3</td>\n",
       "      <td>45ms</td>\n",
       "      <td>12S</td>\n",
       "      <td>2.8ah</td>\n",
       "      <td>M2</td>\n",
       "      <td>17.067</td>\n",
       "    </tr>\n",
       "    <tr>\n",
       "      <th>4</th>\n",
       "      <td>AT7215</td>\n",
       "      <td>15x14x3</td>\n",
       "      <td>50ms</td>\n",
       "      <td>12S</td>\n",
       "      <td>2.8ah</td>\n",
       "      <td>M2</td>\n",
       "      <td>15.073</td>\n",
       "    </tr>\n",
       "    <tr>\n",
       "      <th>5</th>\n",
       "      <td>AT7215</td>\n",
       "      <td>16x14</td>\n",
       "      <td>45ms</td>\n",
       "      <td>12S</td>\n",
       "      <td>2.8ah</td>\n",
       "      <td>M2</td>\n",
       "      <td>19.659</td>\n",
       "    </tr>\n",
       "    <tr>\n",
       "      <th>6</th>\n",
       "      <td>AT7215</td>\n",
       "      <td>16x14</td>\n",
       "      <td>45ms</td>\n",
       "      <td>12S</td>\n",
       "      <td>2.8ah</td>\n",
       "      <td>DT</td>\n",
       "      <td>16.727</td>\n",
       "    </tr>\n",
       "    <tr>\n",
       "      <th>7</th>\n",
       "      <td>AT7215</td>\n",
       "      <td>16x14</td>\n",
       "      <td>50ms</td>\n",
       "      <td>12S</td>\n",
       "      <td>2.8ah</td>\n",
       "      <td>M2</td>\n",
       "      <td>19.209</td>\n",
       "    </tr>\n",
       "    <tr>\n",
       "      <th>8</th>\n",
       "      <td>AT7215</td>\n",
       "      <td>16x14</td>\n",
       "      <td>50ms</td>\n",
       "      <td>12S</td>\n",
       "      <td>2.8ah</td>\n",
       "      <td>DT</td>\n",
       "      <td>16.059</td>\n",
       "    </tr>\n",
       "    <tr>\n",
       "      <th>9</th>\n",
       "      <td>AT7215</td>\n",
       "      <td>16x14</td>\n",
       "      <td>55ms</td>\n",
       "      <td>12S</td>\n",
       "      <td>2.8ah</td>\n",
       "      <td>M2</td>\n",
       "      <td>17.814</td>\n",
       "    </tr>\n",
       "    <tr>\n",
       "      <th>10</th>\n",
       "      <td>AT7215</td>\n",
       "      <td>16x14</td>\n",
       "      <td>55ms</td>\n",
       "      <td>12S</td>\n",
       "      <td>2.8ah</td>\n",
       "      <td>DT</td>\n",
       "      <td>15.562</td>\n",
       "    </tr>\n",
       "    <tr>\n",
       "      <th>11</th>\n",
       "      <td>AT7215</td>\n",
       "      <td>16x14</td>\n",
       "      <td>60ms</td>\n",
       "      <td>12S</td>\n",
       "      <td>2.8ah</td>\n",
       "      <td>DT</td>\n",
       "      <td>14.999</td>\n",
       "    </tr>\n",
       "  </tbody>\n",
       "</table>\n",
       "</div>"
      ],
      "text/plain": [
       "     Motor     Prop Airspeed Cells Battery Config  Thrust\n",
       "0   AT7215  15x14x3     35ms   12S   2.4ah     DT  20.977\n",
       "1   AT7215  15x14x3     40ms   12S   2.4ah     DT  19.384\n",
       "2   AT7215  15x14x3     45ms   12S   2.4ah     DT  16.849\n",
       "3   AT7215  15x14x3     45ms   12S   2.8ah     M2  17.067\n",
       "4   AT7215  15x14x3     50ms   12S   2.8ah     M2  15.073\n",
       "5   AT7215    16x14     45ms   12S   2.8ah     M2  19.659\n",
       "6   AT7215    16x14     45ms   12S   2.8ah     DT  16.727\n",
       "7   AT7215    16x14     50ms   12S   2.8ah     M2  19.209\n",
       "8   AT7215    16x14     50ms   12S   2.8ah     DT  16.059\n",
       "9   AT7215    16x14     55ms   12S   2.8ah     M2  17.814\n",
       "10  AT7215    16x14     55ms   12S   2.8ah     DT  15.562\n",
       "11  AT7215    16x14     60ms   12S   2.8ah     DT  14.999"
      ]
     },
     "execution_count": 212,
     "metadata": {},
     "output_type": "execute_result"
    }
   ],
   "source": [
    "df_max = df[df['Config'].apply(lambda x: x in ['DT', 'M2']) & df['Battery'].apply(lambda x: not x in ['nan', '115wh', '97.5wh'])].sort_values(by=['Prop', 'Airspeed'], ascending=True).reset_index(drop=True)\n",
    "df_max"
   ]
  },
  {
   "cell_type": "code",
   "execution_count": 213,
   "metadata": {},
   "outputs": [],
   "source": [
    "df_max[\"Airspeed\"] = df_max[\"Airspeed\"].apply(lambda x: float(x.replace(\"static\", \"0.0\").replace(\"ms\", \"\")))"
   ]
  },
  {
   "cell_type": "code",
   "execution_count": 214,
   "metadata": {},
   "outputs": [
    {
     "data": {
      "text/html": [
       "<div>\n",
       "<style scoped>\n",
       "    .dataframe tbody tr th:only-of-type {\n",
       "        vertical-align: middle;\n",
       "    }\n",
       "\n",
       "    .dataframe tbody tr th {\n",
       "        vertical-align: top;\n",
       "    }\n",
       "\n",
       "    .dataframe thead th {\n",
       "        text-align: right;\n",
       "    }\n",
       "</style>\n",
       "<table border=\"1\" class=\"dataframe\">\n",
       "  <thead>\n",
       "    <tr style=\"text-align: right;\">\n",
       "      <th></th>\n",
       "      <th>Motor</th>\n",
       "      <th>Prop</th>\n",
       "      <th>Airspeed</th>\n",
       "      <th>Battery</th>\n",
       "      <th>Cells</th>\n",
       "      <th>Thrust</th>\n",
       "    </tr>\n",
       "  </thead>\n",
       "  <tbody>\n",
       "    <tr>\n",
       "      <th>0</th>\n",
       "      <td>AT7215</td>\n",
       "      <td>15x14x3</td>\n",
       "      <td>35.0</td>\n",
       "      <td>1600mAh</td>\n",
       "      <td>12S</td>\n",
       "      <td>20.977</td>\n",
       "    </tr>\n",
       "    <tr>\n",
       "      <th>1</th>\n",
       "      <td>AT7215</td>\n",
       "      <td>15x14x3</td>\n",
       "      <td>40.0</td>\n",
       "      <td>1600mAh</td>\n",
       "      <td>12S</td>\n",
       "      <td>19.384</td>\n",
       "    </tr>\n",
       "    <tr>\n",
       "      <th>2</th>\n",
       "      <td>AT7215</td>\n",
       "      <td>15x14x3</td>\n",
       "      <td>45.0</td>\n",
       "      <td>1600mAh</td>\n",
       "      <td>12S</td>\n",
       "      <td>16.849</td>\n",
       "    </tr>\n",
       "    <tr>\n",
       "      <th>3</th>\n",
       "      <td>AT7215</td>\n",
       "      <td>15x14x3</td>\n",
       "      <td>45.0</td>\n",
       "      <td>2200mAh</td>\n",
       "      <td>12S</td>\n",
       "      <td>17.067</td>\n",
       "    </tr>\n",
       "    <tr>\n",
       "      <th>4</th>\n",
       "      <td>AT7215</td>\n",
       "      <td>15x14x3</td>\n",
       "      <td>50.0</td>\n",
       "      <td>2200mAh</td>\n",
       "      <td>12S</td>\n",
       "      <td>15.073</td>\n",
       "    </tr>\n",
       "    <tr>\n",
       "      <th>5</th>\n",
       "      <td>AT7215</td>\n",
       "      <td>16x14</td>\n",
       "      <td>45.0</td>\n",
       "      <td>2200mAh</td>\n",
       "      <td>12S</td>\n",
       "      <td>16.727</td>\n",
       "    </tr>\n",
       "    <tr>\n",
       "      <th>6</th>\n",
       "      <td>AT7215</td>\n",
       "      <td>16x14</td>\n",
       "      <td>50.0</td>\n",
       "      <td>2200mAh</td>\n",
       "      <td>12S</td>\n",
       "      <td>16.059</td>\n",
       "    </tr>\n",
       "    <tr>\n",
       "      <th>7</th>\n",
       "      <td>AT7215</td>\n",
       "      <td>16x14</td>\n",
       "      <td>55.0</td>\n",
       "      <td>2200mAh</td>\n",
       "      <td>12S</td>\n",
       "      <td>15.562</td>\n",
       "    </tr>\n",
       "    <tr>\n",
       "      <th>8</th>\n",
       "      <td>AT7215</td>\n",
       "      <td>16x14</td>\n",
       "      <td>60.0</td>\n",
       "      <td>2200mAh</td>\n",
       "      <td>12S</td>\n",
       "      <td>14.999</td>\n",
       "    </tr>\n",
       "  </tbody>\n",
       "</table>\n",
       "</div>"
      ],
      "text/plain": [
       "    Motor     Prop  Airspeed  Battery Cells  Thrust\n",
       "0  AT7215  15x14x3      35.0  1600mAh   12S  20.977\n",
       "1  AT7215  15x14x3      40.0  1600mAh   12S  19.384\n",
       "2  AT7215  15x14x3      45.0  1600mAh   12S  16.849\n",
       "3  AT7215  15x14x3      45.0  2200mAh   12S  17.067\n",
       "4  AT7215  15x14x3      50.0  2200mAh   12S  15.073\n",
       "5  AT7215    16x14      45.0  2200mAh   12S  16.727\n",
       "6  AT7215    16x14      50.0  2200mAh   12S  16.059\n",
       "7  AT7215    16x14      55.0  2200mAh   12S  15.562\n",
       "8  AT7215    16x14      60.0  2200mAh   12S  14.999"
      ]
     },
     "execution_count": 214,
     "metadata": {},
     "output_type": "execute_result"
    }
   ],
   "source": [
    "# keep Config == DT for duplicated \"Motor\", \"Prop\", \"Airspeed\", \"Battery\", \"Cells\" combos\n",
    "df_max = df_max.groupby([\"Motor\", \"Prop\", \"Airspeed\", \"Battery\", \"Cells\"]).agg({\"Thrust\": \"min\"}).reset_index()\n",
    "df_max.replace('2.8ah', '2200mAh', inplace=True)\n",
    "df_max.replace('2.4ah', '1600mAh', inplace=True)\n",
    "df_max"
   ]
  },
  {
   "cell_type": "code",
   "execution_count": 215,
   "metadata": {},
   "outputs": [],
   "source": [
    "df_max_8s = df_max[df_max[\"Cells\"] == \"8S\"]\n",
    "df_max_12s = df_max[df_max[\"Cells\"] == \"12S\"]"
   ]
  },
  {
   "cell_type": "code",
   "execution_count": 216,
   "metadata": {},
   "outputs": [
    {
     "data": {
      "application/vnd.plotly.v1+json": {
       "config": {
        "plotlyServerURL": "https://plot.ly"
       },
       "data": [
        {
         "hovertemplate": "Battery/Prop=1600mAh/15x14x3<br>Airspeed=%{x}<br>Thrust=%{y}<extra></extra>",
         "legendgroup": "1600mAh/15x14x3",
         "marker": {
          "color": "#636efa",
          "symbol": "circle"
         },
         "mode": "lines+markers",
         "name": "1600mAh/15x14x3",
         "orientation": "v",
         "showlegend": true,
         "type": "scatter",
         "x": [
          35,
          40,
          45
         ],
         "xaxis": "x",
         "y": [
          20.977,
          19.384,
          16.849
         ],
         "yaxis": "y"
        },
        {
         "hovertemplate": "Battery/Prop=2200mAh/15x14x3<br>Airspeed=%{x}<br>Thrust=%{y}<extra></extra>",
         "legendgroup": "2200mAh/15x14x3",
         "marker": {
          "color": "#EF553B",
          "symbol": "circle"
         },
         "mode": "lines+markers",
         "name": "2200mAh/15x14x3",
         "orientation": "v",
         "showlegend": true,
         "type": "scatter",
         "x": [
          45,
          50
         ],
         "xaxis": "x",
         "y": [
          17.067,
          15.073
         ],
         "yaxis": "y"
        },
        {
         "hovertemplate": "Battery/Prop=2200mAh/16x14<br>Airspeed=%{x}<br>Thrust=%{y}<extra></extra>",
         "legendgroup": "2200mAh/16x14",
         "marker": {
          "color": "#00cc96",
          "symbol": "circle"
         },
         "mode": "lines+markers",
         "name": "2200mAh/16x14",
         "orientation": "v",
         "showlegend": true,
         "type": "scatter",
         "x": [
          45,
          50,
          55,
          60
         ],
         "xaxis": "x",
         "y": [
          16.727,
          16.059,
          15.562,
          14.999
         ],
         "yaxis": "y"
        }
       ],
       "layout": {
        "annotations": [
         {
          "font": {
           "color": "red",
           "size": 16
          },
          "showarrow": false,
          "text": "M2",
          "x": 50,
          "y": 20.977
         },
         {
          "font": {
           "color": "seagreen",
           "size": 16
          },
          "showarrow": false,
          "text": "M3",
          "x": 35,
          "y": 20.977
         }
        ],
        "legend": {
         "title": {
          "text": "Prop"
         },
         "tracegroupgap": 0
        },
        "shapes": [
         {
          "fillcolor": "LightSalmon",
          "layer": "below",
          "line": {
           "width": 0
          },
          "opacity": 0.5,
          "type": "rect",
          "x0": 40,
          "x1": 60,
          "xref": "x",
          "y0": 0,
          "y1": 1,
          "yref": "y domain"
         },
         {
          "fillcolor": "LightSeagreen",
          "layer": "below",
          "line": {
           "width": 0
          },
          "opacity": 0.5,
          "type": "rect",
          "x0": 30,
          "x1": 40,
          "xref": "x",
          "y0": 0,
          "y1": 1,
          "yref": "y domain"
         }
        ],
        "template": {
         "data": {
          "bar": [
           {
            "error_x": {
             "color": "#2a3f5f"
            },
            "error_y": {
             "color": "#2a3f5f"
            },
            "marker": {
             "line": {
              "color": "#E5ECF6",
              "width": 0.5
             },
             "pattern": {
              "fillmode": "overlay",
              "size": 10,
              "solidity": 0.2
             }
            },
            "type": "bar"
           }
          ],
          "barpolar": [
           {
            "marker": {
             "line": {
              "color": "#E5ECF6",
              "width": 0.5
             },
             "pattern": {
              "fillmode": "overlay",
              "size": 10,
              "solidity": 0.2
             }
            },
            "type": "barpolar"
           }
          ],
          "carpet": [
           {
            "aaxis": {
             "endlinecolor": "#2a3f5f",
             "gridcolor": "white",
             "linecolor": "white",
             "minorgridcolor": "white",
             "startlinecolor": "#2a3f5f"
            },
            "baxis": {
             "endlinecolor": "#2a3f5f",
             "gridcolor": "white",
             "linecolor": "white",
             "minorgridcolor": "white",
             "startlinecolor": "#2a3f5f"
            },
            "type": "carpet"
           }
          ],
          "choropleth": [
           {
            "colorbar": {
             "outlinewidth": 0,
             "ticks": ""
            },
            "type": "choropleth"
           }
          ],
          "contour": [
           {
            "colorbar": {
             "outlinewidth": 0,
             "ticks": ""
            },
            "colorscale": [
             [
              0,
              "#0d0887"
             ],
             [
              0.1111111111111111,
              "#46039f"
             ],
             [
              0.2222222222222222,
              "#7201a8"
             ],
             [
              0.3333333333333333,
              "#9c179e"
             ],
             [
              0.4444444444444444,
              "#bd3786"
             ],
             [
              0.5555555555555556,
              "#d8576b"
             ],
             [
              0.6666666666666666,
              "#ed7953"
             ],
             [
              0.7777777777777778,
              "#fb9f3a"
             ],
             [
              0.8888888888888888,
              "#fdca26"
             ],
             [
              1,
              "#f0f921"
             ]
            ],
            "type": "contour"
           }
          ],
          "contourcarpet": [
           {
            "colorbar": {
             "outlinewidth": 0,
             "ticks": ""
            },
            "type": "contourcarpet"
           }
          ],
          "heatmap": [
           {
            "colorbar": {
             "outlinewidth": 0,
             "ticks": ""
            },
            "colorscale": [
             [
              0,
              "#0d0887"
             ],
             [
              0.1111111111111111,
              "#46039f"
             ],
             [
              0.2222222222222222,
              "#7201a8"
             ],
             [
              0.3333333333333333,
              "#9c179e"
             ],
             [
              0.4444444444444444,
              "#bd3786"
             ],
             [
              0.5555555555555556,
              "#d8576b"
             ],
             [
              0.6666666666666666,
              "#ed7953"
             ],
             [
              0.7777777777777778,
              "#fb9f3a"
             ],
             [
              0.8888888888888888,
              "#fdca26"
             ],
             [
              1,
              "#f0f921"
             ]
            ],
            "type": "heatmap"
           }
          ],
          "heatmapgl": [
           {
            "colorbar": {
             "outlinewidth": 0,
             "ticks": ""
            },
            "colorscale": [
             [
              0,
              "#0d0887"
             ],
             [
              0.1111111111111111,
              "#46039f"
             ],
             [
              0.2222222222222222,
              "#7201a8"
             ],
             [
              0.3333333333333333,
              "#9c179e"
             ],
             [
              0.4444444444444444,
              "#bd3786"
             ],
             [
              0.5555555555555556,
              "#d8576b"
             ],
             [
              0.6666666666666666,
              "#ed7953"
             ],
             [
              0.7777777777777778,
              "#fb9f3a"
             ],
             [
              0.8888888888888888,
              "#fdca26"
             ],
             [
              1,
              "#f0f921"
             ]
            ],
            "type": "heatmapgl"
           }
          ],
          "histogram": [
           {
            "marker": {
             "pattern": {
              "fillmode": "overlay",
              "size": 10,
              "solidity": 0.2
             }
            },
            "type": "histogram"
           }
          ],
          "histogram2d": [
           {
            "colorbar": {
             "outlinewidth": 0,
             "ticks": ""
            },
            "colorscale": [
             [
              0,
              "#0d0887"
             ],
             [
              0.1111111111111111,
              "#46039f"
             ],
             [
              0.2222222222222222,
              "#7201a8"
             ],
             [
              0.3333333333333333,
              "#9c179e"
             ],
             [
              0.4444444444444444,
              "#bd3786"
             ],
             [
              0.5555555555555556,
              "#d8576b"
             ],
             [
              0.6666666666666666,
              "#ed7953"
             ],
             [
              0.7777777777777778,
              "#fb9f3a"
             ],
             [
              0.8888888888888888,
              "#fdca26"
             ],
             [
              1,
              "#f0f921"
             ]
            ],
            "type": "histogram2d"
           }
          ],
          "histogram2dcontour": [
           {
            "colorbar": {
             "outlinewidth": 0,
             "ticks": ""
            },
            "colorscale": [
             [
              0,
              "#0d0887"
             ],
             [
              0.1111111111111111,
              "#46039f"
             ],
             [
              0.2222222222222222,
              "#7201a8"
             ],
             [
              0.3333333333333333,
              "#9c179e"
             ],
             [
              0.4444444444444444,
              "#bd3786"
             ],
             [
              0.5555555555555556,
              "#d8576b"
             ],
             [
              0.6666666666666666,
              "#ed7953"
             ],
             [
              0.7777777777777778,
              "#fb9f3a"
             ],
             [
              0.8888888888888888,
              "#fdca26"
             ],
             [
              1,
              "#f0f921"
             ]
            ],
            "type": "histogram2dcontour"
           }
          ],
          "mesh3d": [
           {
            "colorbar": {
             "outlinewidth": 0,
             "ticks": ""
            },
            "type": "mesh3d"
           }
          ],
          "parcoords": [
           {
            "line": {
             "colorbar": {
              "outlinewidth": 0,
              "ticks": ""
             }
            },
            "type": "parcoords"
           }
          ],
          "pie": [
           {
            "automargin": true,
            "type": "pie"
           }
          ],
          "scatter": [
           {
            "fillpattern": {
             "fillmode": "overlay",
             "size": 10,
             "solidity": 0.2
            },
            "type": "scatter"
           }
          ],
          "scatter3d": [
           {
            "line": {
             "colorbar": {
              "outlinewidth": 0,
              "ticks": ""
             }
            },
            "marker": {
             "colorbar": {
              "outlinewidth": 0,
              "ticks": ""
             }
            },
            "type": "scatter3d"
           }
          ],
          "scattercarpet": [
           {
            "marker": {
             "colorbar": {
              "outlinewidth": 0,
              "ticks": ""
             }
            },
            "type": "scattercarpet"
           }
          ],
          "scattergeo": [
           {
            "marker": {
             "colorbar": {
              "outlinewidth": 0,
              "ticks": ""
             }
            },
            "type": "scattergeo"
           }
          ],
          "scattergl": [
           {
            "marker": {
             "colorbar": {
              "outlinewidth": 0,
              "ticks": ""
             }
            },
            "type": "scattergl"
           }
          ],
          "scattermapbox": [
           {
            "marker": {
             "colorbar": {
              "outlinewidth": 0,
              "ticks": ""
             }
            },
            "type": "scattermapbox"
           }
          ],
          "scatterpolar": [
           {
            "marker": {
             "colorbar": {
              "outlinewidth": 0,
              "ticks": ""
             }
            },
            "type": "scatterpolar"
           }
          ],
          "scatterpolargl": [
           {
            "marker": {
             "colorbar": {
              "outlinewidth": 0,
              "ticks": ""
             }
            },
            "type": "scatterpolargl"
           }
          ],
          "scatterternary": [
           {
            "marker": {
             "colorbar": {
              "outlinewidth": 0,
              "ticks": ""
             }
            },
            "type": "scatterternary"
           }
          ],
          "surface": [
           {
            "colorbar": {
             "outlinewidth": 0,
             "ticks": ""
            },
            "colorscale": [
             [
              0,
              "#0d0887"
             ],
             [
              0.1111111111111111,
              "#46039f"
             ],
             [
              0.2222222222222222,
              "#7201a8"
             ],
             [
              0.3333333333333333,
              "#9c179e"
             ],
             [
              0.4444444444444444,
              "#bd3786"
             ],
             [
              0.5555555555555556,
              "#d8576b"
             ],
             [
              0.6666666666666666,
              "#ed7953"
             ],
             [
              0.7777777777777778,
              "#fb9f3a"
             ],
             [
              0.8888888888888888,
              "#fdca26"
             ],
             [
              1,
              "#f0f921"
             ]
            ],
            "type": "surface"
           }
          ],
          "table": [
           {
            "cells": {
             "fill": {
              "color": "#EBF0F8"
             },
             "line": {
              "color": "white"
             }
            },
            "header": {
             "fill": {
              "color": "#C8D4E3"
             },
             "line": {
              "color": "white"
             }
            },
            "type": "table"
           }
          ]
         },
         "layout": {
          "annotationdefaults": {
           "arrowcolor": "#2a3f5f",
           "arrowhead": 0,
           "arrowwidth": 1
          },
          "autotypenumbers": "strict",
          "coloraxis": {
           "colorbar": {
            "outlinewidth": 0,
            "ticks": ""
           }
          },
          "colorscale": {
           "diverging": [
            [
             0,
             "#8e0152"
            ],
            [
             0.1,
             "#c51b7d"
            ],
            [
             0.2,
             "#de77ae"
            ],
            [
             0.3,
             "#f1b6da"
            ],
            [
             0.4,
             "#fde0ef"
            ],
            [
             0.5,
             "#f7f7f7"
            ],
            [
             0.6,
             "#e6f5d0"
            ],
            [
             0.7,
             "#b8e186"
            ],
            [
             0.8,
             "#7fbc41"
            ],
            [
             0.9,
             "#4d9221"
            ],
            [
             1,
             "#276419"
            ]
           ],
           "sequential": [
            [
             0,
             "#0d0887"
            ],
            [
             0.1111111111111111,
             "#46039f"
            ],
            [
             0.2222222222222222,
             "#7201a8"
            ],
            [
             0.3333333333333333,
             "#9c179e"
            ],
            [
             0.4444444444444444,
             "#bd3786"
            ],
            [
             0.5555555555555556,
             "#d8576b"
            ],
            [
             0.6666666666666666,
             "#ed7953"
            ],
            [
             0.7777777777777778,
             "#fb9f3a"
            ],
            [
             0.8888888888888888,
             "#fdca26"
            ],
            [
             1,
             "#f0f921"
            ]
           ],
           "sequentialminus": [
            [
             0,
             "#0d0887"
            ],
            [
             0.1111111111111111,
             "#46039f"
            ],
            [
             0.2222222222222222,
             "#7201a8"
            ],
            [
             0.3333333333333333,
             "#9c179e"
            ],
            [
             0.4444444444444444,
             "#bd3786"
            ],
            [
             0.5555555555555556,
             "#d8576b"
            ],
            [
             0.6666666666666666,
             "#ed7953"
            ],
            [
             0.7777777777777778,
             "#fb9f3a"
            ],
            [
             0.8888888888888888,
             "#fdca26"
            ],
            [
             1,
             "#f0f921"
            ]
           ]
          },
          "colorway": [
           "#636efa",
           "#EF553B",
           "#00cc96",
           "#ab63fa",
           "#FFA15A",
           "#19d3f3",
           "#FF6692",
           "#B6E880",
           "#FF97FF",
           "#FECB52"
          ],
          "font": {
           "color": "#2a3f5f"
          },
          "geo": {
           "bgcolor": "white",
           "lakecolor": "white",
           "landcolor": "#E5ECF6",
           "showlakes": true,
           "showland": true,
           "subunitcolor": "white"
          },
          "hoverlabel": {
           "align": "left"
          },
          "hovermode": "closest",
          "mapbox": {
           "style": "light"
          },
          "paper_bgcolor": "white",
          "plot_bgcolor": "#E5ECF6",
          "polar": {
           "angularaxis": {
            "gridcolor": "white",
            "linecolor": "white",
            "ticks": ""
           },
           "bgcolor": "#E5ECF6",
           "radialaxis": {
            "gridcolor": "white",
            "linecolor": "white",
            "ticks": ""
           }
          },
          "scene": {
           "xaxis": {
            "backgroundcolor": "#E5ECF6",
            "gridcolor": "white",
            "gridwidth": 2,
            "linecolor": "white",
            "showbackground": true,
            "ticks": "",
            "zerolinecolor": "white"
           },
           "yaxis": {
            "backgroundcolor": "#E5ECF6",
            "gridcolor": "white",
            "gridwidth": 2,
            "linecolor": "white",
            "showbackground": true,
            "ticks": "",
            "zerolinecolor": "white"
           },
           "zaxis": {
            "backgroundcolor": "#E5ECF6",
            "gridcolor": "white",
            "gridwidth": 2,
            "linecolor": "white",
            "showbackground": true,
            "ticks": "",
            "zerolinecolor": "white"
           }
          },
          "shapedefaults": {
           "line": {
            "color": "#2a3f5f"
           }
          },
          "ternary": {
           "aaxis": {
            "gridcolor": "white",
            "linecolor": "white",
            "ticks": ""
           },
           "baxis": {
            "gridcolor": "white",
            "linecolor": "white",
            "ticks": ""
           },
           "bgcolor": "#E5ECF6",
           "caxis": {
            "gridcolor": "white",
            "linecolor": "white",
            "ticks": ""
           }
          },
          "title": {
           "x": 0.05
          },
          "xaxis": {
           "automargin": true,
           "gridcolor": "white",
           "linecolor": "white",
           "ticks": "",
           "title": {
            "standoff": 15
           },
           "zerolinecolor": "white",
           "zerolinewidth": 2
          },
          "yaxis": {
           "automargin": true,
           "gridcolor": "white",
           "linecolor": "white",
           "ticks": "",
           "title": {
            "standoff": 15
           },
           "zerolinecolor": "white",
           "zerolinewidth": 2
          }
         }
        },
        "title": {
         "text": "AT7215 12S"
        },
        "xaxis": {
         "anchor": "y",
         "domain": [
          0,
          1
         ],
         "title": {
          "text": "Airspeed (m/s)"
         }
        },
        "yaxis": {
         "anchor": "x",
         "domain": [
          0,
          1
         ],
         "title": {
          "text": "Thrust (lbf)"
         }
        }
       }
      }
     },
     "metadata": {},
     "output_type": "display_data"
    }
   ],
   "source": [
    "for motor in df_max_12s[\"Motor\"].unique():\n",
    "    df_motor = df_max_12s[df_max_12s[\"Motor\"] == motor].sort_values(by=\"Airspeed\")\n",
    "    df_motor['Battery/Prop'] = df_motor['Battery'] + \"/\" + df_motor['Prop']\n",
    "    fig = px.scatter(df_motor, x=\"Airspeed\", y=\"Thrust\", color='Battery/Prop', title=motor + \" 12S\")\n",
    "    fig.update_traces(mode='lines+markers')\n",
    "    fig.update_layout(\n",
    "        xaxis_title=\"Airspeed (m/s)\",\n",
    "        yaxis_title=\"Thrust (lbf)\",\n",
    "        legend_title=\"Prop\",\n",
    "    )\n",
    "    fig.add_vrect(\n",
    "        x0=40, x1=60,\n",
    "        fillcolor=\"LightSalmon\", opacity=0.5,\n",
    "        layer=\"below\", line_width=0,\n",
    "    )\n",
    "    fig.add_annotation(\n",
    "        x=(60 + 40)/2, y=df_motor[\"Thrust\"].max(),\n",
    "        text=\"M2\",\n",
    "        showarrow=False,\n",
    "        font=dict(\n",
    "            size=16,\n",
    "            color=\"red\"\n",
    "        ),\n",
    "    )\n",
    "    fig.add_vrect(\n",
    "        x0=30, x1=40,\n",
    "        fillcolor=\"LightSeagreen\", opacity=0.5,\n",
    "        layer=\"below\", line_width=0,\n",
    "    )\n",
    "    fig.add_annotation(\n",
    "        x=(40 + 30)/2, y=df_motor[\"Thrust\"].max(),\n",
    "        text=\"M3\",\n",
    "        showarrow=False,\n",
    "        font=dict(\n",
    "            size=16,\n",
    "            color=\"seagreen\"\n",
    "        ),\n",
    "    )\n",
    "    fig.show()\n",
    "    fig.write_image(os.path.join(OUTPUT_DIR, f\"{motor}_12s_new.png\"), width=1000, height=500)"
   ]
  }
 ],
 "metadata": {
  "kernelspec": {
   "display_name": "Python 3",
   "language": "python",
   "name": "python3"
  },
  "language_info": {
   "codemirror_mode": {
    "name": "ipython",
    "version": 3
   },
   "file_extension": ".py",
   "mimetype": "text/x-python",
   "name": "python",
   "nbconvert_exporter": "python",
   "pygments_lexer": "ipython3",
   "version": "3.10.6"
  }
 },
 "nbformat": 4,
 "nbformat_minor": 2
}
